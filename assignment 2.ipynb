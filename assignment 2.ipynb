{
 "cells": [
  {
   "cell_type": "code",
   "execution_count": 3,
   "id": "59126444",
   "metadata": {},
   "outputs": [
    {
     "name": "stdout",
     "output_type": "stream",
     "text": [
      "Requirement already satisfied: selenium in c:\\users\\zenbook\\anaconda3\\lib\\site-packages (4.17.2)\n",
      "Requirement already satisfied: urllib3[socks]<3,>=1.26 in c:\\users\\zenbook\\anaconda3\\lib\\site-packages (from selenium) (1.26.16)\n",
      "Requirement already satisfied: trio~=0.17 in c:\\users\\zenbook\\anaconda3\\lib\\site-packages (from selenium) (0.24.0)\n",
      "Requirement already satisfied: trio-websocket~=0.9 in c:\\users\\zenbook\\anaconda3\\lib\\site-packages (from selenium) (0.11.1)\n",
      "Requirement already satisfied: certifi>=2021.10.8 in c:\\users\\zenbook\\anaconda3\\lib\\site-packages (from selenium) (2023.5.7)\n",
      "Requirement already satisfied: typing_extensions>=4.9.0 in c:\\users\\zenbook\\anaconda3\\lib\\site-packages (from selenium) (4.9.0)\n",
      "Requirement already satisfied: attrs>=20.1.0 in c:\\users\\zenbook\\anaconda3\\lib\\site-packages (from trio~=0.17->selenium) (22.1.0)\n",
      "Requirement already satisfied: sortedcontainers in c:\\users\\zenbook\\anaconda3\\lib\\site-packages (from trio~=0.17->selenium) (2.4.0)\n",
      "Requirement already satisfied: idna in c:\\users\\zenbook\\anaconda3\\lib\\site-packages (from trio~=0.17->selenium) (3.4)\n",
      "Requirement already satisfied: outcome in c:\\users\\zenbook\\anaconda3\\lib\\site-packages (from trio~=0.17->selenium) (1.3.0.post0)\n",
      "Requirement already satisfied: sniffio>=1.3.0 in c:\\users\\zenbook\\anaconda3\\lib\\site-packages (from trio~=0.17->selenium) (1.3.0)\n",
      "Requirement already satisfied: cffi>=1.14 in c:\\users\\zenbook\\anaconda3\\lib\\site-packages (from trio~=0.17->selenium) (1.15.1)\n",
      "Requirement already satisfied: wsproto>=0.14 in c:\\users\\zenbook\\anaconda3\\lib\\site-packages (from trio-websocket~=0.9->selenium) (1.2.0)\n",
      "Requirement already satisfied: PySocks!=1.5.7,<2.0,>=1.5.6 in c:\\users\\zenbook\\anaconda3\\lib\\site-packages (from urllib3[socks]<3,>=1.26->selenium) (1.7.1)\n",
      "Requirement already satisfied: pycparser in c:\\users\\zenbook\\anaconda3\\lib\\site-packages (from cffi>=1.14->trio~=0.17->selenium) (2.21)\n",
      "Requirement already satisfied: h11<1,>=0.9.0 in c:\\users\\zenbook\\anaconda3\\lib\\site-packages (from wsproto>=0.14->trio-websocket~=0.9->selenium) (0.14.0)\n"
     ]
    }
   ],
   "source": [
    "##Q.1 \n",
    "!pip install selenium\n",
    "\n",
    "import selenium\n",
    "from selenium import webdriver\n",
    "from selenium.webdriver.common.by import By\n",
    "import pandas as pd\n",
    "import warnings\n",
    "warnings.filterwarnings('ignore')\n",
    "import time"
   ]
  },
  {
   "cell_type": "code",
   "execution_count": 4,
   "id": "9fd05dfe",
   "metadata": {},
   "outputs": [],
   "source": [
    "driver=webdriver.Chrome()\n",
    "driver.get(\"https://www.shine.com/\")"
   ]
  },
  {
   "cell_type": "code",
   "execution_count": 5,
   "id": "2eef06d7",
   "metadata": {},
   "outputs": [
    {
     "data": {
      "text/plain": [
       "<selenium.webdriver.remote.webelement.WebElement (session=\"434ecd38db47f8cc7445e0f10c3d8282\", element=\"F915ECFE693BD0A162E59AF62A4AE711_element_15\")>"
      ]
     },
     "execution_count": 5,
     "metadata": {},
     "output_type": "execute_result"
    }
   ],
   "source": [
    "search_jobtitle=driver.find_element(By.XPATH,\"//input[@class='input']\")\n",
    "#search_jobtitle=driver.find_element(By.ID,\"id_q\")\n",
    "search_jobtitle"
   ]
  },
  {
   "cell_type": "code",
   "execution_count": 6,
   "id": "971c6985",
   "metadata": {},
   "outputs": [],
   "source": [
    "search_jobtitle.send_keys('data analyst')"
   ]
  },
  {
   "cell_type": "code",
   "execution_count": 7,
   "id": "d9ed6e3d",
   "metadata": {},
   "outputs": [],
   "source": [
    "search_loc=driver.find_element(By.XPATH,\"//input[@class='input']\")\n",
    "#search_loc=driver.find_element(By.XPATH,\"//li[@class='searchForm_search_item__hr6Du form-group']\")\n",
    "search_loc.send_keys('bangalore')"
   ]
  },
  {
   "cell_type": "code",
   "execution_count": 8,
   "id": "f43b1588",
   "metadata": {},
   "outputs": [
    {
     "data": {
      "text/plain": [
       "<selenium.webdriver.remote.webelement.WebElement (session=\"434ecd38db47f8cc7445e0f10c3d8282\", element=\"F915ECFE693BD0A162E59AF62A4AE711_element_44\")>"
      ]
     },
     "execution_count": 8,
     "metadata": {},
     "output_type": "execute_result"
    }
   ],
   "source": [
    "search_btn= driver .find_element(By.XPATH,\"//span[@class='btn']\")\n",
    "search_btn"
   ]
  },
  {
   "cell_type": "code",
   "execution_count": 9,
   "id": "10ec72c0",
   "metadata": {},
   "outputs": [
    {
     "ename": "ElementClickInterceptedException",
     "evalue": "Message: element click intercepted: Element <span class=\"btn\">...</span> is not clickable at point (599, 70). Other element would receive the click: <p class=\"modal_notification_title__v7kmN\">...</p>\n  (Session info: chrome=121.0.6167.86)\nStacktrace:\n\tGetHandleVerifier [0x00007FF675605E42+3538674]\n\t(No symbol) [0x00007FF675224C02]\n\t(No symbol) [0x00007FF6750D5AEB]\n\t(No symbol) [0x00007FF6751233E4]\n\t(No symbol) [0x00007FF675121122]\n\t(No symbol) [0x00007FF67511E884]\n\t(No symbol) [0x00007FF67511D5A9]\n\t(No symbol) [0x00007FF675111950]\n\t(No symbol) [0x00007FF67513F0AA]\n\t(No symbol) [0x00007FF67511124A]\n\t(No symbol) [0x00007FF67513F2C0]\n\t(No symbol) [0x00007FF67515BDE3]\n\t(No symbol) [0x00007FF67513EE53]\n\t(No symbol) [0x00007FF67510F514]\n\t(No symbol) [0x00007FF675110631]\n\tGetHandleVerifier [0x00007FF675636CAD+3738973]\n\tGetHandleVerifier [0x00007FF67568C506+4089270]\n\tGetHandleVerifier [0x00007FF675684823+4057299]\n\tGetHandleVerifier [0x00007FF675355C49+720121]\n\t(No symbol) [0x00007FF67523126F]\n\t(No symbol) [0x00007FF67522C304]\n\t(No symbol) [0x00007FF67522C432]\n\t(No symbol) [0x00007FF67521BD04]\n\tBaseThreadInitThunk [0x00007FFE6871257D+29]\n\tRtlUserThreadStart [0x00007FFE68E6AA58+40]\n",
     "output_type": "error",
     "traceback": [
      "\u001b[1;31m---------------------------------------------------------------------------\u001b[0m",
      "\u001b[1;31mElementClickInterceptedException\u001b[0m          Traceback (most recent call last)",
      "Cell \u001b[1;32mIn[9], line 2\u001b[0m\n\u001b[0;32m      1\u001b[0m search_btn\u001b[38;5;241m=\u001b[39mdriver\u001b[38;5;241m.\u001b[39mfind_element(By\u001b[38;5;241m.\u001b[39mXPATH,\u001b[38;5;124m\"\u001b[39m\u001b[38;5;124m//span[@class=\u001b[39m\u001b[38;5;124m'\u001b[39m\u001b[38;5;124mbtn\u001b[39m\u001b[38;5;124m'\u001b[39m\u001b[38;5;124m]\u001b[39m\u001b[38;5;124m\"\u001b[39m)\n\u001b[1;32m----> 2\u001b[0m search_btn\u001b[38;5;241m.\u001b[39mclick()\n",
      "File \u001b[1;32m~\\anaconda3\\Lib\\site-packages\\selenium\\webdriver\\remote\\webelement.py:94\u001b[0m, in \u001b[0;36mWebElement.click\u001b[1;34m(self)\u001b[0m\n\u001b[0;32m     92\u001b[0m \u001b[38;5;28;01mdef\u001b[39;00m \u001b[38;5;21mclick\u001b[39m(\u001b[38;5;28mself\u001b[39m) \u001b[38;5;241m-\u001b[39m\u001b[38;5;241m>\u001b[39m \u001b[38;5;28;01mNone\u001b[39;00m:\n\u001b[0;32m     93\u001b[0m \u001b[38;5;250m    \u001b[39m\u001b[38;5;124;03m\"\"\"Clicks the element.\"\"\"\u001b[39;00m\n\u001b[1;32m---> 94\u001b[0m     \u001b[38;5;28mself\u001b[39m\u001b[38;5;241m.\u001b[39m_execute(Command\u001b[38;5;241m.\u001b[39mCLICK_ELEMENT)\n",
      "File \u001b[1;32m~\\anaconda3\\Lib\\site-packages\\selenium\\webdriver\\remote\\webelement.py:395\u001b[0m, in \u001b[0;36mWebElement._execute\u001b[1;34m(self, command, params)\u001b[0m\n\u001b[0;32m    393\u001b[0m     params \u001b[38;5;241m=\u001b[39m {}\n\u001b[0;32m    394\u001b[0m params[\u001b[38;5;124m\"\u001b[39m\u001b[38;5;124mid\u001b[39m\u001b[38;5;124m\"\u001b[39m] \u001b[38;5;241m=\u001b[39m \u001b[38;5;28mself\u001b[39m\u001b[38;5;241m.\u001b[39m_id\n\u001b[1;32m--> 395\u001b[0m \u001b[38;5;28;01mreturn\u001b[39;00m \u001b[38;5;28mself\u001b[39m\u001b[38;5;241m.\u001b[39m_parent\u001b[38;5;241m.\u001b[39mexecute(command, params)\n",
      "File \u001b[1;32m~\\anaconda3\\Lib\\site-packages\\selenium\\webdriver\\remote\\webdriver.py:347\u001b[0m, in \u001b[0;36mWebDriver.execute\u001b[1;34m(self, driver_command, params)\u001b[0m\n\u001b[0;32m    345\u001b[0m response \u001b[38;5;241m=\u001b[39m \u001b[38;5;28mself\u001b[39m\u001b[38;5;241m.\u001b[39mcommand_executor\u001b[38;5;241m.\u001b[39mexecute(driver_command, params)\n\u001b[0;32m    346\u001b[0m \u001b[38;5;28;01mif\u001b[39;00m response:\n\u001b[1;32m--> 347\u001b[0m     \u001b[38;5;28mself\u001b[39m\u001b[38;5;241m.\u001b[39merror_handler\u001b[38;5;241m.\u001b[39mcheck_response(response)\n\u001b[0;32m    348\u001b[0m     response[\u001b[38;5;124m\"\u001b[39m\u001b[38;5;124mvalue\u001b[39m\u001b[38;5;124m\"\u001b[39m] \u001b[38;5;241m=\u001b[39m \u001b[38;5;28mself\u001b[39m\u001b[38;5;241m.\u001b[39m_unwrap_value(response\u001b[38;5;241m.\u001b[39mget(\u001b[38;5;124m\"\u001b[39m\u001b[38;5;124mvalue\u001b[39m\u001b[38;5;124m\"\u001b[39m, \u001b[38;5;28;01mNone\u001b[39;00m))\n\u001b[0;32m    349\u001b[0m     \u001b[38;5;28;01mreturn\u001b[39;00m response\n",
      "File \u001b[1;32m~\\anaconda3\\Lib\\site-packages\\selenium\\webdriver\\remote\\errorhandler.py:229\u001b[0m, in \u001b[0;36mErrorHandler.check_response\u001b[1;34m(self, response)\u001b[0m\n\u001b[0;32m    227\u001b[0m         alert_text \u001b[38;5;241m=\u001b[39m value[\u001b[38;5;124m\"\u001b[39m\u001b[38;5;124malert\u001b[39m\u001b[38;5;124m\"\u001b[39m]\u001b[38;5;241m.\u001b[39mget(\u001b[38;5;124m\"\u001b[39m\u001b[38;5;124mtext\u001b[39m\u001b[38;5;124m\"\u001b[39m)\n\u001b[0;32m    228\u001b[0m     \u001b[38;5;28;01mraise\u001b[39;00m exception_class(message, screen, stacktrace, alert_text)  \u001b[38;5;66;03m# type: ignore[call-arg]  # mypy is not smart enough here\u001b[39;00m\n\u001b[1;32m--> 229\u001b[0m \u001b[38;5;28;01mraise\u001b[39;00m exception_class(message, screen, stacktrace)\n",
      "\u001b[1;31mElementClickInterceptedException\u001b[0m: Message: element click intercepted: Element <span class=\"btn\">...</span> is not clickable at point (599, 70). Other element would receive the click: <p class=\"modal_notification_title__v7kmN\">...</p>\n  (Session info: chrome=121.0.6167.86)\nStacktrace:\n\tGetHandleVerifier [0x00007FF675605E42+3538674]\n\t(No symbol) [0x00007FF675224C02]\n\t(No symbol) [0x00007FF6750D5AEB]\n\t(No symbol) [0x00007FF6751233E4]\n\t(No symbol) [0x00007FF675121122]\n\t(No symbol) [0x00007FF67511E884]\n\t(No symbol) [0x00007FF67511D5A9]\n\t(No symbol) [0x00007FF675111950]\n\t(No symbol) [0x00007FF67513F0AA]\n\t(No symbol) [0x00007FF67511124A]\n\t(No symbol) [0x00007FF67513F2C0]\n\t(No symbol) [0x00007FF67515BDE3]\n\t(No symbol) [0x00007FF67513EE53]\n\t(No symbol) [0x00007FF67510F514]\n\t(No symbol) [0x00007FF675110631]\n\tGetHandleVerifier [0x00007FF675636CAD+3738973]\n\tGetHandleVerifier [0x00007FF67568C506+4089270]\n\tGetHandleVerifier [0x00007FF675684823+4057299]\n\tGetHandleVerifier [0x00007FF675355C49+720121]\n\t(No symbol) [0x00007FF67523126F]\n\t(No symbol) [0x00007FF67522C304]\n\t(No symbol) [0x00007FF67522C432]\n\t(No symbol) [0x00007FF67521BD04]\n\tBaseThreadInitThunk [0x00007FFE6871257D+29]\n\tRtlUserThreadStart [0x00007FFE68E6AA58+40]\n"
     ]
    }
   ],
   "source": [
    "search_btn=driver.find_element(By.XPATH,\"//span[@class='btn']\")\n",
    "search_btn.click()\n"
   ]
  },
  {
   "cell_type": "code",
   "execution_count": null,
   "id": "58aaca16",
   "metadata": {},
   "outputs": [],
   "source": []
  },
  {
   "cell_type": "code",
   "execution_count": null,
   "id": "071245c7",
   "metadata": {},
   "outputs": [],
   "source": [
    "##due to above exception unable to proceed"
   ]
  },
  {
   "cell_type": "code",
   "execution_count": null,
   "id": "fec708e6",
   "metadata": {},
   "outputs": [],
   "source": [
    "##Q2,3,5 unable to proceed"
   ]
  },
  {
   "cell_type": "code",
   "execution_count": null,
   "id": "ca247ec7",
   "metadata": {},
   "outputs": [],
   "source": []
  },
  {
   "cell_type": "code",
   "execution_count": null,
   "id": "88329885",
   "metadata": {},
   "outputs": [],
   "source": []
  },
  {
   "cell_type": "code",
   "execution_count": null,
   "id": "aab0b573",
   "metadata": {},
   "outputs": [],
   "source": []
  },
  {
   "cell_type": "code",
   "execution_count": null,
   "id": "37df0287",
   "metadata": {},
   "outputs": [],
   "source": []
  },
  {
   "cell_type": "code",
   "execution_count": null,
   "id": "1bd3c70a",
   "metadata": {},
   "outputs": [],
   "source": []
  },
  {
   "cell_type": "code",
   "execution_count": null,
   "id": "1bf91938",
   "metadata": {},
   "outputs": [],
   "source": []
  },
  {
   "cell_type": "code",
   "execution_count": 94,
   "id": "003ae487",
   "metadata": {},
   "outputs": [],
   "source": [
    "##Q4 \n",
    "import selenium\n",
    "from selenium import webdriver\n",
    "from selenium.webdriver.common.by import By\n",
    "import pandas as pd\n",
    "import warnings\n",
    "warnings.filterwarnings('ignore')\n",
    "import time\n"
   ]
  },
  {
   "cell_type": "code",
   "execution_count": 95,
   "id": "5c445754",
   "metadata": {},
   "outputs": [],
   "source": [
    "driver=webdriver.Chrome()\n",
    "url=\"https://www.flipkart.com/\"\n",
    "driver.get(url)"
   ]
  },
  {
   "cell_type": "code",
   "execution_count": 96,
   "id": "01dcc9b1",
   "metadata": {},
   "outputs": [],
   "source": [
    "search_glasses=driver.find_element(By.XPATH,\"//input[@type='text']\")\n",
    "search_glasses.send_keys('sunglasses')\n",
    "\n"
   ]
  },
  {
   "cell_type": "code",
   "execution_count": 97,
   "id": "e2984bd9",
   "metadata": {},
   "outputs": [
    {
     "data": {
      "text/plain": [
       "<selenium.webdriver.remote.webelement.WebElement (session=\"b9863bcd7f35f52fd63f26be6c530292\", element=\"8494063C9906CA499663BF8342A9C65D_element_101\")>"
      ]
     },
     "execution_count": 97,
     "metadata": {},
     "output_type": "execute_result"
    }
   ],
   "source": [
    "search_button=driver.find_element(By.XPATH,\"//button[@class='_2iLD__']\")\n",
    "search_button"
   ]
  },
  {
   "cell_type": "code",
   "execution_count": 98,
   "id": "c99027e0",
   "metadata": {},
   "outputs": [],
   "source": [
    "search_button=driver.find_element(By.CLASS_NAME,'_2iLD__')\n",
    "search_button.click()"
   ]
  },
  {
   "cell_type": "code",
   "execution_count": 99,
   "id": "7d81dcf6",
   "metadata": {},
   "outputs": [],
   "source": [
    "Brand_name=[]\n",
    "Pdt_desc=[]\n",
    "Price=[]\n"
   ]
  },
  {
   "cell_type": "code",
   "execution_count": 100,
   "id": "4fcf8f4b",
   "metadata": {},
   "outputs": [],
   "source": [
    "for i in range(3):\n",
    "    TEMPBrand_name=driver.find_elements(By.XPATH,\"//div[@class='_2WkVRV']\")\n",
    "    TEMPPdt_desc=driver.find_elements(By.XPATH,\"//a[@class='IRpwTa']\")\n",
    "    TEMPPrice =driver.find_elements(By.XPATH,\"//div[@class='_30jeq3']\")\n",
    "    \n",
    "\n",
    "\n",
    "    for j in TEMPBrand_name:\n",
    "            Brand_name.append(j.text)\n",
    "            Brand_name[:100]    \n",
    "    \n",
    "    \n",
    "    for k in TEMPPdt_desc:\n",
    "            Pdt_desc.append(k.text)\n",
    "            Pdt_desc[:100] \n",
    "    \n",
    "    \n",
    "    for l in TEMPPrice:\n",
    "            Price.append(l.text)\n",
    "            Price[:100] \n",
    "    "
   ]
  },
  {
   "cell_type": "code",
   "execution_count": 101,
   "id": "7d49a215",
   "metadata": {},
   "outputs": [
    {
     "data": {
      "text/plain": [
       "['Eyenaks',\n",
       " 'ROYAL SON',\n",
       " 'ROADWAY',\n",
       " 'SRPM',\n",
       " 'ROADWAY',\n",
       " 'Rich Club',\n",
       " 'Elligator',\n",
       " 'NuVew',\n",
       " 'Elligator',\n",
       " 'Elligator',\n",
       " 'Eyewearlabs',\n",
       " 'Eyewearlabs',\n",
       " 'Fastrack',\n",
       " 'Zeemork',\n",
       " 'VINCENT CHASE',\n",
       " 'Fastrack',\n",
       " 'AISLIN',\n",
       " 'ROYAL SON',\n",
       " 'Aarna Fashion',\n",
       " 'Elligator',\n",
       " 'ROYAL SON',\n",
       " 'Eyewearlabs',\n",
       " 'Fastrack',\n",
       " 'Fastrack',\n",
       " 'PIRASO',\n",
       " 'PIRASO',\n",
       " 'AISLIN',\n",
       " 'ROYAL SON',\n",
       " 'Aarna Fashion',\n",
       " 'Fastrack',\n",
       " 'ROYAL SON',\n",
       " 'ROYAL SON',\n",
       " 'hipe',\n",
       " 'Rich Club',\n",
       " 'doah',\n",
       " 'Fastrack',\n",
       " 'Irayz',\n",
       " 'Eyewearlabs',\n",
       " 'Elligator',\n",
       " 'ROADWAY',\n",
       " 'Eyenaks',\n",
       " 'ROYAL SON',\n",
       " 'ROADWAY',\n",
       " 'SRPM',\n",
       " 'ROADWAY',\n",
       " 'Rich Club',\n",
       " 'Elligator',\n",
       " 'NuVew',\n",
       " 'Elligator',\n",
       " 'Elligator',\n",
       " 'Eyewearlabs',\n",
       " 'Eyewearlabs',\n",
       " 'Fastrack',\n",
       " 'Zeemork',\n",
       " 'VINCENT CHASE',\n",
       " 'Fastrack',\n",
       " 'AISLIN',\n",
       " 'ROYAL SON',\n",
       " 'Aarna Fashion',\n",
       " 'Elligator',\n",
       " 'ROYAL SON',\n",
       " 'Eyewearlabs',\n",
       " 'Fastrack',\n",
       " 'Fastrack',\n",
       " 'PIRASO',\n",
       " 'PIRASO',\n",
       " 'AISLIN',\n",
       " 'ROYAL SON',\n",
       " 'Aarna Fashion',\n",
       " 'Fastrack',\n",
       " 'ROYAL SON',\n",
       " 'ROYAL SON',\n",
       " 'hipe',\n",
       " 'Rich Club',\n",
       " 'doah',\n",
       " 'Fastrack',\n",
       " 'Irayz',\n",
       " 'Eyewearlabs',\n",
       " 'Elligator',\n",
       " 'ROADWAY',\n",
       " 'Eyenaks',\n",
       " 'ROYAL SON',\n",
       " 'ROADWAY',\n",
       " 'SRPM',\n",
       " 'ROADWAY',\n",
       " 'Rich Club',\n",
       " 'Elligator',\n",
       " 'NuVew',\n",
       " 'Elligator',\n",
       " 'Elligator',\n",
       " 'Eyewearlabs',\n",
       " 'Eyewearlabs',\n",
       " 'Fastrack',\n",
       " 'Zeemork',\n",
       " 'VINCENT CHASE',\n",
       " 'Fastrack',\n",
       " 'AISLIN',\n",
       " 'ROYAL SON',\n",
       " 'Aarna Fashion',\n",
       " 'Elligator']"
      ]
     },
     "execution_count": 101,
     "metadata": {},
     "output_type": "execute_result"
    }
   ],
   "source": [
    "Brand_name[:100]"
   ]
  },
  {
   "cell_type": "code",
   "execution_count": 102,
   "id": "ad5cb99b",
   "metadata": {},
   "outputs": [],
   "source": [
    "sun_gl=pd.DataFrame({})\n",
    "sun_gl['Brand_name']=Brand_name[:100]\n",
    "sun_gl['Price']=Price[:100]\n",
    "sun_gl['Pdt_desc']=Pdt_desc[:100]"
   ]
  },
  {
   "cell_type": "code",
   "execution_count": 103,
   "id": "ac8f2811",
   "metadata": {},
   "outputs": [
    {
     "data": {
      "text/html": [
       "<div>\n",
       "<style scoped>\n",
       "    .dataframe tbody tr th:only-of-type {\n",
       "        vertical-align: middle;\n",
       "    }\n",
       "\n",
       "    .dataframe tbody tr th {\n",
       "        vertical-align: top;\n",
       "    }\n",
       "\n",
       "    .dataframe thead th {\n",
       "        text-align: right;\n",
       "    }\n",
       "</style>\n",
       "<table border=\"1\" class=\"dataframe\">\n",
       "  <thead>\n",
       "    <tr style=\"text-align: right;\">\n",
       "      <th></th>\n",
       "      <th>Brand_name</th>\n",
       "      <th>Price</th>\n",
       "      <th>Pdt_desc</th>\n",
       "    </tr>\n",
       "  </thead>\n",
       "  <tbody>\n",
       "    <tr>\n",
       "      <th>0</th>\n",
       "      <td>Eyenaks</td>\n",
       "      <td>₹346</td>\n",
       "      <td>UV Protection Rectangular Sunglasses (Free Size)</td>\n",
       "    </tr>\n",
       "    <tr>\n",
       "      <th>1</th>\n",
       "      <td>ROYAL SON</td>\n",
       "      <td>₹359</td>\n",
       "      <td>Mirrored Aviator Sunglasses (58)</td>\n",
       "    </tr>\n",
       "    <tr>\n",
       "      <th>2</th>\n",
       "      <td>ROADWAY</td>\n",
       "      <td>₹129</td>\n",
       "      <td>UV Protection Wayfarer, Sports, Spectacle , Re...</td>\n",
       "    </tr>\n",
       "    <tr>\n",
       "      <th>3</th>\n",
       "      <td>SRPM</td>\n",
       "      <td>₹169</td>\n",
       "      <td>UV Protection Wayfarer Sunglasses (50)</td>\n",
       "    </tr>\n",
       "    <tr>\n",
       "      <th>4</th>\n",
       "      <td>ROADWAY</td>\n",
       "      <td>₹189</td>\n",
       "      <td>UV Protection Wayfarer Sunglasses (Free Size)</td>\n",
       "    </tr>\n",
       "    <tr>\n",
       "      <th>...</th>\n",
       "      <td>...</td>\n",
       "      <td>...</td>\n",
       "      <td>...</td>\n",
       "    </tr>\n",
       "    <tr>\n",
       "      <th>95</th>\n",
       "      <td>Fastrack</td>\n",
       "      <td>₹549</td>\n",
       "      <td>UV Protection Round Sunglasses (50)</td>\n",
       "    </tr>\n",
       "    <tr>\n",
       "      <th>96</th>\n",
       "      <td>AISLIN</td>\n",
       "      <td>₹418</td>\n",
       "      <td>Polarized, UV Protection Round Sunglasses (47)</td>\n",
       "    </tr>\n",
       "    <tr>\n",
       "      <th>97</th>\n",
       "      <td>ROYAL SON</td>\n",
       "      <td>₹672</td>\n",
       "      <td>UV Protection Shield Sunglasses (Free Size)</td>\n",
       "    </tr>\n",
       "    <tr>\n",
       "      <th>98</th>\n",
       "      <td>Aarna Fashion</td>\n",
       "      <td>₹149</td>\n",
       "      <td>UV Protection Wayfarer Sunglasses (Free Size)</td>\n",
       "    </tr>\n",
       "    <tr>\n",
       "      <th>99</th>\n",
       "      <td>Elligator</td>\n",
       "      <td>₹159</td>\n",
       "      <td>UV Protection Butterfly Sunglasses (60)</td>\n",
       "    </tr>\n",
       "  </tbody>\n",
       "</table>\n",
       "<p>100 rows × 3 columns</p>\n",
       "</div>"
      ],
      "text/plain": [
       "       Brand_name Price                                           Pdt_desc\n",
       "0         Eyenaks  ₹346   UV Protection Rectangular Sunglasses (Free Size)\n",
       "1       ROYAL SON  ₹359                   Mirrored Aviator Sunglasses (58)\n",
       "2         ROADWAY  ₹129  UV Protection Wayfarer, Sports, Spectacle , Re...\n",
       "3            SRPM  ₹169             UV Protection Wayfarer Sunglasses (50)\n",
       "4         ROADWAY  ₹189      UV Protection Wayfarer Sunglasses (Free Size)\n",
       "..            ...   ...                                                ...\n",
       "95       Fastrack  ₹549                UV Protection Round Sunglasses (50)\n",
       "96         AISLIN  ₹418     Polarized, UV Protection Round Sunglasses (47)\n",
       "97      ROYAL SON  ₹672        UV Protection Shield Sunglasses (Free Size)\n",
       "98  Aarna Fashion  ₹149      UV Protection Wayfarer Sunglasses (Free Size)\n",
       "99      Elligator  ₹159            UV Protection Butterfly Sunglasses (60)\n",
       "\n",
       "[100 rows x 3 columns]"
      ]
     },
     "execution_count": 103,
     "metadata": {},
     "output_type": "execute_result"
    }
   ],
   "source": [
    "sun_gl"
   ]
  },
  {
   "cell_type": "code",
   "execution_count": null,
   "id": "c672a2ad",
   "metadata": {},
   "outputs": [],
   "source": []
  },
  {
   "cell_type": "code",
   "execution_count": null,
   "id": "51753cfc",
   "metadata": {},
   "outputs": [],
   "source": []
  },
  {
   "cell_type": "code",
   "execution_count": null,
   "id": "a747fe52",
   "metadata": {},
   "outputs": [],
   "source": [
    "##Q6"
   ]
  },
  {
   "cell_type": "code",
   "execution_count": 104,
   "id": "e9113ad2",
   "metadata": {},
   "outputs": [],
   "source": [
    "import selenium\n",
    "from selenium import webdriver\n",
    "from selenium.webdriver.common.by import By\n",
    "import pandas as pd\n",
    "import warnings\n",
    "warnings.filterwarnings('ignore')\n",
    "import time\n"
   ]
  },
  {
   "cell_type": "code",
   "execution_count": 105,
   "id": "e0d5b2a5",
   "metadata": {},
   "outputs": [],
   "source": [
    "driver=webdriver.Chrome()\n",
    "\n",
    "\n",
    "url=\"https://www.flipkart.com/\"\n",
    "driver.get(url)"
   ]
  },
  {
   "cell_type": "code",
   "execution_count": null,
   "id": "4965cd34",
   "metadata": {},
   "outputs": [],
   "source": []
  },
  {
   "cell_type": "code",
   "execution_count": 106,
   "id": "c6caf324",
   "metadata": {},
   "outputs": [
    {
     "data": {
      "text/plain": [
       "<selenium.webdriver.remote.webelement.WebElement (session=\"ae897ed3a4186f1301e5c88a2db7dc53\", element=\"0C486E189AD9E59A135DD97A4B9264CD_element_97\")>"
      ]
     },
     "execution_count": 106,
     "metadata": {},
     "output_type": "execute_result"
    }
   ],
   "source": [
    "search_g=driver.find_element(By.XPATH,\"//input[@type='text']\")\n",
    "search_g"
   ]
  },
  {
   "cell_type": "code",
   "execution_count": 107,
   "id": "d6218507",
   "metadata": {},
   "outputs": [],
   "source": [
    "search_g.send_keys('sneakers')"
   ]
  },
  {
   "cell_type": "code",
   "execution_count": 108,
   "id": "8e8c6916",
   "metadata": {},
   "outputs": [
    {
     "data": {
      "text/plain": [
       "<selenium.webdriver.remote.webelement.WebElement (session=\"ae897ed3a4186f1301e5c88a2db7dc53\", element=\"0C486E189AD9E59A135DD97A4B9264CD_element_120\")>"
      ]
     },
     "execution_count": 108,
     "metadata": {},
     "output_type": "execute_result"
    }
   ],
   "source": [
    "search_btn=driver.find_element(By.XPATH,\"//button[@class='_2iLD__']\")\n",
    "search_btn"
   ]
  },
  {
   "cell_type": "code",
   "execution_count": 109,
   "id": "d7aaf1c4",
   "metadata": {},
   "outputs": [],
   "source": [
    "search_btn=driver.find_element(By.CLASS_NAME,'_2iLD__')\n",
    "search_btn.click()"
   ]
  },
  {
   "cell_type": "code",
   "execution_count": 110,
   "id": "94bb076b",
   "metadata": {},
   "outputs": [],
   "source": [
    "B_name=[]\n",
    "Price=[]\n",
    "P_desc=[]\n"
   ]
  },
  {
   "cell_type": "code",
   "execution_count": 116,
   "id": "0e1f0db3",
   "metadata": {},
   "outputs": [],
   "source": [
    "for i in range(3):\n",
    "    tempB_name=driver.find_elements(By.XPATH,\".//div[@class='_2WkVRV']\")\n",
    "    tempP_desc=driver.find_elements(By.XPATH,\"//a[@class='IRpwTa']\")\n",
    "    tempPrice =driver.find_elements(By.XPATH,\"//div[@class='_25b18c']\")\n",
    "    \n",
    "    for j  in tempB_name:\n",
    "        B_name.append(j.text)\n",
    "    B_name[:100]    \n",
    "    \n",
    "    \n",
    "    \n",
    "    for k in tempP_desc:\n",
    "        P_desc.append(k.text)\n",
    "    P_desc[:100] \n",
    "    \n",
    "    \n",
    "    for l in tempPrice:\n",
    "        Price.append(l.text)\n",
    "    Price[:100] \n",
    "    \n",
    "    "
   ]
  },
  {
   "cell_type": "code",
   "execution_count": 117,
   "id": "4964e9f3",
   "metadata": {},
   "outputs": [
    {
     "data": {
      "text/plain": [
       "['BRUTON',\n",
       " 'BRUTON',\n",
       " 'Deals4you',\n",
       " 'URBANBOX',\n",
       " 'RED TAPE',\n",
       " 'RED TAPE',\n",
       " 'BRUTON',\n",
       " 'BRUTON',\n",
       " 'Shoe Lab',\n",
       " 'RED TAPE',\n",
       " 'BRUTON',\n",
       " 'BRUTON',\n",
       " 'ATOM',\n",
       " 'PUMA',\n",
       " 'BRUTON',\n",
       " 'RED TAPE',\n",
       " 'BRUTON',\n",
       " 'BRUTON',\n",
       " 'RED TAPE',\n",
       " 'Shoe Lab',\n",
       " 'BRUTON',\n",
       " 'BRUTON',\n",
       " 'RED TAPE',\n",
       " 'RED TAPE',\n",
       " 'Layasa',\n",
       " 'RED TAPE',\n",
       " 'BRUTON',\n",
       " 'Magnolia',\n",
       " 'RED TAPE',\n",
       " 'UNDER ARMOUR',\n",
       " 'aadi',\n",
       " 'BRUTON',\n",
       " 'RED TAPE',\n",
       " 'U.S. POLO ASSN.',\n",
       " 'RED TAPE',\n",
       " 'Shoe Lab',\n",
       " 'BRUTON',\n",
       " 'BRUTON',\n",
       " 'HRX by Hrithik Roshan',\n",
       " 'PUMA',\n",
       " 'BRUTON',\n",
       " 'BRUTON',\n",
       " 'Deals4you',\n",
       " 'URBANBOX',\n",
       " 'RED TAPE',\n",
       " 'RED TAPE',\n",
       " 'BRUTON',\n",
       " 'BRUTON',\n",
       " 'Shoe Lab',\n",
       " 'RED TAPE',\n",
       " 'BRUTON',\n",
       " 'BRUTON',\n",
       " 'ATOM',\n",
       " 'PUMA',\n",
       " 'BRUTON',\n",
       " 'RED TAPE',\n",
       " 'BRUTON',\n",
       " 'BRUTON',\n",
       " 'RED TAPE',\n",
       " 'Shoe Lab',\n",
       " 'BRUTON',\n",
       " 'BRUTON',\n",
       " 'RED TAPE',\n",
       " 'RED TAPE',\n",
       " 'Layasa',\n",
       " 'RED TAPE',\n",
       " 'BRUTON',\n",
       " 'Magnolia',\n",
       " 'RED TAPE',\n",
       " 'UNDER ARMOUR',\n",
       " 'aadi',\n",
       " 'BRUTON',\n",
       " 'RED TAPE',\n",
       " 'U.S. POLO ASSN.',\n",
       " 'RED TAPE',\n",
       " 'Shoe Lab',\n",
       " 'BRUTON',\n",
       " 'BRUTON',\n",
       " 'HRX by Hrithik Roshan',\n",
       " 'PUMA',\n",
       " 'BRUTON',\n",
       " 'BRUTON',\n",
       " 'Deals4you',\n",
       " 'URBANBOX',\n",
       " 'RED TAPE',\n",
       " 'RED TAPE',\n",
       " 'BRUTON',\n",
       " 'BRUTON',\n",
       " 'Shoe Lab',\n",
       " 'RED TAPE',\n",
       " 'BRUTON',\n",
       " 'BRUTON',\n",
       " 'ATOM',\n",
       " 'PUMA',\n",
       " 'BRUTON',\n",
       " 'RED TAPE',\n",
       " 'BRUTON',\n",
       " 'BRUTON',\n",
       " 'RED TAPE',\n",
       " 'Shoe Lab']"
      ]
     },
     "execution_count": 117,
     "metadata": {},
     "output_type": "execute_result"
    }
   ],
   "source": [
    "B_name[:100]"
   ]
  },
  {
   "cell_type": "code",
   "execution_count": 118,
   "id": "4768b9f0",
   "metadata": {},
   "outputs": [
    {
     "name": "stdout",
     "output_type": "stream",
     "text": [
      "100\n",
      "100\n",
      "100\n"
     ]
    }
   ],
   "source": [
    "print(len(B_name[:100]))\n",
    "print(len(Price[:100]))\n",
    "print(len(P_desc[:100]))"
   ]
  },
  {
   "cell_type": "code",
   "execution_count": 119,
   "id": "bd9b00de",
   "metadata": {},
   "outputs": [],
   "source": [
    "sneaker=pd.DataFrame({})\n",
    "sneaker['Brand_name']=B_name[:100]\n",
    "#print(B_name)\n",
    "#print(P_desc)\n",
    "#print(Price)\n",
    "sneaker['P_price']=Price[:100]\n",
    "sneaker['Pr_desc']=P_desc[:100]"
   ]
  },
  {
   "cell_type": "code",
   "execution_count": 120,
   "id": "5802f179",
   "metadata": {},
   "outputs": [
    {
     "data": {
      "text/html": [
       "<div>\n",
       "<style scoped>\n",
       "    .dataframe tbody tr th:only-of-type {\n",
       "        vertical-align: middle;\n",
       "    }\n",
       "\n",
       "    .dataframe tbody tr th {\n",
       "        vertical-align: top;\n",
       "    }\n",
       "\n",
       "    .dataframe thead th {\n",
       "        text-align: right;\n",
       "    }\n",
       "</style>\n",
       "<table border=\"1\" class=\"dataframe\">\n",
       "  <thead>\n",
       "    <tr style=\"text-align: right;\">\n",
       "      <th></th>\n",
       "      <th>Brand_name</th>\n",
       "      <th>P_price</th>\n",
       "      <th>Pr_desc</th>\n",
       "    </tr>\n",
       "  </thead>\n",
       "  <tbody>\n",
       "    <tr>\n",
       "      <th>0</th>\n",
       "      <td>BRUTON</td>\n",
       "      <td>₹333₹1,29974% off</td>\n",
       "      <td>Synthetic Leather |Lightweight|Comfort|Summer|...</td>\n",
       "    </tr>\n",
       "    <tr>\n",
       "      <th>1</th>\n",
       "      <td>BRUTON</td>\n",
       "      <td>₹550₹2,49977% off</td>\n",
       "      <td>Combo pack of 2 Trendy Men’s Casual Shoes Snea...</td>\n",
       "    </tr>\n",
       "    <tr>\n",
       "      <th>2</th>\n",
       "      <td>Deals4you</td>\n",
       "      <td>₹299₹99970% off</td>\n",
       "      <td>Sneakers For Women</td>\n",
       "    </tr>\n",
       "    <tr>\n",
       "      <th>3</th>\n",
       "      <td>URBANBOX</td>\n",
       "      <td>₹299₹99970% off</td>\n",
       "      <td>Trending Stylish Casual Outdoor Sneakers Shoes...</td>\n",
       "    </tr>\n",
       "    <tr>\n",
       "      <th>4</th>\n",
       "      <td>RED TAPE</td>\n",
       "      <td>₹1,737₹7,89978% off</td>\n",
       "      <td>Casual Sneaker Shoes for Men | Soft Cushioned ...</td>\n",
       "    </tr>\n",
       "    <tr>\n",
       "      <th>...</th>\n",
       "      <td>...</td>\n",
       "      <td>...</td>\n",
       "      <td>...</td>\n",
       "    </tr>\n",
       "    <tr>\n",
       "      <th>95</th>\n",
       "      <td>RED TAPE</td>\n",
       "      <td>₹1,187₹5,39978% off</td>\n",
       "      <td>Combo pack of 2 Trendy Men’s Casual Shoes Snea...</td>\n",
       "    </tr>\n",
       "    <tr>\n",
       "      <th>96</th>\n",
       "      <td>BRUTON</td>\n",
       "      <td>₹550₹2,49977% off</td>\n",
       "      <td>Combo Pack Of 2 Casual Shoes Sneakers For Men</td>\n",
       "    </tr>\n",
       "    <tr>\n",
       "      <th>97</th>\n",
       "      <td>BRUTON</td>\n",
       "      <td>₹550₹2,49977% off</td>\n",
       "      <td>URBAN CHUNKY Sneakers For Men</td>\n",
       "    </tr>\n",
       "    <tr>\n",
       "      <th>98</th>\n",
       "      <td>RED TAPE</td>\n",
       "      <td>₹399₹84953% off</td>\n",
       "      <td>SiennaSoftrideBallerina Sneakers For Women</td>\n",
       "    </tr>\n",
       "    <tr>\n",
       "      <th>99</th>\n",
       "      <td>Shoe Lab</td>\n",
       "      <td>₹1,517₹6,89978% off</td>\n",
       "      <td>Synthetic Leather |Lightweight|Comfort|Summer|...</td>\n",
       "    </tr>\n",
       "  </tbody>\n",
       "</table>\n",
       "<p>100 rows × 3 columns</p>\n",
       "</div>"
      ],
      "text/plain": [
       "   Brand_name              P_price  \\\n",
       "0      BRUTON    ₹333₹1,29974% off   \n",
       "1      BRUTON    ₹550₹2,49977% off   \n",
       "2   Deals4you      ₹299₹99970% off   \n",
       "3    URBANBOX      ₹299₹99970% off   \n",
       "4    RED TAPE  ₹1,737₹7,89978% off   \n",
       "..        ...                  ...   \n",
       "95   RED TAPE  ₹1,187₹5,39978% off   \n",
       "96     BRUTON    ₹550₹2,49977% off   \n",
       "97     BRUTON    ₹550₹2,49977% off   \n",
       "98   RED TAPE      ₹399₹84953% off   \n",
       "99   Shoe Lab  ₹1,517₹6,89978% off   \n",
       "\n",
       "                                              Pr_desc  \n",
       "0   Synthetic Leather |Lightweight|Comfort|Summer|...  \n",
       "1   Combo pack of 2 Trendy Men’s Casual Shoes Snea...  \n",
       "2                                  Sneakers For Women  \n",
       "3   Trending Stylish Casual Outdoor Sneakers Shoes...  \n",
       "4   Casual Sneaker Shoes for Men | Soft Cushioned ...  \n",
       "..                                                ...  \n",
       "95  Combo pack of 2 Trendy Men’s Casual Shoes Snea...  \n",
       "96      Combo Pack Of 2 Casual Shoes Sneakers For Men  \n",
       "97                      URBAN CHUNKY Sneakers For Men  \n",
       "98         SiennaSoftrideBallerina Sneakers For Women  \n",
       "99  Synthetic Leather |Lightweight|Comfort|Summer|...  \n",
       "\n",
       "[100 rows x 3 columns]"
      ]
     },
     "execution_count": 120,
     "metadata": {},
     "output_type": "execute_result"
    }
   ],
   "source": [
    "sneaker"
   ]
  },
  {
   "cell_type": "code",
   "execution_count": null,
   "id": "07a231b6",
   "metadata": {},
   "outputs": [],
   "source": []
  },
  {
   "cell_type": "code",
   "execution_count": null,
   "id": "ffc50983",
   "metadata": {},
   "outputs": [],
   "source": []
  },
  {
   "cell_type": "code",
   "execution_count": null,
   "id": "b0a56f77",
   "metadata": {},
   "outputs": [],
   "source": [
    "##Q7"
   ]
  },
  {
   "cell_type": "code",
   "execution_count": 35,
   "id": "a28ac5d7",
   "metadata": {},
   "outputs": [],
   "source": [
    "import selenium\n",
    "from selenium import webdriver\n",
    "from selenium.webdriver.common.by import By\n",
    "import pandas as pd\n",
    "import warnings\n",
    "warnings.filterwarnings('ignore')\n",
    "import time\n"
   ]
  },
  {
   "cell_type": "code",
   "execution_count": 37,
   "id": "dd27f2d1",
   "metadata": {},
   "outputs": [],
   "source": [
    "driver = webdriver.Chrome()\n",
    "url=\" https://www.amazon.in \"\n",
    "driver.get(url)"
   ]
  },
  {
   "cell_type": "code",
   "execution_count": 38,
   "id": "8aec97b3",
   "metadata": {},
   "outputs": [
    {
     "data": {
      "text/plain": [
       "<selenium.webdriver.remote.webelement.WebElement (session=\"6051d243c60e965170dd96fb9aff26a8\", element=\"D62623472775089A88F424C99B8A8D5A_element_48\")>"
      ]
     },
     "execution_count": 38,
     "metadata": {},
     "output_type": "execute_result"
    }
   ],
   "source": [
    "search_g= driver.find_element(By.XPATH,\"//input[@type='text']\")\n",
    "search_g"
   ]
  },
  {
   "cell_type": "code",
   "execution_count": 39,
   "id": "2e43ec38",
   "metadata": {},
   "outputs": [],
   "source": [
    "search_g.send_keys('Laptop')"
   ]
  },
  {
   "cell_type": "code",
   "execution_count": 42,
   "id": "2aa9e25f",
   "metadata": {},
   "outputs": [
    {
     "data": {
      "text/plain": [
       "<selenium.webdriver.remote.webelement.WebElement (session=\"6051d243c60e965170dd96fb9aff26a8\", element=\"0E7103AA19CB20155C8659D805626E44_element_2164\")>"
      ]
     },
     "execution_count": 42,
     "metadata": {},
     "output_type": "execute_result"
    }
   ],
   "source": [
    "search_btn=driver.find_element(By.XPATH,\"//input[@id='nav-search-submit-button']\")\n",
    "search_btn"
   ]
  },
  {
   "cell_type": "code",
   "execution_count": 43,
   "id": "25c1ff84",
   "metadata": {},
   "outputs": [],
   "source": [
    "search_btn=driver.find_element(By.XPATH,\"//input[@id='nav-search-submit-button']\")\n",
    "search_btn.click()"
   ]
  },
  {
   "cell_type": "code",
   "execution_count": null,
   "id": "88fb00d2",
   "metadata": {},
   "outputs": [],
   "source": []
  },
  {
   "cell_type": "code",
   "execution_count": null,
   "id": "eb224acc",
   "metadata": {},
   "outputs": [],
   "source": []
  },
  {
   "cell_type": "code",
   "execution_count": 44,
   "id": "ef327e86",
   "metadata": {},
   "outputs": [],
   "source": [
    "B_name=[]\n",
    "Price=[]\n",
    "P_desc=[]"
   ]
  },
  {
   "cell_type": "code",
   "execution_count": 19,
   "id": "e4409f94",
   "metadata": {},
   "outputs": [],
   "source": [
    "for i in range(2):\n",
    "    tempB_name=driver.find_elements(By.XPATH,\".//div[@class='_2WkVRV']\")\n",
    "    tempP_desc=driver.find_elements(By.XPATH,\"//a[@class='IRpwTa']\")\n",
    "    tempPrice =driver.find_elements(By.XPATH,\"//div[@class='_25b18c']\")\n",
    "    \n",
    "    for j  in tempB_name:\n",
    "        B_name.append(j.text)\n",
    "    B_name[:100]    \n",
    "    \n",
    "    \n",
    "    \n",
    "    for k in tempP_desc:\n",
    "        P_desc.append(k.text)\n",
    "    P_desc[:100] \n",
    "    \n",
    "    \n",
    "    for l in tempPrice:\n",
    "        Price.append(l.text)\n",
    "    Price[:100] \n",
    "    \n",
    "    "
   ]
  },
  {
   "cell_type": "code",
   "execution_count": null,
   "id": "3fc6e1d6",
   "metadata": {},
   "outputs": [],
   "source": []
  },
  {
   "cell_type": "code",
   "execution_count": null,
   "id": "86e5cbf2",
   "metadata": {},
   "outputs": [],
   "source": []
  },
  {
   "cell_type": "code",
   "execution_count": null,
   "id": "e0fb0185",
   "metadata": {},
   "outputs": [],
   "source": []
  },
  {
   "cell_type": "code",
   "execution_count": null,
   "id": "32a7358c",
   "metadata": {},
   "outputs": [],
   "source": [
    "#Q8  qotes question"
   ]
  },
  {
   "cell_type": "code",
   "execution_count": 2,
   "id": "4163042a",
   "metadata": {},
   "outputs": [],
   "source": [
    "import selenium\n",
    "from selenium import webdriver\n",
    "from selenium.webdriver.common.by import By\n",
    "import pandas as pd\n",
    "import warnings\n",
    "warnings.filterwarnings('ignore')\n",
    "import time\n"
   ]
  },
  {
   "cell_type": "code",
   "execution_count": 3,
   "id": "bc2ffa2d",
   "metadata": {},
   "outputs": [],
   "source": [
    "driver = webdriver.Chrome()"
   ]
  },
  {
   "cell_type": "code",
   "execution_count": 4,
   "id": "53438408",
   "metadata": {},
   "outputs": [],
   "source": [
    "driver.get(\"https://www.azquotes.com/\")"
   ]
  },
  {
   "cell_type": "code",
   "execution_count": 5,
   "id": "26535c6f",
   "metadata": {},
   "outputs": [],
   "source": [
    "top_quotes_button = driver.find_element(By.XPATH,\"/html/body/div[1]/div[1]/div[1]/div/div[3]/ul/li[5]/a\")\n",
    "top_quotes_button.click()"
   ]
  },
  {
   "cell_type": "code",
   "execution_count": 6,
   "id": "a9702e5c",
   "metadata": {},
   "outputs": [],
   "source": [
    "quotes=[]\n",
    "author=[]\n",
    "type_of_quotes=[]"
   ]
  },
  {
   "cell_type": "code",
   "execution_count": 7,
   "id": "02abed98",
   "metadata": {},
   "outputs": [],
   "source": [
    "for i in range(3):\n",
    "    tempquotes=driver.find_elements(By.XPATH,\"//a[@class='title']\")\n",
    "    tempauthor=driver.find_elements(By.XPATH,\"//div[@class='author']\")\n",
    "    temptype_of_quotes=driver.find_elements(By.XPATH,\"//div[@class='tags']\")\n",
    "    \n",
    "    \n",
    "    for j in tempquotes:\n",
    "        quotes.append(j.text)\n",
    "    quotes[:1000]\n",
    "        \n",
    "    for k in tempauthor:\n",
    "        author.append(k.text)\n",
    "    author[:1000]\n",
    "        \n",
    "    for l in temptype_of_quotes:\n",
    "        type_of_quotes.append(l.text)\n",
    "    type_of_quotes[:1000]"
   ]
  },
  {
   "cell_type": "code",
   "execution_count": 8,
   "id": "86003fd0",
   "metadata": {},
   "outputs": [
    {
     "name": "stdout",
     "output_type": "stream",
     "text": [
      "300\n",
      "300\n",
      "300\n"
     ]
    },
    {
     "data": {
      "text/plain": [
       "(None, None, None)"
      ]
     },
     "execution_count": 8,
     "metadata": {},
     "output_type": "execute_result"
    }
   ],
   "source": [
    "print(len(quotes[:1000])),print(len(author[:1000])),print(len(type_of_quotes[:1000]))"
   ]
  },
  {
   "cell_type": "code",
   "execution_count": 9,
   "id": "c47a4c10",
   "metadata": {},
   "outputs": [],
   "source": [
    "allquotes=pd.DataFrame({})\n",
    "allquotes['Quotes']=quotes[:1000]\n",
    "allquotes['Author']=author[:1000]\n",
    "allquotes['Quotes_types']=type_of_quotes[:1000]\n"
   ]
  },
  {
   "cell_type": "code",
   "execution_count": 10,
   "id": "c3036c11",
   "metadata": {},
   "outputs": [
    {
     "data": {
      "text/html": [
       "<div>\n",
       "<style scoped>\n",
       "    .dataframe tbody tr th:only-of-type {\n",
       "        vertical-align: middle;\n",
       "    }\n",
       "\n",
       "    .dataframe tbody tr th {\n",
       "        vertical-align: top;\n",
       "    }\n",
       "\n",
       "    .dataframe thead th {\n",
       "        text-align: right;\n",
       "    }\n",
       "</style>\n",
       "<table border=\"1\" class=\"dataframe\">\n",
       "  <thead>\n",
       "    <tr style=\"text-align: right;\">\n",
       "      <th></th>\n",
       "      <th>Quotes</th>\n",
       "      <th>Author</th>\n",
       "      <th>Quotes_types</th>\n",
       "    </tr>\n",
       "  </thead>\n",
       "  <tbody>\n",
       "    <tr>\n",
       "      <th>0</th>\n",
       "      <td>The essence of strategy is choosing what not t...</td>\n",
       "      <td>Michael Porter</td>\n",
       "      <td>Essence, Deep Thought, Transcendentalism</td>\n",
       "    </tr>\n",
       "    <tr>\n",
       "      <th>1</th>\n",
       "      <td>One cannot and must not try to erase the past ...</td>\n",
       "      <td>Golda Meir</td>\n",
       "      <td>Inspiration, Past, Trying</td>\n",
       "    </tr>\n",
       "    <tr>\n",
       "      <th>2</th>\n",
       "      <td>Patriotism means to stand by the country. It d...</td>\n",
       "      <td>Theodore Roosevelt</td>\n",
       "      <td>Country, Peace, War</td>\n",
       "    </tr>\n",
       "    <tr>\n",
       "      <th>3</th>\n",
       "      <td>Death is something inevitable. When a man has ...</td>\n",
       "      <td>Nelson Mandela</td>\n",
       "      <td>Inspirational, Motivational, Death</td>\n",
       "    </tr>\n",
       "    <tr>\n",
       "      <th>4</th>\n",
       "      <td>You have to love a nation that celebrates its ...</td>\n",
       "      <td>Erma Bombeck</td>\n",
       "      <td>4th Of July, Food, Patriotic</td>\n",
       "    </tr>\n",
       "    <tr>\n",
       "      <th>...</th>\n",
       "      <td>...</td>\n",
       "      <td>...</td>\n",
       "      <td>...</td>\n",
       "    </tr>\n",
       "    <tr>\n",
       "      <th>295</th>\n",
       "      <td>When the going gets weird, the weird turn pro.</td>\n",
       "      <td>Hunter S. Thompson</td>\n",
       "      <td>Music, Sports, Hunting</td>\n",
       "    </tr>\n",
       "    <tr>\n",
       "      <th>296</th>\n",
       "      <td>When a train goes through a tunnel and it gets...</td>\n",
       "      <td>Corrie Ten Boom</td>\n",
       "      <td>Trust, Encouraging, Uplifting</td>\n",
       "    </tr>\n",
       "    <tr>\n",
       "      <th>297</th>\n",
       "      <td>If you think you are too small to make a diffe...</td>\n",
       "      <td>Dalai Lama</td>\n",
       "      <td>Inspirational, Funny, Change</td>\n",
       "    </tr>\n",
       "    <tr>\n",
       "      <th>298</th>\n",
       "      <td>God doesn't require us to succeed, he only req...</td>\n",
       "      <td>Mother Teresa</td>\n",
       "      <td>Success, God, Mother</td>\n",
       "    </tr>\n",
       "    <tr>\n",
       "      <th>299</th>\n",
       "      <td>Change your thoughts and you change your world.</td>\n",
       "      <td>Norman Vincent Peale</td>\n",
       "      <td>Inspirational, Motivational, Change</td>\n",
       "    </tr>\n",
       "  </tbody>\n",
       "</table>\n",
       "<p>300 rows × 3 columns</p>\n",
       "</div>"
      ],
      "text/plain": [
       "                                                Quotes                Author  \\\n",
       "0    The essence of strategy is choosing what not t...        Michael Porter   \n",
       "1    One cannot and must not try to erase the past ...            Golda Meir   \n",
       "2    Patriotism means to stand by the country. It d...    Theodore Roosevelt   \n",
       "3    Death is something inevitable. When a man has ...        Nelson Mandela   \n",
       "4    You have to love a nation that celebrates its ...          Erma Bombeck   \n",
       "..                                                 ...                   ...   \n",
       "295     When the going gets weird, the weird turn pro.    Hunter S. Thompson   \n",
       "296  When a train goes through a tunnel and it gets...       Corrie Ten Boom   \n",
       "297  If you think you are too small to make a diffe...            Dalai Lama   \n",
       "298  God doesn't require us to succeed, he only req...         Mother Teresa   \n",
       "299    Change your thoughts and you change your world.  Norman Vincent Peale   \n",
       "\n",
       "                                 Quotes_types  \n",
       "0    Essence, Deep Thought, Transcendentalism  \n",
       "1                   Inspiration, Past, Trying  \n",
       "2                         Country, Peace, War  \n",
       "3          Inspirational, Motivational, Death  \n",
       "4                4th Of July, Food, Patriotic  \n",
       "..                                        ...  \n",
       "295                    Music, Sports, Hunting  \n",
       "296             Trust, Encouraging, Uplifting  \n",
       "297              Inspirational, Funny, Change  \n",
       "298                      Success, God, Mother  \n",
       "299       Inspirational, Motivational, Change  \n",
       "\n",
       "[300 rows x 3 columns]"
      ]
     },
     "execution_count": 10,
     "metadata": {},
     "output_type": "execute_result"
    }
   ],
   "source": [
    "allquotes"
   ]
  },
  {
   "cell_type": "code",
   "execution_count": null,
   "id": "1fc2b7f8",
   "metadata": {},
   "outputs": [],
   "source": []
  },
  {
   "cell_type": "code",
   "execution_count": null,
   "id": "3418295a",
   "metadata": {},
   "outputs": [],
   "source": [
    "#Q9 PM Question"
   ]
  },
  {
   "cell_type": "code",
   "execution_count": 1,
   "id": "f9fd5b5c",
   "metadata": {},
   "outputs": [],
   "source": [
    "import selenium\n",
    "from selenium import webdriver\n",
    "from selenium.webdriver.common.by import By\n",
    "import pandas as pd\n",
    "import warnings\n",
    "warnings.filterwarnings('ignore')\n",
    "import time\n"
   ]
  },
  {
   "cell_type": "code",
   "execution_count": 2,
   "id": "098290c5",
   "metadata": {},
   "outputs": [],
   "source": [
    "driver = webdriver.Chrome()"
   ]
  },
  {
   "cell_type": "code",
   "execution_count": 3,
   "id": "f3ba5c4a",
   "metadata": {},
   "outputs": [],
   "source": [
    "driver.get(\"https://www.jagranjosh.com/\")"
   ]
  },
  {
   "cell_type": "code",
   "execution_count": 4,
   "id": "7087b42a",
   "metadata": {},
   "outputs": [],
   "source": [
    "gk_button = driver.find_element(By.XPATH,\"/html/body/div/header/nav/div/div/div[3]/ul/li[3]/a\")\n",
    "gk_button.click()"
   ]
  },
  {
   "cell_type": "code",
   "execution_count": 7,
   "id": "9b495983",
   "metadata": {},
   "outputs": [
    {
     "ename": "SyntaxError",
     "evalue": "incomplete input (1220062467.py, line 2)",
     "output_type": "error",
     "traceback": [
      "\u001b[1;36m  Cell \u001b[1;32mIn[7], line 2\u001b[1;36m\u001b[0m\n\u001b[1;33m    pm_option.click()\u001b[0m\n\u001b[1;37m                     ^\u001b[0m\n\u001b[1;31mSyntaxError\u001b[0m\u001b[1;31m:\u001b[0m incomplete input\n"
     ]
    }
   ],
   "source": [
    "pm_option=driver.find_elements(By.\n",
    "pm_option.click()"
   ]
  },
  {
   "cell_type": "code",
   "execution_count": null,
   "id": "27c5fcd0",
   "metadata": {},
   "outputs": [],
   "source": [
    "##no option of prime ministers of india present under GK section"
   ]
  },
  {
   "cell_type": "code",
   "execution_count": null,
   "id": "33e50de0",
   "metadata": {},
   "outputs": [],
   "source": []
  },
  {
   "cell_type": "code",
   "execution_count": null,
   "id": "94c0f1b7",
   "metadata": {},
   "outputs": [],
   "source": []
  },
  {
   "cell_type": "code",
   "execution_count": null,
   "id": "5481fd7b",
   "metadata": {},
   "outputs": [],
   "source": [
    "#Q10 50 most expensive car"
   ]
  },
  {
   "cell_type": "code",
   "execution_count": 19,
   "id": "05036e4d",
   "metadata": {},
   "outputs": [],
   "source": [
    "import selenium\n",
    "from selenium import webdriver\n",
    "from selenium.webdriver.common.by import By\n",
    "import pandas as pd\n",
    "import warnings\n",
    "warnings.filterwarnings('ignore')\n",
    "import time\n"
   ]
  },
  {
   "cell_type": "code",
   "execution_count": 20,
   "id": "63d4bbec",
   "metadata": {},
   "outputs": [],
   "source": [
    "driver=webdriver.Chrome()"
   ]
  },
  {
   "cell_type": "code",
   "execution_count": 21,
   "id": "1e1145d7",
   "metadata": {},
   "outputs": [],
   "source": [
    "driver.get(\"https://www.motor1.com/\")"
   ]
  },
  {
   "cell_type": "code",
   "execution_count": 24,
   "id": "24ab06e3",
   "metadata": {},
   "outputs": [
    {
     "data": {
      "text/plain": [
       "[]"
      ]
     },
     "execution_count": 24,
     "metadata": {},
     "output_type": "execute_result"
    }
   ],
   "source": [
    "search_car=driver.find_elements(By.XPATH,\"//div[@class='m1-search-form']\")\n",
    "search_car\n"
   ]
  },
  {
   "cell_type": "code",
   "execution_count": 25,
   "id": "73627162",
   "metadata": {},
   "outputs": [
    {
     "ename": "AttributeError",
     "evalue": "'list' object has no attribute 'send_keys'",
     "output_type": "error",
     "traceback": [
      "\u001b[1;31m---------------------------------------------------------------------------\u001b[0m",
      "\u001b[1;31mAttributeError\u001b[0m                            Traceback (most recent call last)",
      "Cell \u001b[1;32mIn[25], line 1\u001b[0m\n\u001b[1;32m----> 1\u001b[0m search_car\u001b[38;5;241m.\u001b[39msend_keys(\u001b[38;5;124m'\u001b[39m\u001b[38;5;124m50 most expensive cars\u001b[39m\u001b[38;5;124m'\u001b[39m)\n",
      "\u001b[1;31mAttributeError\u001b[0m: 'list' object has no attribute 'send_keys'"
     ]
    }
   ],
   "source": [
    "search_car.send_keys('50 most expensive cars')\n",
    "\n",
    "#search_btn= driver .find_element(By.XPATH,\"//button[@class='btn']\")\n",
    "#search_btn"
   ]
  },
  {
   "cell_type": "code",
   "execution_count": null,
   "id": "04c0ef08",
   "metadata": {},
   "outputs": [],
   "source": [
    "#due to above error unable to proceed"
   ]
  },
  {
   "cell_type": "code",
   "execution_count": null,
   "id": "77236d0e",
   "metadata": {},
   "outputs": [],
   "source": []
  }
 ],
 "metadata": {
  "kernelspec": {
   "display_name": "Python 3 (ipykernel)",
   "language": "python",
   "name": "python3"
  },
  "language_info": {
   "codemirror_mode": {
    "name": "ipython",
    "version": 3
   },
   "file_extension": ".py",
   "mimetype": "text/x-python",
   "name": "python",
   "nbconvert_exporter": "python",
   "pygments_lexer": "ipython3",
   "version": "3.11.3"
  }
 },
 "nbformat": 4,
 "nbformat_minor": 5
}
