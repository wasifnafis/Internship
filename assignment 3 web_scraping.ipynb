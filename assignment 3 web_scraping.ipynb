{
 "cells": [
  {
   "cell_type": "code",
   "execution_count": 54,
   "id": "401f01f9",
   "metadata": {},
   "outputs": [],
   "source": [
    "##Q1   Write a python program which searches all the product under a particular product from www.amazon.in. The\n",
    "#product to be searched will be taken as input from user. For e.g. If user input is ‘guitar’. Then search for\n",
    "#guitars. \n",
    "\n",
    "\n",
    "\n",
    "import selenium\n",
    "from selenium import webdriver\n",
    "from selenium.webdriver.common.by import By\n",
    "import pandas as pd\n",
    "import warnings\n",
    "warnings.filterwarnings('ignore')\n",
    "import time\n"
   ]
  },
  {
   "cell_type": "code",
   "execution_count": 55,
   "id": "bea82621",
   "metadata": {},
   "outputs": [],
   "source": [
    "driver=webdriver.Chrome()"
   ]
  },
  {
   "cell_type": "code",
   "execution_count": 56,
   "id": "56092c9c",
   "metadata": {},
   "outputs": [],
   "source": [
    "driver.get(\"https://www.amazon.in/\")"
   ]
  },
  {
   "cell_type": "code",
   "execution_count": 58,
   "id": "cb99c2b9",
   "metadata": {},
   "outputs": [
    {
     "name": "stdout",
     "output_type": "stream",
     "text": [
      "please enter product here--->HEADPHONES\n"
     ]
    }
   ],
   "source": [
    "inputU = input('please enter product here--->')"
   ]
  },
  {
   "cell_type": "code",
   "execution_count": 60,
   "id": "6ed28bc3",
   "metadata": {},
   "outputs": [],
   "source": [
    "search_bar = driver.find_element(By.XPATH,'//*[@id=\"twotabsearchtextbox\"]')    # Finding the search bar using it's xpath\n",
    "search_bar.send_keys(inputU)       # Inputing keyword to search \n",
    "search_button = driver.find_element(By.XPATH,'//*[@id=\"nav-search-submit-button\"]')    # Finding the xpath of search button\n",
    "search_button.click()        # Clicking the search button\n"
   ]
  },
  {
   "cell_type": "code",
   "execution_count": 61,
   "id": "9febeef6",
   "metadata": {},
   "outputs": [],
   "source": [
    "productName=[]"
   ]
  },
  {
   "cell_type": "code",
   "execution_count": 64,
   "id": "25f581e8",
   "metadata": {},
   "outputs": [
    {
     "name": "stdout",
     "output_type": "stream",
     "text": [
      "24 ['HAMMER Bash Max Over The Ear Wireless Bluetooth Headphones with Mic, Touch Control, Deep Bass, Upto 18 Hours Playtime, Bluetooth 5.3, Workout/Travel (Cool Grey)', 'Cosmic Byte Over the Ear Headphone with Mic & LED - G4000 Edition (Red)', 'Sony WH-CH520, Wireless On-Ear Bluetooth Headphones with Mic, Upto 50 Hours Playtime, DSEE Upscale, Multipoint Connectivity/Dual Pairing,Voice Assistant App Support for Mobile Phones (Blue)', 'boAt BassHeads 100 in-Ear Wired Headphones with Mic (Black)', 'JBL C100SI Wired In Ear Headphones with Mic, JBL Pure Bass Sound, One Button Multi-function Remote, Angled Buds for Comfort fit (Black)', 'Boult Audio Z40 True Wireless in Ear Earbuds with 60H Playtime, Zen™ ENC Mic, Low Latency Gaming, Type-C Fast Charging, Made in India, 10mm Rich Bass Drivers, IPX5, Bluetooth 5.3 Ear Buds TWS (Blue)', 'ZEBRONICS Thunder Bluetooth 5.3 Wireless Headphones with 60H Backup, Gaming Mode, Dual Pairing, ENC, AUX, Micro SD, Voice Assistant, Comfortable Earcups, Call Function(Sea Green)', 'Logitech H111 Wired On Ear Headphones With Mic Black', 'ZEBRONICS Zeb-Bro in Ear Wired Earphones with Mic, 3.5mm Audio Jack, 10mm Drivers, Phone/Tablet Compatible(Blue)', 'Sony MDR-ZX110A Wired On Ear Headphone without Mic (White)', 'ZEBRONICS THUNDER Bluetooth 5.3 Wireless Headphones with 60H Backup, Gaming Mode, Dual Pairing, ENC, AUX, Micro SD, Voice assistant, Comfortable Earcups, Call Function(Black)', 'Boult Audio Z20 Truly Wireless in Ear Earbuds with 51H Playtime, Zen™ Clear Calling ENC Mic, Made in India, Low Latency Gaming, Rich Bass Drivers, IPX5, Voice Assistant, Bluetooth 5.3 Ear Buds (Black)', 'pTron Bassbuds Nyx in-Ear TWS Earbuds, Immersive Audio, Bluetooth 5.1 Wireless Headphones, HD Mic, 50ms Movie Mode, Digital Case, Type-C Fast Charging & IPX4 Water Resistant (Pearl White/Black)', 'Zebronics Zeb-Storm Wired On Ear Headphone with 3.5mm Jack, Built-in Microphone for Calling, 1.5 Meter Cable, Soft Ear Cushion, Adjustable Headband, Foldable Ear Cups and Lightweight Design (Black)', 'Zebronics Zeb-Bang Pro Bluetooth Wireless On Ear Headphones with Mic V5.0, 30H Backup, Foldable, Call Function, Voice Assistant, Built-in Rechargeable Battery, Type C, 40Mm Driver and Aux (Black)', 'pTron Tangentbeat in-Ear Bluetooth 5.0 Wireless Headphones with Mic, Deep Bass, 10mm Drivers, Clear Calls, Dual Pairing, Fast Charging, Magnetic Buds, Voice Assistant & IPX4 Wireless Neckband (Black', 'ZEBRONICS Thunder Bluetooth 5.3 Wireless Headphones with 60H Backup, Gaming Mode, Dual Pairing, ENC, AUX, Micro SD, Voice Assistant, Comfortable Earcups, Call Function(Teal Green)', 'ZEBRONICS Zeb-Dynamic Wireless Headphones with 34 hrs. of Playback time.(Yellow)', 'Sony WH-CH520, Wireless On-Ear Bluetooth Headphones with Mic, Upto 50 Hours Playtime, DSEE Upscale, Multipoint Connectivity/Dual Pairing,Voice Assistant App Support for Mobile Phones (Black)', 'boAt Rockerz 255 Pro+ Bluetooth Neckband with Upto 60 Hours Playback, ASAP Charge, IPX7, Dual Pairing and Bluetooth v5.2(Teal Green)', 'Sony WH-CH720N, Wireless Over-Ear Active Noise Cancellation Headphones with Mic, up to 50 Hours Playtime, Multi-Point Connection, App Support, AUX & Voice Assistant Support for Mobile Phones (White)', 'Boult Audio Z40 True Wireless in Ear Earbuds with 60H Playtime, Zen™ ENC Mic, Low Latency Gaming, Type-C Fast Charging, Made in India, 10mm Rich Bass Drivers, IPX5, Bluetooth 5.3 Ear Buds TWS (Blue)', 'pTron Newly Launched Bassbuds NX TWS Earbuds, TruTalk AI-ENC Calls, 32Hrs Playtime, 13mm Drivers, Bluetooth 5.3 Wireless Headphone, Voice Assistant, Type-C Fast Charging & IPX5 Water Resistant(Green)', 'Noise Buds VS104 Max Truly Wireless in-Ear Earbuds with ANC(Up to 25dB),Up to 45H Playtime, Quad Mic with ENC, Instacharge(10 min=180 min), 13mm Driver, BT v5.3 (Silver Grey)']\n"
     ]
    }
   ],
   "source": [
    "#scraping the Product_Name \n",
    "PName=driver.find_elements(By.XPATH,\"//span[@class='a-size-medium a-color-base a-text-normal']\")\n",
    "for i in PName:\n",
    "    if i.text is None :\n",
    "        productName.append(\"--\") \n",
    "    else:\n",
    "        productName.append(i.text)\n",
    "print(len(productName),productName)\n",
    "#23 ['DIGITEK DBH 006 Over-Ear Bluetooth 5.0 Headphone | with Extra Bass | Upto 10 Hrs. Playtime | Dual Pairi"
   ]
  },
  {
   "cell_type": "code",
   "execution_count": 67,
   "id": "1bf6088d",
   "metadata": {},
   "outputs": [
    {
     "name": "stdout",
     "output_type": "stream",
     "text": [
      "Product urls of page 1 has been scraped.\n"
     ]
    },
    {
     "ename": "NameError",
     "evalue": "name 'StaleElementReferenceException' is not defined",
     "output_type": "error",
     "traceback": [
      "\u001b[1;31m---------------------------------------------------------------------------\u001b[0m",
      "\u001b[1;31mNoSuchElementException\u001b[0m                    Traceback (most recent call last)",
      "Cell \u001b[1;32mIn[67], line 16\u001b[0m\n\u001b[0;32m     15\u001b[0m \u001b[38;5;66;03m# Moving to next page\u001b[39;00m\n\u001b[1;32m---> 16\u001b[0m nxt_button \u001b[38;5;241m=\u001b[39m driver\u001b[38;5;241m.\u001b[39mfind_element(By\u001b[38;5;241m.\u001b[39mXPATH,\u001b[38;5;124m'\u001b[39m\u001b[38;5;124m//li[@class=\u001b[39m\u001b[38;5;124m\"\u001b[39m\u001b[38;5;124ma-last\u001b[39m\u001b[38;5;124m\"\u001b[39m\u001b[38;5;124m]/a\u001b[39m\u001b[38;5;124m'\u001b[39m)      \u001b[38;5;66;03m# Locating the next_button which is active\u001b[39;00m\n\u001b[0;32m     17\u001b[0m \u001b[38;5;28;01mif\u001b[39;00m nxt_button\u001b[38;5;241m.\u001b[39mtext \u001b[38;5;241m==\u001b[39m \u001b[38;5;124m'\u001b[39m\u001b[38;5;124mNext→\u001b[39m\u001b[38;5;124m'\u001b[39m:                                            \u001b[38;5;66;03m# Checking if the button located is next button\u001b[39;00m\n",
      "File \u001b[1;32m~\\anaconda3\\Lib\\site-packages\\selenium\\webdriver\\remote\\webdriver.py:741\u001b[0m, in \u001b[0;36mWebDriver.find_element\u001b[1;34m(self, by, value)\u001b[0m\n\u001b[0;32m    739\u001b[0m     value \u001b[38;5;241m=\u001b[39m \u001b[38;5;124mf\u001b[39m\u001b[38;5;124m'\u001b[39m\u001b[38;5;124m[name=\u001b[39m\u001b[38;5;124m\"\u001b[39m\u001b[38;5;132;01m{\u001b[39;00mvalue\u001b[38;5;132;01m}\u001b[39;00m\u001b[38;5;124m\"\u001b[39m\u001b[38;5;124m]\u001b[39m\u001b[38;5;124m'\u001b[39m\n\u001b[1;32m--> 741\u001b[0m \u001b[38;5;28;01mreturn\u001b[39;00m \u001b[38;5;28mself\u001b[39m\u001b[38;5;241m.\u001b[39mexecute(Command\u001b[38;5;241m.\u001b[39mFIND_ELEMENT, {\u001b[38;5;124m\"\u001b[39m\u001b[38;5;124musing\u001b[39m\u001b[38;5;124m\"\u001b[39m: by, \u001b[38;5;124m\"\u001b[39m\u001b[38;5;124mvalue\u001b[39m\u001b[38;5;124m\"\u001b[39m: value})[\u001b[38;5;124m\"\u001b[39m\u001b[38;5;124mvalue\u001b[39m\u001b[38;5;124m\"\u001b[39m]\n",
      "File \u001b[1;32m~\\anaconda3\\Lib\\site-packages\\selenium\\webdriver\\remote\\webdriver.py:347\u001b[0m, in \u001b[0;36mWebDriver.execute\u001b[1;34m(self, driver_command, params)\u001b[0m\n\u001b[0;32m    346\u001b[0m \u001b[38;5;28;01mif\u001b[39;00m response:\n\u001b[1;32m--> 347\u001b[0m     \u001b[38;5;28mself\u001b[39m\u001b[38;5;241m.\u001b[39merror_handler\u001b[38;5;241m.\u001b[39mcheck_response(response)\n\u001b[0;32m    348\u001b[0m     response[\u001b[38;5;124m\"\u001b[39m\u001b[38;5;124mvalue\u001b[39m\u001b[38;5;124m\"\u001b[39m] \u001b[38;5;241m=\u001b[39m \u001b[38;5;28mself\u001b[39m\u001b[38;5;241m.\u001b[39m_unwrap_value(response\u001b[38;5;241m.\u001b[39mget(\u001b[38;5;124m\"\u001b[39m\u001b[38;5;124mvalue\u001b[39m\u001b[38;5;124m\"\u001b[39m, \u001b[38;5;28;01mNone\u001b[39;00m))\n",
      "File \u001b[1;32m~\\anaconda3\\Lib\\site-packages\\selenium\\webdriver\\remote\\errorhandler.py:229\u001b[0m, in \u001b[0;36mErrorHandler.check_response\u001b[1;34m(self, response)\u001b[0m\n\u001b[0;32m    228\u001b[0m     \u001b[38;5;28;01mraise\u001b[39;00m exception_class(message, screen, stacktrace, alert_text)  \u001b[38;5;66;03m# type: ignore[call-arg]  # mypy is not smart enough here\u001b[39;00m\n\u001b[1;32m--> 229\u001b[0m \u001b[38;5;28;01mraise\u001b[39;00m exception_class(message, screen, stacktrace)\n",
      "\u001b[1;31mNoSuchElementException\u001b[0m: Message: no such element: Unable to locate element: {\"method\":\"xpath\",\"selector\":\"//li[@class=\"a-last\"]/a\"}\n  (Session info: chrome=121.0.6167.185); For documentation on this error, please visit: https://www.selenium.dev/documentation/webdriver/troubleshooting/errors#no-such-element-exception\nStacktrace:\n\tGetHandleVerifier [0x00007FF6CE327012+3522402]\n\t(No symbol) [0x00007FF6CDF48352]\n\t(No symbol) [0x00007FF6CDDF5ABB]\n\t(No symbol) [0x00007FF6CDE3BF0E]\n\t(No symbol) [0x00007FF6CDE3C08C]\n\t(No symbol) [0x00007FF6CDE7E437]\n\t(No symbol) [0x00007FF6CDE5F09F]\n\t(No symbol) [0x00007FF6CDE7BDA3]\n\t(No symbol) [0x00007FF6CDE5EE03]\n\t(No symbol) [0x00007FF6CDE2F4D4]\n\t(No symbol) [0x00007FF6CDE305F1]\n\tGetHandleVerifier [0x00007FF6CE359B9D+3730157]\n\tGetHandleVerifier [0x00007FF6CE3AF02D+4079485]\n\tGetHandleVerifier [0x00007FF6CE3A75D3+4048163]\n\tGetHandleVerifier [0x00007FF6CE07A649+718233]\n\t(No symbol) [0x00007FF6CDF54A3F]\n\t(No symbol) [0x00007FF6CDF4FA94]\n\t(No symbol) [0x00007FF6CDF4FBC2]\n\t(No symbol) [0x00007FF6CDF3F2E4]\n\tBaseThreadInitThunk [0x00007FFCBBF9257D+29]\n\tRtlUserThreadStart [0x00007FFCBCB8AA58+40]\n",
      "\nDuring handling of the above exception, another exception occurred:\n",
      "\u001b[1;31mNameError\u001b[0m                                 Traceback (most recent call last)",
      "Cell \u001b[1;32mIn[67], line 25\u001b[0m\n\u001b[0;32m     22\u001b[0m         \u001b[38;5;28mprint\u001b[39m(\u001b[38;5;124m\"\u001b[39m\u001b[38;5;124mNo new pages exist. Breaking the loop\u001b[39m\u001b[38;5;124m\"\u001b[39m)  \u001b[38;5;66;03m# Printing message and breakinf loop if we have reached the last page\u001b[39;00m\n\u001b[0;32m     23\u001b[0m         \u001b[38;5;28;01mbreak\u001b[39;00m\n\u001b[1;32m---> 25\u001b[0m \u001b[38;5;28;01mexcept\u001b[39;00m StaleElementReferenceException \u001b[38;5;28;01mas\u001b[39;00m e:             \u001b[38;5;66;03m# Handling StaleElement Exception   \u001b[39;00m\n\u001b[0;32m     26\u001b[0m     \u001b[38;5;28mprint\u001b[39m(\u001b[38;5;124m\"\u001b[39m\u001b[38;5;124mStale Exception\u001b[39m\u001b[38;5;124m\"\u001b[39m)\n\u001b[0;32m     27\u001b[0m     next_page \u001b[38;5;241m=\u001b[39m nxt_button\u001b[38;5;241m.\u001b[39mget_attribute(\u001b[38;5;124m'\u001b[39m\u001b[38;5;124mhref\u001b[39m\u001b[38;5;124m'\u001b[39m)        \u001b[38;5;66;03m# Extracting the url of next page\u001b[39;00m\n",
      "\u001b[1;31mNameError\u001b[0m: name 'StaleElementReferenceException' is not defined"
     ]
    }
   ],
   "source": [
    "start_page = 0\n",
    "end_page = 3\n",
    "urls = []\n",
    "for page in range(start_page,end_page+1):\n",
    "    try:\n",
    "        page_urls = driver.find_elements(By.XPATH,'//a[@class=\"a-link-normal s-no-outline\"]')\n",
    "        \n",
    "        # appending all the urls on current page to urls list\n",
    "        for url in page_urls:\n",
    "            url = url.get_attribute('href')     # Scraping the url from webelement\n",
    "            if url[0:4]=='http':                # Checking if the scraped data is a valid url or not\n",
    "                urls.append(url)                # Appending the url to urls list\n",
    "        print(\"Product urls of page {} has been scraped.\".format(page+1))\n",
    "        \n",
    "        # Moving to next page\n",
    "        nxt_button = driver.find_element(By.XPATH,'//li[@class=\"a-last\"]/a')      # Locating the next_button which is active\n",
    "        if nxt_button.text == 'Next→':                                            # Checking if the button located is next button\n",
    "            nxt_button.click()                                                    # Clicking the next button\n",
    "            time.sleep(5)                                                         # time delay of 5 seconds\n",
    "        # If the current active button is not next button, the we will check if the next button is inactive or not    \n",
    "        elif driver.find_element(By.XPATH,'//li[@class=\"a-disabled a-last\"]/a').text == 'Next→':    \n",
    "            print(\"No new pages exist. Breaking the loop\")  # Printing message and breakinf loop if we have reached the last page\n",
    "            break\n",
    "            \n",
    "    except StaleElementReferenceException as e:             # Handling StaleElement Exception   \n",
    "        print(\"Stale Exception\")\n",
    "        next_page = nxt_button.get_attribute('href')        # Extracting the url of next page\n",
    "        driver.get(next_page)"
   ]
  },
  {
   "cell_type": "code",
   "execution_count": 68,
   "id": "d5ef3858",
   "metadata": {},
   "outputs": [],
   "source": [
    "prod_dict = {}\n",
    "prod_dict['Brand']=[]\n",
    "prod_dict['Name']=[]\n",
    "prod_dict['Rating']=[]\n",
    "prod_dict['No. of ratings']=[]\n",
    "prod_dict['Price']=[]\n",
    "prod_dict['Return/Exchange']=[]\n",
    "prod_dict['Expected Delivery']=[] \n",
    "prod_dict['Availability']=[]\n",
    "prod_dict['Other Details']=[]\n",
    "prod_dict['URL']=[]"
   ]
  },
  {
   "cell_type": "code",
   "execution_count": 69,
   "id": "0fc67c97",
   "metadata": {},
   "outputs": [
    {
     "name": "stdout",
     "output_type": "stream",
     "text": [
      "Scraping URL =  https://www.amazon.in/sspa/click?ie=UTF8&spc=MTo3MzA2NTI2ODAxMzMyMDQ3OjE3MDgxODkyNjg6c3BfYXRmOjMwMDA3NjIxMTkzMzgzMjo6MDo6&url=%2FHAMMER-Bash-Max-Bluetooth-Headphones%2Fdp%2FB0CBG1YG5F%2Fref%3Dsr_1_1%3Fkeywords%3DHEADPHONES%26qid%3D1708189268%26sr%3D8-1-spons%26sp_csd%3Dd2lkZ2V0TmFtZT1zcF9hdGY%26psc%3D1\n"
     ]
    },
    {
     "ename": "NameError",
     "evalue": "name 'NoSuchElementException' is not defined",
     "output_type": "error",
     "traceback": [
      "\u001b[1;31m---------------------------------------------------------------------------\u001b[0m",
      "\u001b[1;31mNoSuchElementException\u001b[0m                    Traceback (most recent call last)",
      "Cell \u001b[1;32mIn[69], line 31\u001b[0m\n\u001b[0;32m     30\u001b[0m \u001b[38;5;28;01mtry\u001b[39;00m:\n\u001b[1;32m---> 31\u001b[0m     price \u001b[38;5;241m=\u001b[39m driver\u001b[38;5;241m.\u001b[39mfind_element(By\u001b[38;5;241m.\u001b[39mXPATH,\u001b[38;5;124m'\u001b[39m\u001b[38;5;124m//span[@id=\u001b[39m\u001b[38;5;124m\"\u001b[39m\u001b[38;5;124mpriceblock_ourprice\u001b[39m\u001b[38;5;124m\"\u001b[39m\u001b[38;5;124m]\u001b[39m\u001b[38;5;124m'\u001b[39m)            \u001b[38;5;66;03m# Extracting Price from xpath\u001b[39;00m\n\u001b[0;32m     32\u001b[0m     prod_dict[\u001b[38;5;124m'\u001b[39m\u001b[38;5;124mPrice\u001b[39m\u001b[38;5;124m'\u001b[39m]\u001b[38;5;241m.\u001b[39mappend(price\u001b[38;5;241m.\u001b[39mtext)\n",
      "File \u001b[1;32m~\\anaconda3\\Lib\\site-packages\\selenium\\webdriver\\remote\\webdriver.py:741\u001b[0m, in \u001b[0;36mWebDriver.find_element\u001b[1;34m(self, by, value)\u001b[0m\n\u001b[0;32m    739\u001b[0m     value \u001b[38;5;241m=\u001b[39m \u001b[38;5;124mf\u001b[39m\u001b[38;5;124m'\u001b[39m\u001b[38;5;124m[name=\u001b[39m\u001b[38;5;124m\"\u001b[39m\u001b[38;5;132;01m{\u001b[39;00mvalue\u001b[38;5;132;01m}\u001b[39;00m\u001b[38;5;124m\"\u001b[39m\u001b[38;5;124m]\u001b[39m\u001b[38;5;124m'\u001b[39m\n\u001b[1;32m--> 741\u001b[0m \u001b[38;5;28;01mreturn\u001b[39;00m \u001b[38;5;28mself\u001b[39m\u001b[38;5;241m.\u001b[39mexecute(Command\u001b[38;5;241m.\u001b[39mFIND_ELEMENT, {\u001b[38;5;124m\"\u001b[39m\u001b[38;5;124musing\u001b[39m\u001b[38;5;124m\"\u001b[39m: by, \u001b[38;5;124m\"\u001b[39m\u001b[38;5;124mvalue\u001b[39m\u001b[38;5;124m\"\u001b[39m: value})[\u001b[38;5;124m\"\u001b[39m\u001b[38;5;124mvalue\u001b[39m\u001b[38;5;124m\"\u001b[39m]\n",
      "File \u001b[1;32m~\\anaconda3\\Lib\\site-packages\\selenium\\webdriver\\remote\\webdriver.py:347\u001b[0m, in \u001b[0;36mWebDriver.execute\u001b[1;34m(self, driver_command, params)\u001b[0m\n\u001b[0;32m    346\u001b[0m \u001b[38;5;28;01mif\u001b[39;00m response:\n\u001b[1;32m--> 347\u001b[0m     \u001b[38;5;28mself\u001b[39m\u001b[38;5;241m.\u001b[39merror_handler\u001b[38;5;241m.\u001b[39mcheck_response(response)\n\u001b[0;32m    348\u001b[0m     response[\u001b[38;5;124m\"\u001b[39m\u001b[38;5;124mvalue\u001b[39m\u001b[38;5;124m\"\u001b[39m] \u001b[38;5;241m=\u001b[39m \u001b[38;5;28mself\u001b[39m\u001b[38;5;241m.\u001b[39m_unwrap_value(response\u001b[38;5;241m.\u001b[39mget(\u001b[38;5;124m\"\u001b[39m\u001b[38;5;124mvalue\u001b[39m\u001b[38;5;124m\"\u001b[39m, \u001b[38;5;28;01mNone\u001b[39;00m))\n",
      "File \u001b[1;32m~\\anaconda3\\Lib\\site-packages\\selenium\\webdriver\\remote\\errorhandler.py:229\u001b[0m, in \u001b[0;36mErrorHandler.check_response\u001b[1;34m(self, response)\u001b[0m\n\u001b[0;32m    228\u001b[0m     \u001b[38;5;28;01mraise\u001b[39;00m exception_class(message, screen, stacktrace, alert_text)  \u001b[38;5;66;03m# type: ignore[call-arg]  # mypy is not smart enough here\u001b[39;00m\n\u001b[1;32m--> 229\u001b[0m \u001b[38;5;28;01mraise\u001b[39;00m exception_class(message, screen, stacktrace)\n",
      "\u001b[1;31mNoSuchElementException\u001b[0m: Message: no such element: Unable to locate element: {\"method\":\"xpath\",\"selector\":\"//span[@id=\"priceblock_ourprice\"]\"}\n  (Session info: chrome=121.0.6167.185); For documentation on this error, please visit: https://www.selenium.dev/documentation/webdriver/troubleshooting/errors#no-such-element-exception\nStacktrace:\n\tGetHandleVerifier [0x00007FF6CE327012+3522402]\n\t(No symbol) [0x00007FF6CDF48352]\n\t(No symbol) [0x00007FF6CDDF5ABB]\n\t(No symbol) [0x00007FF6CDE3BF0E]\n\t(No symbol) [0x00007FF6CDE3C08C]\n\t(No symbol) [0x00007FF6CDE7E437]\n\t(No symbol) [0x00007FF6CDE5F09F]\n\t(No symbol) [0x00007FF6CDE7BDA3]\n\t(No symbol) [0x00007FF6CDE5EE03]\n\t(No symbol) [0x00007FF6CDE2F4D4]\n\t(No symbol) [0x00007FF6CDE305F1]\n\tGetHandleVerifier [0x00007FF6CE359B9D+3730157]\n\tGetHandleVerifier [0x00007FF6CE3AF02D+4079485]\n\tGetHandleVerifier [0x00007FF6CE3A75D3+4048163]\n\tGetHandleVerifier [0x00007FF6CE07A649+718233]\n\t(No symbol) [0x00007FF6CDF54A3F]\n\t(No symbol) [0x00007FF6CDF4FA94]\n\t(No symbol) [0x00007FF6CDF4FBC2]\n\t(No symbol) [0x00007FF6CDF3F2E4]\n\tBaseThreadInitThunk [0x00007FFCBBF9257D+29]\n\tRtlUserThreadStart [0x00007FFCBCB8AA58+40]\n",
      "\nDuring handling of the above exception, another exception occurred:\n",
      "\u001b[1;31mNameError\u001b[0m                                 Traceback (most recent call last)",
      "Cell \u001b[1;32mIn[69], line 33\u001b[0m\n\u001b[0;32m     31\u001b[0m     price \u001b[38;5;241m=\u001b[39m driver\u001b[38;5;241m.\u001b[39mfind_element(By\u001b[38;5;241m.\u001b[39mXPATH,\u001b[38;5;124m'\u001b[39m\u001b[38;5;124m//span[@id=\u001b[39m\u001b[38;5;124m\"\u001b[39m\u001b[38;5;124mpriceblock_ourprice\u001b[39m\u001b[38;5;124m\"\u001b[39m\u001b[38;5;124m]\u001b[39m\u001b[38;5;124m'\u001b[39m)            \u001b[38;5;66;03m# Extracting Price from xpath\u001b[39;00m\n\u001b[0;32m     32\u001b[0m     prod_dict[\u001b[38;5;124m'\u001b[39m\u001b[38;5;124mPrice\u001b[39m\u001b[38;5;124m'\u001b[39m]\u001b[38;5;241m.\u001b[39mappend(price\u001b[38;5;241m.\u001b[39mtext)\n\u001b[1;32m---> 33\u001b[0m \u001b[38;5;28;01mexcept\u001b[39;00m NoSuchElementException:\n\u001b[0;32m     34\u001b[0m     prod_dict[\u001b[38;5;124m'\u001b[39m\u001b[38;5;124mPrice\u001b[39m\u001b[38;5;124m'\u001b[39m]\u001b[38;5;241m.\u001b[39mappend(\u001b[38;5;124m'\u001b[39m\u001b[38;5;124m-\u001b[39m\u001b[38;5;124m'\u001b[39m)\n\u001b[0;32m     35\u001b[0m \u001b[38;5;28;01mtry\u001b[39;00m:                                                                                     \u001b[38;5;66;03m# Extracting Return/Exchange policy from xpath\u001b[39;00m\n",
      "\u001b[1;31mNameError\u001b[0m: name 'NoSuchElementException' is not defined"
     ]
    }
   ],
   "source": [
    "for url in urls[:4]:\n",
    "    driver.get(url)                                                        # Loading the webpage by url\n",
    "    print(\"Scraping URL = \", url)\n",
    "    #time.sleep(2)\n",
    "    \n",
    "    try:\n",
    "        brand = driver.find_element(By.XPATH,'//a[@id=\"bylineInfo\"]')      # Extracting Brand from xpath\n",
    "        prod_dict['Brand'].append(brand.text)\n",
    "    except NoSuchElementException:\n",
    "        prod_dict['Brand'].append('-')\n",
    "    \n",
    "    try:\n",
    "        name = driver.find_element(By.XPATH,'//h1[@id=\"title\"]/span')      # Extracting Name from xpath\n",
    "        prod_dict['Name'].append(name.text)\n",
    "    except NoSuchElementException:\n",
    "        prod_dict['Name'].append('-')\n",
    "        \n",
    "    try:\n",
    "        rating = driver.find_element(By.XPATH,'//span[@id=\"acrPopover\"]')  # Extracting Ratings from xpath\n",
    "        prod_dict['Rating'].append(rating.get_attribute(\"title\"))\n",
    "    except NoSuchElementException:\n",
    "        prod_dict['Rating'].append('-')\n",
    "    \n",
    "    try:\n",
    "        n_rating = driver.find_element(By.XPATH,'//a[@id=\"acrCustomerReviewLink\"]/span')     # Extracting no. of Ratings from xpath\n",
    "        prod_dict['No. of ratings'].append(n_rating.text)\n",
    "    except NoSuchElementException:\n",
    "        prod_dict['No. of ratings'].append('-')   \n",
    "    \n",
    "    try:\n",
    "        price = driver.find_element(By.XPATH,'//span[@id=\"priceblock_ourprice\"]')            # Extracting Price from xpath\n",
    "        prod_dict['Price'].append(price.text)\n",
    "    except NoSuchElementException:\n",
    "        prod_dict['Price'].append('-')\n",
    "    try:                                                                                     # Extracting Return/Exchange policy from xpath\n",
    "        ret = driver.find_element(By.XPATH,'//div[@data-name=\"RETURNS_POLICY\"]/span/div[2]/a')\n",
    "        prod_dict['Return/Exchange'].append(ret.text)\n",
    "    except NoSuchElementException:\n",
    "        prod_dict['Return/Exchange'].append('-')\n",
    "    try:\n",
    "        delivry = driver.find_element(By.XPATH,'//div[@id=\"ddmDeliveryMessage\"]/b')         # Extracting Expected Delivery from xpath\n",
    "        prod_dict['Expected Delivery'].append(delivry.text)\n",
    "    except NoSuchElementException:\n",
    "        prod_dict['Expected Delivery'].append('-')\n",
    "    \n",
    "    try:\n",
    "        avl = driver.find_element(By.XPATH,'//div[@id=\"availability\"]/span')                # Extracting Availability from xpath\n",
    "        prod_dict['Availability'].append(avl.text)\n",
    "    except NoSuchElementException:\n",
    "        prod_dict['Availability'].append('-')\n",
    "    \n",
    "    try:                                                                                    # Extracting Other Details from xpath\n",
    "        dtls = driver.find_element(By.XPATH,'//ul[@class=\"a-unordered-list a-vertical a-spacing-mini\"]')\n",
    "        prod_dict['Other Details'].append('  ||  '.join(dtls.text.split('\\n')))\n",
    "    except NoSuchElementException:\n",
    "        prod_dict['Other Details'].append('-')\n",
    "    \n",
    "    prod_dict['URL'].append(url)                                                            # Saving url\n",
    "    time.sleep(2)\n",
    "        \n",
    "        \n",
    "        "
   ]
  },
  {
   "cell_type": "code",
   "execution_count": 70,
   "id": "a0c2658a",
   "metadata": {},
   "outputs": [
    {
     "ename": "ValueError",
     "evalue": "All arrays must be of the same length",
     "output_type": "error",
     "traceback": [
      "\u001b[1;31m---------------------------------------------------------------------------\u001b[0m",
      "\u001b[1;31mValueError\u001b[0m                                Traceback (most recent call last)",
      "Cell \u001b[1;32mIn[70], line 1\u001b[0m\n\u001b[1;32m----> 1\u001b[0m prod_df \u001b[38;5;241m=\u001b[39m pd\u001b[38;5;241m.\u001b[39mDataFrame\u001b[38;5;241m.\u001b[39mfrom_dict(prod_dict)\n\u001b[0;32m      2\u001b[0m prod_df\n",
      "File \u001b[1;32m~\\anaconda3\\Lib\\site-packages\\pandas\\core\\frame.py:1764\u001b[0m, in \u001b[0;36mDataFrame.from_dict\u001b[1;34m(cls, data, orient, dtype, columns)\u001b[0m\n\u001b[0;32m   1758\u001b[0m     \u001b[38;5;28;01mraise\u001b[39;00m \u001b[38;5;167;01mValueError\u001b[39;00m(\n\u001b[0;32m   1759\u001b[0m         \u001b[38;5;124mf\u001b[39m\u001b[38;5;124m\"\u001b[39m\u001b[38;5;124mExpected \u001b[39m\u001b[38;5;124m'\u001b[39m\u001b[38;5;124mindex\u001b[39m\u001b[38;5;124m'\u001b[39m\u001b[38;5;124m, \u001b[39m\u001b[38;5;124m'\u001b[39m\u001b[38;5;124mcolumns\u001b[39m\u001b[38;5;124m'\u001b[39m\u001b[38;5;124m or \u001b[39m\u001b[38;5;124m'\u001b[39m\u001b[38;5;124mtight\u001b[39m\u001b[38;5;124m'\u001b[39m\u001b[38;5;124m for orient parameter. \u001b[39m\u001b[38;5;124m\"\u001b[39m\n\u001b[0;32m   1760\u001b[0m         \u001b[38;5;124mf\u001b[39m\u001b[38;5;124m\"\u001b[39m\u001b[38;5;124mGot \u001b[39m\u001b[38;5;124m'\u001b[39m\u001b[38;5;132;01m{\u001b[39;00morient\u001b[38;5;132;01m}\u001b[39;00m\u001b[38;5;124m'\u001b[39m\u001b[38;5;124m instead\u001b[39m\u001b[38;5;124m\"\u001b[39m\n\u001b[0;32m   1761\u001b[0m     )\n\u001b[0;32m   1763\u001b[0m \u001b[38;5;28;01mif\u001b[39;00m orient \u001b[38;5;241m!=\u001b[39m \u001b[38;5;124m\"\u001b[39m\u001b[38;5;124mtight\u001b[39m\u001b[38;5;124m\"\u001b[39m:\n\u001b[1;32m-> 1764\u001b[0m     \u001b[38;5;28;01mreturn\u001b[39;00m \u001b[38;5;28mcls\u001b[39m(data, index\u001b[38;5;241m=\u001b[39mindex, columns\u001b[38;5;241m=\u001b[39mcolumns, dtype\u001b[38;5;241m=\u001b[39mdtype)\n\u001b[0;32m   1765\u001b[0m \u001b[38;5;28;01melse\u001b[39;00m:\n\u001b[0;32m   1766\u001b[0m     realdata \u001b[38;5;241m=\u001b[39m data[\u001b[38;5;124m\"\u001b[39m\u001b[38;5;124mdata\u001b[39m\u001b[38;5;124m\"\u001b[39m]\n",
      "File \u001b[1;32m~\\anaconda3\\Lib\\site-packages\\pandas\\core\\frame.py:664\u001b[0m, in \u001b[0;36mDataFrame.__init__\u001b[1;34m(self, data, index, columns, dtype, copy)\u001b[0m\n\u001b[0;32m    658\u001b[0m     mgr \u001b[38;5;241m=\u001b[39m \u001b[38;5;28mself\u001b[39m\u001b[38;5;241m.\u001b[39m_init_mgr(\n\u001b[0;32m    659\u001b[0m         data, axes\u001b[38;5;241m=\u001b[39m{\u001b[38;5;124m\"\u001b[39m\u001b[38;5;124mindex\u001b[39m\u001b[38;5;124m\"\u001b[39m: index, \u001b[38;5;124m\"\u001b[39m\u001b[38;5;124mcolumns\u001b[39m\u001b[38;5;124m\"\u001b[39m: columns}, dtype\u001b[38;5;241m=\u001b[39mdtype, copy\u001b[38;5;241m=\u001b[39mcopy\n\u001b[0;32m    660\u001b[0m     )\n\u001b[0;32m    662\u001b[0m \u001b[38;5;28;01melif\u001b[39;00m \u001b[38;5;28misinstance\u001b[39m(data, \u001b[38;5;28mdict\u001b[39m):\n\u001b[0;32m    663\u001b[0m     \u001b[38;5;66;03m# GH#38939 de facto copy defaults to False only in non-dict cases\u001b[39;00m\n\u001b[1;32m--> 664\u001b[0m     mgr \u001b[38;5;241m=\u001b[39m dict_to_mgr(data, index, columns, dtype\u001b[38;5;241m=\u001b[39mdtype, copy\u001b[38;5;241m=\u001b[39mcopy, typ\u001b[38;5;241m=\u001b[39mmanager)\n\u001b[0;32m    665\u001b[0m \u001b[38;5;28;01melif\u001b[39;00m \u001b[38;5;28misinstance\u001b[39m(data, ma\u001b[38;5;241m.\u001b[39mMaskedArray):\n\u001b[0;32m    666\u001b[0m     \u001b[38;5;28;01mimport\u001b[39;00m \u001b[38;5;21;01mnumpy\u001b[39;00m\u001b[38;5;21;01m.\u001b[39;00m\u001b[38;5;21;01mma\u001b[39;00m\u001b[38;5;21;01m.\u001b[39;00m\u001b[38;5;21;01mmrecords\u001b[39;00m \u001b[38;5;28;01mas\u001b[39;00m \u001b[38;5;21;01mmrecords\u001b[39;00m\n",
      "File \u001b[1;32m~\\anaconda3\\Lib\\site-packages\\pandas\\core\\internals\\construction.py:493\u001b[0m, in \u001b[0;36mdict_to_mgr\u001b[1;34m(data, index, columns, dtype, typ, copy)\u001b[0m\n\u001b[0;32m    489\u001b[0m     \u001b[38;5;28;01melse\u001b[39;00m:\n\u001b[0;32m    490\u001b[0m         \u001b[38;5;66;03m# dtype check to exclude e.g. range objects, scalars\u001b[39;00m\n\u001b[0;32m    491\u001b[0m         arrays \u001b[38;5;241m=\u001b[39m [x\u001b[38;5;241m.\u001b[39mcopy() \u001b[38;5;28;01mif\u001b[39;00m \u001b[38;5;28mhasattr\u001b[39m(x, \u001b[38;5;124m\"\u001b[39m\u001b[38;5;124mdtype\u001b[39m\u001b[38;5;124m\"\u001b[39m) \u001b[38;5;28;01melse\u001b[39;00m x \u001b[38;5;28;01mfor\u001b[39;00m x \u001b[38;5;129;01min\u001b[39;00m arrays]\n\u001b[1;32m--> 493\u001b[0m \u001b[38;5;28;01mreturn\u001b[39;00m arrays_to_mgr(arrays, columns, index, dtype\u001b[38;5;241m=\u001b[39mdtype, typ\u001b[38;5;241m=\u001b[39mtyp, consolidate\u001b[38;5;241m=\u001b[39mcopy)\n",
      "File \u001b[1;32m~\\anaconda3\\Lib\\site-packages\\pandas\\core\\internals\\construction.py:118\u001b[0m, in \u001b[0;36marrays_to_mgr\u001b[1;34m(arrays, columns, index, dtype, verify_integrity, typ, consolidate)\u001b[0m\n\u001b[0;32m    115\u001b[0m \u001b[38;5;28;01mif\u001b[39;00m verify_integrity:\n\u001b[0;32m    116\u001b[0m     \u001b[38;5;66;03m# figure out the index, if necessary\u001b[39;00m\n\u001b[0;32m    117\u001b[0m     \u001b[38;5;28;01mif\u001b[39;00m index \u001b[38;5;129;01mis\u001b[39;00m \u001b[38;5;28;01mNone\u001b[39;00m:\n\u001b[1;32m--> 118\u001b[0m         index \u001b[38;5;241m=\u001b[39m _extract_index(arrays)\n\u001b[0;32m    119\u001b[0m     \u001b[38;5;28;01melse\u001b[39;00m:\n\u001b[0;32m    120\u001b[0m         index \u001b[38;5;241m=\u001b[39m ensure_index(index)\n",
      "File \u001b[1;32m~\\anaconda3\\Lib\\site-packages\\pandas\\core\\internals\\construction.py:666\u001b[0m, in \u001b[0;36m_extract_index\u001b[1;34m(data)\u001b[0m\n\u001b[0;32m    664\u001b[0m lengths \u001b[38;5;241m=\u001b[39m \u001b[38;5;28mlist\u001b[39m(\u001b[38;5;28mset\u001b[39m(raw_lengths))\n\u001b[0;32m    665\u001b[0m \u001b[38;5;28;01mif\u001b[39;00m \u001b[38;5;28mlen\u001b[39m(lengths) \u001b[38;5;241m>\u001b[39m \u001b[38;5;241m1\u001b[39m:\n\u001b[1;32m--> 666\u001b[0m     \u001b[38;5;28;01mraise\u001b[39;00m \u001b[38;5;167;01mValueError\u001b[39;00m(\u001b[38;5;124m\"\u001b[39m\u001b[38;5;124mAll arrays must be of the same length\u001b[39m\u001b[38;5;124m\"\u001b[39m)\n\u001b[0;32m    668\u001b[0m \u001b[38;5;28;01mif\u001b[39;00m have_dicts:\n\u001b[0;32m    669\u001b[0m     \u001b[38;5;28;01mraise\u001b[39;00m \u001b[38;5;167;01mValueError\u001b[39;00m(\n\u001b[0;32m    670\u001b[0m         \u001b[38;5;124m\"\u001b[39m\u001b[38;5;124mMixing dicts with non-Series may lead to ambiguous ordering.\u001b[39m\u001b[38;5;124m\"\u001b[39m\n\u001b[0;32m    671\u001b[0m     )\n",
      "\u001b[1;31mValueError\u001b[0m: All arrays must be of the same length"
     ]
    }
   ],
   "source": [
    "prod_df = pd.DataFrame.from_dict(prod_dict)\n",
    "prod_df"
   ]
  },
  {
   "cell_type": "code",
   "execution_count": null,
   "id": "e4ed6cfa",
   "metadata": {},
   "outputs": [],
   "source": [
    "## unable to proceed due to above error"
   ]
  },
  {
   "cell_type": "code",
   "execution_count": null,
   "id": "98272763",
   "metadata": {},
   "outputs": [],
   "source": []
  },
  {
   "cell_type": "code",
   "execution_count": null,
   "id": "a8e04f4b",
   "metadata": {},
   "outputs": [],
   "source": [
    "#Q3  Write a python program to access the search bar and search button on images.google.com and scrape 10\n",
    "##images each for keywords ‘fruits’, ‘cars’ and ‘Machine Learning’, ‘Guitar’, ‘Cakes’. "
   ]
  },
  {
   "cell_type": "code",
   "execution_count": 44,
   "id": "026c84ca",
   "metadata": {},
   "outputs": [],
   "source": [
    "import selenium\n",
    "from selenium import webdriver\n",
    "from selenium.webdriver.common.by import By\n",
    "import pandas as pd\n",
    "import warnings\n",
    "warnings.filterwarnings('ignore')\n",
    "import time\n",
    "from selenium.webdriver.common.keys import Keys\n",
    "from selenium.webdriver.support.ui import WebDriverWait\n",
    "from selenium.webdriver.support import expected_conditions as EC"
   ]
  },
  {
   "cell_type": "code",
   "execution_count": 45,
   "id": "011e86d4",
   "metadata": {},
   "outputs": [],
   "source": [
    "driver=webdriver.Chrome()"
   ]
  },
  {
   "cell_type": "code",
   "execution_count": 46,
   "id": "35bd73fc",
   "metadata": {},
   "outputs": [],
   "source": [
    "driver.get(\"https://images.google.com/\")"
   ]
  },
  {
   "cell_type": "code",
   "execution_count": 47,
   "id": "4a6b83ae",
   "metadata": {},
   "outputs": [],
   "source": [
    "search_bar=driver.find_element(By.NAME,'q')\n",
    "keywords=['fruits ',' cars ',' Machine learning ',' guitar ',' cakes ']\n"
   ]
  },
  {
   "cell_type": "code",
   "execution_count": 48,
   "id": "0dfabce9",
   "metadata": {},
   "outputs": [],
   "source": [
    "search_bar.clear()\n",
    "search_bar .send_keys(keywords)\n",
    "search_bar.send_keys(Keys.RETURN)"
   ]
  },
  {
   "cell_type": "code",
   "execution_count": 49,
   "id": "d4d04d77",
   "metadata": {},
   "outputs": [
    {
     "data": {
      "text/plain": [
       "<selenium.webdriver.remote.webelement.WebElement (session=\"1c91d1ba9972ed182ff58c1f09c49092\", element=\"EE9A35E1C3D6DCCD5A929600A7E47C38_element_42\")>"
      ]
     },
     "execution_count": 49,
     "metadata": {},
     "output_type": "execute_result"
    }
   ],
   "source": [
    "WebDriverWait(driver, 10).until(EC.presence_of_element_located((By.CLASS_NAME, 'rg_i')))\n"
   ]
  },
  {
   "cell_type": "code",
   "execution_count": 50,
   "id": "ef16b6ad",
   "metadata": {},
   "outputs": [],
   "source": [
    "image_elements=driver.find_elements(By.CLASS_NAME,\"rg_i\")"
   ]
  },
  {
   "cell_type": "code",
   "execution_count": 51,
   "id": "34550b84",
   "metadata": {},
   "outputs": [],
   "source": [
    "image_urls = [element.get_attribute('src') for element in image_elements]\n"
   ]
  },
  {
   "cell_type": "code",
   "execution_count": 52,
   "id": "83d093cb",
   "metadata": {},
   "outputs": [
    {
     "name": "stdout",
     "output_type": "stream",
     "text": [
      "Top 10 images for '['fruits ', ' cars ', ' Machine learning ', ' guitar ', ' cakes ']':\n",
      "data:image/jpeg;base64,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\n",
      "data:image/jpeg;base64,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\n",
      "data:image/jpeg;base64,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\n",
      "data:image/jpeg;base64,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\n",
      "data:image/jpeg;base64,/9j/4AAQSkZJRgABAQAAAQABAAD/2wCEAAkGBxMSEhUUExMVFhUVFxYVFhcYFxUYFhUVGBgWFhgWFx0YHSggGBolGxYWITEhJSkrLi4uGB8zODMsNygtLisBCgoKDg0OGxAQGy0mICYtLS8tLy0tLS0rLSstLS0tLS0tLS0tLS0tLS0tLS0tLS0tLS0tLS0tLS0tLS0tLS0tLf/AABEIAMcA/QMBIgACEQEDEQH/xAAcAAACAgMBAQAAAAAAAAAAAAAABgQFAgMHAQj/xAA/EAABAwEFBQUECAYDAAMAAAABAAIRAwQFEiExBkFRYXETIoGRoTJCsdEjUmJygsHh8AcUFTOi8UOSslNz0v/EABsBAAEFAQEAAAAAAAAAAAAAAAACAwQFBgEH/8QAOBEAAQMCBAMGBQMDBAMAAAAAAQACEQMEBRIhMUFRYRNxgZGxwSIyodHwBhTxI0LhUnKCkiUzNP/aAAwDAQACEQMRAD8A7ihCEIQhCEIQhCEIQhCEIQhCEIQhCEIQhL9u2g+kNGzs7Wo0w9xOGjSPB7gCXP8AsNBPGFMs4qkd+pJOsNDR+ESSB1JPNQq9/SonLu7kPfgE72LgATpKnVa7W6nw4qjvXaMU8mQT5qTabMQJYJPvZnER11S/ZrkY+sMdU4JJc12T53MkQMPPIwI3yqitf3NV4ptIZPXf/kRHfx5c09Rp0ZmoTA5cT7eK32e+bXW/tUy4aSA0N55uIE8pUSrtHaKdUsqSMGbgQ05cctU5Nr0mANBa0AQAIAA4ABVF/UbPUp1HBtN9U03NYYGKYOHM8CfBP1bRgZ/9Ds3WofoJn1SqVWgakOZoeuo13JP12Wuz3waujgd2E5Z8iND1nwXla32pubcBE6FrjlwyM+OfRVFwXUaQFSoPpD7LZkN5mMifh10YaMgZ6qm/fVqVT/2Enjy8evd5J57KTXkU4c3mfbn3+S12baVpjG3DxIMjw/2ruhWa8BzSCDvCpqtIEEACDqCBhd1HHmqWpVq2N+NgJon2m5nAeHTmrO3xyamWoNOf56eST+1ZV0Zo7gJ0PToeSeUKDdd5MrsxMPUbwpy0LHteMzTIUBzS0lrhBCEIQlJKEIQhCEIQhCEIQhCEIQhCEIQhCEIQhCEIQhCFptNobTaXOMAfuFuVNtLZ3vo/RiS1wdG8iCDHE5z4JdNoc4AmE3WcWMLgJICi2naljCMpE5xqPmrC8a5dQmk6DUaAx41Ad77Z3gGRO+Fy+21XF2EA4j3Q0aknKM96bza2WalRp16zGe5ie4NbiDXVHCTuAa7yA1TGPVBaMZToa1HyGj38OH2BUTCq9S4c81PlEFSrDTbRYGU25NyGc9SSdSd53qypWiRvkahKd17SsrMDhDmv7Ts3gOb7DsPeDpgkZxJV1Z6hLQ9siQD5iVibuwu8OyOrEOa+dpOu53A11niDryV62qys5zf7hB167FWwtCj22iyprkeI1UdlqdocxzWHalQ337S2DqDzTgowVg266Y+sfErz+nM3A+ZWVotgptBObj7IVFbL3qu0P5N9Mz4ldp23atzD4RzP4de7xXM7i/s2DM7kANuZmAB3lMFGjh0+fqVuz4eaT2X3aaZnE1w4HKekymS4r6ZaBEYag1afyTzLAASHSuVHPpuAqtLZ22g+IkL29bwFnpmpUcABloJJOgCoRtrTDmtq06jWVMmvcDhO7hHx6LV/E5+dmZxqYiOQj9Us9uHU3UntD6btWnVp3OYfdcOKsKVnQZTD6jS7MSNyIaI1HCZP90jSI1Vja2gr0y4bp1NN9lqitQzpP9pu4Tnluwncf0TxZbQ2oxr26OEhcj2O2kNJ38najNN2VJ7tM9x5HfwT3s9aDSqus7zk6X0id43t65ehO9Wtif2zxSc6Q75Tz/zwPgeMmJe0nuHxD4m8ebfu3Tw7k0IQhXSqUIQhCEIQhCEIQhCEIQhCEIQhCEIQhCEIQhCEIUW0W1rOZ4BVta2VamTO6OWvnuVbdYtbW5yF0u/0t1P2HiU6yi52uw6qRez2jCMILpxAkDukTDuufxXLP4nWIVatDtBUNMUKwp4C2BaC6nHaYvcwgkxnlkuk/wAo4Nz7+855+BOqgW+zBzdQYO8Zg8x+ao2X3/kW3NwC2mAQBxGm+m/WJIB2TxZ/TLWame6ft4pBp9nZLJjJ+joNIaBINV1RwJiRl3iGg8yVtu7bPtqmCymqBTs7XS+A19Qe2MJmGCWtG8wTzNhtbcDq1lcGkOfjY8NzDXBpktMZ5iVSWGykuqVDSFHGMGBjcNKnSkksZIBJziYA+C2ttdMu2tfbmWCRMcePUcDw0VbkFIufXADtNJnTgB+alPF1WztRP3SPxCY9FLJzUW5bIWUgXCC8zGhDYhrfz8VIZm7z+C8yxrs3YhVdSjKXGI27x3nXxVzYhwt2B+4Gv50S7f8Ab8PaOPu9xvoPmfwhL5vcvENGF28b44hWl9MltSfdfjPTMfFyWXW3cwE89yuqFFposAEwPBWuDNaWVXnftCD3ADKPIyO9eVqpJnfvPHqpd03g6lVaWu7wgjwgEfD1UEMe7N0DwCwoUgKrc5Mj4qa0CIVhiFFta2ew8ie6NZTRtxbhWtVCNG0S8/jBHxKosp1zXl71T27zvbTos8x2h/fNY0agcM9fgu1WFrGDofqT7QmMGM2rXHj9lrqtFQFj9RmCNQeKY9mb+fUaKTz9PZvpKTvr02wXNPHujFzDYS3QOBxDvAlXWxVhdVtzKobDKTSXE79QB0OKERNN4PygZp5OGxHedI4ynsQawN7SNR9eY8tPFdpoVMTQ6IkAxwkStqrrlMUgz/4yaf4R7H+BarFXdN4ewPHET5rFvblcQhCEJaShCEIQhCEIQhCEIQhCEIQhCFg9wAk6BcJAElC8qVA0STAVfWtBdvhvDef3wWl9oFYy1zcIyGc5/NQ6lQkwsjimMuJyU/k57ZvfLy2zd2imUqHPf0VTtHfBYQ1hDJEyY7rSYETlJI+Cttm67n0QXGczBOpH+5VBtDRpGtZmvJDq1Ts4BGbKbKlYk7/dDcvrpkoPDQGgQBkAoDbu3ZQYAPjdqTEcSIB5cABy5qZUyGkGNGvEqqvDbGm2q6lTaHlhLXuc7C0OGRa2AS4g5HQdVJu6+6Vpf2bm4KsS0gyHAaweInQhKl9bF1HVX1KLmkPcX4XEgtc4yRMGRJPTmrTZDZZ9mqdtWeC+CGtaSWtnUkkCT4cdVZuq0HUtwdtD4cPRSKlGzbQzMd8UdZn0hXtpshbkdDvGh/8AyVosd2UsWIy4gyA45A8Y0Pqrl1YKurENzb/pVvaft57N5DDu3MfTY+I7yVXhgqfMNRsfzZeXhXgnkIHUqLUdgcAdwzhY2f6SpJybTOKDqXbj0C0XjVxVDG8ADyRZUqFS4Y+7MNc7XkBB36TAJ9Eu47VlFwpD4gPr/EqFbKlF+ICnMgtdmSS0zMcDrCWrVd3ZOI1G4jRw1B8lfUrI/GThcT0W20XM+BDmnutDmumJAAkEZgrYY6cPo0abaT2tMwA3XSOMcNtVU4Be3tGs81GEtO86GeBEwJ6cR3BKNqpd0wvbhup1SoDG+B6GU10rgc494Bo+/PkIz81e2C6xTHdEnSYjLgOAWb/eNpsIb8TjtEnz027pWjvMRdXpGjTaWg7l0AxyABOp2kxCRdo9mqorOqU2l7HhuICMTXNEAgHUQPitV3bHV3wXdwcTA8omemS6UaIGpA+KHVgNB4lMtxavSpBlTLI0kiXeUwfEeKRTunsYGU9ku2DY6kzN8vPPIfPwzCvLPSZTGFga0cAAAsX1i5ZUqRO5Vd1fVrkwXOPT7NGg8khxcdXlWl1VGy7vCTBjfIEE+Qb5K1S8KLd5zRRfUp1WEOLqbzge05hpIOF7fq5gAjTOVpcJxb4WW9VsbAEEHukbhQKtGSSCmFCELTKIhCEIQhCEIQhCEIQhCEIQhLe3FRws8CYLgHRM4c8sucJkVNe9UOJpwDABI4zPyHmoGKPyWlR3ID1A909bPDazCef3KSdl3viq4yGEgNBnKMUgeY04q9u1+LEecegUG3Vg0hmJjG9f2ArGwMAYMJkGTOs81gb3MSaj2luaIkEaDvAlWz6ofJCV7xtjHX1ZqVQgBtEimT7teriLT1hjAOJIG9NlWphMP7h5+yfuuOTvjxASftbc1N9dz3tzqMYGv3tLJHd4Ed085UZ+1d4UHMs7XsrYx3HPpl1Y6jCcLgHERqQZ3q/Zh1G7sqOsEN3H1Ef7p++qjuZUY3tRqD9E71rYymMT3sa3i5zWjzJS3eW1TnOAoGacgdo0SCInECdWzABblnMosWxbqjxabwd21X3aZgsYOBA7p+6O7rrqrm23ZSqmXNz0kEgx4aqup/trGvD5eI3gAA9ASZ7yQByKdoOBMuHuqKhftZpHeL8/ZMunkN8prcoNhuqmw/Rsl3EySPE+yrDsCPaIHLX1TGIVmXTg6kzKBxMCfLTT31TtV7CfhEfnRRqtAHPf+8lg+yDmpRgaeZQw8vNVoMGJScx3Xlns7jzHE/NS8LG6u8vnr6rQ4OImSVoe2QRxTzaraWzfE/Ye5KbIzblZV7wDXAMbI1c6CQBrnu0RVt7nDWIJHl0VFa7wFOliJnEXNaPZLyASYxZNhs5zy1hbrlvYVabi9nZmm7AWghxJ7Nr5GGdztASp9SjdOodqAcgMSNBMxoNzrpxjvlcJpMeGaZuXHmreRkdTHh6KO6oXO5bgjtw8DD72fPhHmvaDVWEECSOifaAFKoADMieS3Pqud8gqPaLaClY2Avlz3yKdJvtPI3/ZaN7j4Sckg3rarZaxirVzTpk5UaTixoH2o7z/AMRPQK+wjAL3EWSwhlP/AFHj3cT5gKpvsSt7U/1DryXWQwqfdw73qvnt11PoHtbLUe14zgHC4xwLdeh1XW/4fbWC1UWOqf3Q7s3wIBO5/DPKRuJ4K0b+m6+H3dP+4E8By1njpz5ck2zEKFzRL2O0GhnQgnon5CELSJtCEIQhCEIQhCEIQhCEIQhCWNqwWOFQcIngR/v0TOl/a4g0wN+Z9CpFq6KzVFvWzQd01XObTb6lQkAFx3pm2Yqk0Gh2ThII4ZzHkVWbOAfS8Q/PpA/VXJox36fiPydy4H/Sj/qTCje0MtM/EDInYmIjpvuoGD3nY6v2P069VMtdmZVbhe0Oadx4jeN4PMLVdl2UaDpp0wHEQXElzyOGJxJjlK9oWoP5OGo3/qOa3GeXqvLHGvbk0nEtg6tJI16jZbBpa8S0yFYPrDDmoQpEmYICp77vF1IANIxEFxcRk1oyho4kqVs/fD7RRDnAgyW9Yjz1ieSlVg6rSFV40HLUyee3JK7FzG5hxVo6qAIbkFHqVFpdWyWDHSoLnOf8yU1gat7M1MY9jRxKhBZop1uz1AE9UObmUkV/VQrxxCm9zPaDXYfvQY9VsWymZBC4arnEF2v5skxl1SJaLNUqYa1PE7Awue+rJkQH93TE7KIAgdVMuyxw7CzNzwS+ScIgNaDloAA2I1y4Smd0EEOzBkEcQciFqY0NbhptDRyEBXzsfqmkWBoA/tjQN7+Z6QAOSQaP9btR+cPRQrGzDOcxIB01JmPElSbxt7LLQfWqeywTA1cTAawTvLiB4rCz2ctIBHOeKTf4pW8uqULMDkAa7xxMmnT+FU+I4KPh1kcQv2UCdCZd/tGp8/UhJvLjsaRelqpbKloqur1TL3+TWj2WN4NHzOpKlVqpAzOfCRl15rRZW4Wl25sjxiZ+K8FQGTwXqWIX/wCya2hbgCAOGgGwAHh4aHcqnwLA6eJl1zdE5ZIABjMeJJ3gdNzxEQdtitgeYgtI3a+qY9gdnrWy1is2m4Weo55LpbhIyOL2pnFIGXFKFjH0g6H1zH/po8F9CbPWbsrNRYdQwT945n1JTle4L7alUI+I6/Qj7FVzbJlG+r0KZOQQOvzAjXmIIPirNCEKrVqhCEIQhCEIQhCEIQhCEIQhKe1Vnec27v3CbFptFAOGaAY1C4QCIK5Fdlp7CucYwtqd1xnIGZaTy1HjO5MwcWmRIUm/tnA6SAl+lan0O5VBLRk1wzLRwdxHr1U6hdGYqHfiq64sgGg0REcB7dVdVGtfyI3tyIPTUdQsHXgKTe+S527ukZcSd/kFFp1muza4EcjP+lW37RLnNaDGIgeGaXXwq1u4NVgdG0/n02UBt/XtwchI5/wdlaVbOy202vktwlzZ4tBmDnxnyUuzUm0WBjJMTmcySdSTx+QWF2hlCmKYMgZ8wTmZ45rGtbG8/IrznEsKv6dd1JlJxpyS3I0lscNpjuK1triVF9BofUAI4OIBn3W7VYXnedGy0+0rvDG6DeXO+q0DNzuQUO8L8p0KL6zmvc2m3EQ1uZ+QzzJyGZXK7Xbatsq9vaDJP9tg9ikzc1o+J1O9OYT+mrm8rRXa5jBvIIJ6AEfXWO9JusTpUaedpDu4yme17aWu0nDZGCiw6PeGvqnnBljOkO6qmtTLcTJt9fEN3a1GtnowgDyRQcQNw6rE25swSROhIIB6L0S3wXC7dopCm2TzguPifiWXfiGI1ZrMnKNyGyB3mCFYbObb2mz1RStjjUpnLGYxsH1g4e23iDnz3HqtN2hBy1B4hcTvyjiphwHeaQR0Ov75LpmwdsNWw0STJYDTP4CQP8cKwf6twilaPFWkIB38dtPAjuhabCrw3dDO4ajQpm/lWA4nOGecDNe9u1vstHU5qM8gCSQANSTAHUnRVNr2joMyaTUP2Bl/2OXlKzlBlau6Len5CT/2Og8IU52Vo+Mq7fVLtTK47tpahUvOvGYpinSH4WAuHg9zx4JxtN/2iplTaKYO8d5/mch4CUu19l+0OMS151dri+9x669Vsf03h9WyuTcXJ1IiJkiYMk7cOBKrMQPbUTTpqqpExA1kEDjkWx5OQbO4iIPGDERzgnF6KcNmrWDApYubXNj1IPor25th7TUINXuN4EyfTIeq2VzSsazhWqGTHA7+G/oqqyvsUtKZt6GjSSZI+UkQYO3KZB6QqXZ6wd8HXieO9deuK1PIAK03RsuykBlomCjZWt0Cr7iuazpiANhyH57KVbUOxbqZcdSeZ/PeVvQtb6gaCSQABJJyAA1J4BUVo2us7fZxv5tbA83EZc1Gc4N3KmU6L6hhgJ7kwoSRaduXTFOhumS4GBnqDh4Heq+ptfaCZxNZywADpLp9CmzcMCmswu4duAPEe0ro6Er3NtWypDa0U3nR3/G49T7J5HLnuTPKca4OEhQqtF9J2V4g/my9QhCUm0IQhCEIQhCFg9gOqqryuVlQaK0qVANTC1fzrOPoU0+vTpmHuA7yB6roaTsFzu99li0ktkHiMj6KNepPccPabB6EDOV05zWPG4qlvS4Wv3KZa1+yOYCQVEvLUXDcpMQkatf1NgBqtc2THdBcJzO7PdwWJv6gRlUics2vHxat17bMxMBK1suhzJyT7b5xeJgNn8109FHdhtMUzqS6DyEnhpB9VMv++aZoVKdMl7qrXU9CA1rwWucSR9UmI3wliy0ogKXU0K1Us8vrNLfFwV4GgGVRB/wZdlmagnDu9kKLbGj/AMz/ANm5+vqVsMy48TvmWnw18FrbTLznkP35fqVkbS3uLi6D3gzILiRG3D2A4L0+/vLKyw/s6ZaWlpDAIMgiJ03BmSeMkbqwsrC5gHJqYLhtNag1zacQ44iC2YdEYhzyHkt9w3G4tBIid3Abk33fcHEKXifZXVQtcA5o011Gn+Vk8Npuo0eRJnziPpCWXWOtXINRzncJ0HQDIeAVjY9nuSc7NdLRuVhTswG5Rmsa1oa0QBwGg8lNJlK9k2fHBW1C5GjcrgABZJS4otKwsbuUhrQFkhCEIQhCFQ7btmwWgcaZB6EifRcesFufRyPebw4dOC7xarO2owseA5rhBB0K5rtRsUWNdUs2bYk0yc27+6TqFEuaL3HM3yV7g93RpzSq6Sd+HL8KpXXvRme/MERh4xIOcblFdfAaIZSgczA8h81VVburNMOpPEcQ4fopN23BXtDsNNoJ1gvaMuOuaiQ86AK+Jt2DM4iOp0WNoveoRGJrR9kfNdO/hhb31bIcZJwVMLZJJDcDDEndJdHDTcliyfwyquzq1Wt4hoLiPF0BPeyOz7LFTexjnOxOkk8QAFJoUajXZiqTFLy3rUTTpnWREBXdorNY0ucQ0DUlRHX3ZxrVaOsj4hLt/W01azmT3KRwgcXkd53hOEePFVT6EEFoHPQesEpmtfOa4hgkBQ6OHtc0GoSCfz0T4y8qLtKrD+IKQyq12hB6EFc0q2hrcyTP2ZI9citZvNu5pnwCaGKx8wHmfsU8cIzfKT5Supqmt94FtQs0AjTiRP5qq2QvZ73Gm9xcMJcJ1bBAidSIPhC3XvTPbOMGCARwIgCfPJNYndVH2YqW876xwABmY4be8KG22FKuadSNlLqSd59f9hasPX1n4qsNVw3nzKxfVOSyjrsO1y696mC3PNW4B3rOwWo9oGzkd27f66KlNQ8fVWN2Nc57CM41k7svkVIsq1R9zTbSEGRx3E68uEpurSDWEuV5abG1w0S/eNxA7k1LFzZXoCqVyu9tkw6S3uu47j1SPbrBVoOiowt4H3T0OhX0HVsTStJutqmW96+iMu49O4qFcWNOsc2x58+8LglkNSqcFNnaE7g3EfGNyeNmtiXlwqWiJGYpiIB5xkegy5ldHo3cxugC2Wqq2lTc8jJjS4xrAE5JdfEaj2wNB36+aaoYZRonMdT5DyUWyXY1gzWw2+gz32+GfwSq63vrjE4z9key3lG/qtDmTvPQZeoz9VTOuNJaE866n5QnD+s0Pr/4v+S30bZTfk17SeE5+WqSOzIiJPV7iP8AKVmNJdAjnl6rgru4hcFy6dQn1CXtmLydUL6biTggtcdS0zkeMZZ80wqSx4eJClseHtzBCFBve8WWek6rUPdaNBq5xya1vFxMAdVzx22VsJxZa/22NYWj7Jc+CSNCZE8BonGtJ2TzKTn7LqKEk3Xt2HZVqTmERJbBid5E6dC5M9hvajW/t1GuPCYd/wBTmuFpG646m5u4U9V9asGNc5xhrQSTwA1Vgl2/KgOKk4gNqAieq61cZE6rnm3951K1o7Jri2nTEBrSQHOgYnOA1M5Cd3VKlnxU3tqNcQ9pDgRqHagymLbG6KzKhqtbipuiXNzh0AEOGozVJd1ifXeGtgfaccLR1P5KuqNqGodNVqKBtxbgaRGu3jK6/sZa61SyNqV3h5c5xY7KezmBijImQ7PhEpks5y8SlC6rZTs1GnRL2kMESDq4klxA6kppsFSWzxM5qxIIbqsw4DYLnN91C20VoJH0j9DzKgOtLyc3OI6pw2iuJjqj6mIt7vaOynjPw9Um1g1uZxR0H6rKXVtUpVCDsSSNeq1Vpc06tPMOAE6e+y9rVXEAbhkAtTaLtMJnoVd3NamUqtIlgLXGHE5mDkCOmq6G+mOCftrDtgSX6jp/kJq5xD9uQ0MkHjPVJuxlgqtrB7mFrcLhmInTTxhM942cPe0HQ03tyy3sI9QpdEd4fdPxC8tPtsJ+1+Su7e3bQZkGu+/VZ66uXV35yI7lS2a7A5jSS6TE6fJbm3OzfJ/fJYf1AU2NESdeUStFTaZjM3U3xvLe96ZKtczCmVchawO5ZR9oTkXZbmBMd6lG52c1Ku+zta7IQd/PL9Sqqy7YWWpUFPE5pdAGJsAk7tZB6gBXNjd3h0n0arC3t7ZkuosaOoAUR1Wo7RziVPK0vtDRz6Kvt9oLauZ7uQI671hUrNcIDgqS+xx1J7qdJolpjXw1jTw9E82nxKm/1Bv7K2C2NVUGcCPivMQb7UeCqmY/et+YtPePsQldm1XVKoHaHRRb6bNnqj7Dvgq+zW8B8jTf0V5UYHAgiQRBHEHVaXC8QF7RJOjho4D6Hx+6ZqMjRcobVw6SDxBIW4W6oB7fmJTBU2Va9xwPLcyIIxfnKob7sAsrgx9RhcRIAJxRxIP6pupaVqR026FUrqFRg6LQ68qv1vIBYG0E6kk81hZOzqOg1Wsne8wPEiYTbY9jm5F9TFv7uQ896RTt67z9z/K42lUft6rDYmoTWfMklhJ/7BOT3gAkmAMyToBxVfdFjZSxNY0Ad3qdVo2xdFgtf/0VfVhCuKdLs2hk/hVpb08rQ2Vz3abailaq0iq0UaRPZgk992hqkdCQ3gJPvECoqXzZx/yExn3WnPxI0SdVfOuvHeeqFYNpgK/bRa0QEzWi/wCicw2rOkghmXDUz5LS/abLKlpvc6fHJoS8BwW+jYqjzDKb3HgGuP5JWUJZY0bpw2a2/tDKzGuINJzmtLDidk5wHdLnEtgEnLLkus3vdoqhcMsGyltL2O/lqjRiaZcI0IOW8r6IUasACIVZdBmYZY8EgW7Z9zoBJgTA1HkVrobPxlH78F0B1MHcvOxHBNSVHzFLV33MAQYTHZ6WEQtgaFkuJKqL6s5eHNGrqTgOZGg9VzG1sJIG4a8ddPiuqXlUDC1xyAkTuz0nhmEmX1RFWpLaeE7yARi5ndKrr+2dUyvZuNNVa4fVaGupv+Uxt059DxVbZqBe6kwauIHQTmfAZrqAe06EHxSLZra2zuBY0OcG4eOpk5qfSvirU/42DnJP5JyytzQaZ3MfQfyk39w2s4AaAe/4E1tHe8D8Qo97Ui5hjVF2B0S4yT5DkBuUwiVNVYkK2Wh493vDIzMGN4gGFBqW15n6In8WX+QCfrTdrXblD/ojeCra2E2lZ5qPbqepHoVKZeVWNygpEsV1F1YVKjSYcHBrSREaSSM/NP1003TiOUx5AQFuoXY1u5T6dMDRTqVJlNuVggKMTJlVN6MwvBOYdx0BA08QJ8CoJYw+6Ph8FbX2wGk6RoMQ5FsFbP5Gmfd8svgs/iX6eN1WNam/LPAg794PsnW1soiFSGzN3SOh+a1EAfqpd7hlKAwHGc/aMAcTOvTkli8LTUEd7yy+GqzVXDH0q3YvqNJ6SY8wOHVOF0szAaK7kwSASBmYGia6Z7o6BLFzXp21PCYxMfS0EBze1ZDo3HimpbLCcOpWtMvpuLi6JmBtPDcbnclRi8uVfZj33j7R9c1y692GpbqtV2eTmdIeY9MvALodvtApVpdIY/fGUwBB4JP2ppMZUNSm9rm1DiwgjE1x1y3j5qyu2ksBaoNyHFuipMAB6FP2w9rxUHNJyY7u8mkTHSZ81zmnUNR0DLmZgLot0ChZ6AYKge8nESPaLjGg90QAIUaypODpjRMWzC10phsh7zvw/mi8rG2tSfSfOGo1zDETDhEicpWq63lwJIifgOPPVWCsHHWVZt0CQ6P8PbAWh7mEd0Od9I4N0kzwASPfVps1N9RlmslHCJa2q81HuMGMYBdAnUa5EFdNvSxPr2Z9JhhxbhE5AlrwcJ4A4CPFcqiJxDOY5ghN3FZ7Nik1rmo2NSvNn9rn2cuDrPRq7hOTgdcnQXRB8F2u5rQytQpVWtIbVY14aSTGIAxzXz7aHNlxiZc4RlHdgEnxXa/4f0KtOwURVmTic0HVtNxJYOWWcbgQNyWCXiXD/KeJzNDiIPrpOiYKkAtgASVJVfUqd5n3vkrBdIhIQhCElCEIQhC11KQcIIVPaNn6Z0aPJXiEIlLrbhA3KfZrsDVZoQhYsbCyQhCEIQhCEIQhCFDvUfRP+4//AMlZsriBAJ/fFZ2qniY5vEEeaoTeJp917TlvH+lwmAhV98WhwrvxAiYLebYAy5TKqbU4GFPviqK5HfiNJGY45qPZrG0EFzi8jcAI8d3xWYr4Q99yarDuZ1nT7p7tfhykKVsvZXAuqkQ1zqbW/a+kYSRyy+PBPAS/ZHvqYQRABkBX7RktFQoijTDBwTAUa3WQVBBS1adnc8pHQkfApwXhCeXYSW24Nxk9S4/mrO77la3RoHgmDCF7C7K5AWFClhELYhC4upfqWvscU5HG/XLIvc4HphIXP9qbvpVS51BlRlRzi5xBd2ZJkuMHeTnlAXUrxu5lUd4T5/kqC0bNtnJo8k5mHELoMFcosez7sQ7QtInNoe3McMu9mun2O9zhAGI5AYYkDkDkYWbLh5Kzsd0RuQaiU95dus7rD6jg94whpkCQZyjPznwCvFpo0Q0LckEykIQhC4hCEIQhCEIQhCEIQhCEIQhCEIQhCEIQhCi2mxtfuXiEIUB9ztWdG6WhCEIVjRs4atyEIQhCEIQhCEIQhCEIQheEIQhC8whewhCEL1CEIQhCEIQhCEIQv//Z\n",
      "data:image/jpeg;base64,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\n",
      "data:image/jpeg;base64,/9j/4AAQSkZJRgABAQAAAQABAAD/2wCEAAkGBxMSEhUSExMWFhMXFxYXGBUYFxUYFxgXFRgXFxcYFxUYHSggGBolHRUXITEiJSkrLi4uFx8zODMtNygtLi0BCgoKDg0OGxAQGy0lICUtLS0tLS0tLS0tLy0tLS0tLS0tLS0tLS0tLS0tLS0tLS0tLS0tLS0tLS0tLS0tLS0tLf/AABEIAMsA+AMBIgACEQEDEQH/xAAcAAABBQEBAQAAAAAAAAAAAAAAAgMEBQYHAQj/xABGEAABAgQDBAcFBQUGBgMAAAABAAIDBBEhBRIxBkFRYRMicYGRobEyQlLB0QdicuHwFCOCkqJDU7LC0vEVVGNzg5MkM0T/xAAbAQACAgMBAAAAAAAAAAAAAAAAAwQFAQIGB//EADcRAAEDAgMFBwMEAQQDAAAAAAEAAgMRIQQSMQVBUXGREyJhgaHR8LHB4QYUMvFCI2Jy0hUzgv/aAAwDAQACEQMRAD8A7ihCEIQhCEIQhCEIQhCEIQhCEIQhCQ9wFygmiEtCium+A8UxEmXHfTsUV+MhZqVuI3FVOL7U9FEfDZDzuZYkkAVpUC55rNzW1eIOJ6MQGjda/fmeQr+ZweE97ohBzONXGrrkCnHkmzgcHgfE/VV0m1mA6O8sv/ZXEH7RjRVlTatRW+/esVO7QYxc9KwDk1n+VhKonbcYgbGbA53+QXS42z0MgirhW1iFTwvs9lBqHu7Xj/KAo79ss3B/p7qzixeCA78bfJjfusk7bSYP/wCp/c6NT/Gls2xj/wDNRP5pj5RFvYWyMm3+wYe0ZvN1VJds9KnWDCP/AI2/RL/8w86M6kfYlB2hhNBH6NVJsdtY5zg18YxMxsOsaAC461XEkn0XQnz7BqSP4XEeICzkpg8tCcHsgw2uGhDQCOyisxF4VUpm2G5b2PVUuMbFLJmjbQb9B9FbiM06EeKdVFEAdqzvtVOycTIfepwN/BMZtdpkDXCx33FOYIpTk48lDMFqgq4QmoUZrtD3J1W7XBwq01CQQRqhCELZYQhCEIQhCEIQhCEIQhCEIQhCEIQhCEIQhCiTsUgAD2nWHIbz+uK1e8MaXO0Cy0VNExHxDrmHDGZw9p25vLm7kvHPJ1uU0xgaKBMRp2G05XRGA8C4A+C5+Seed1ACf9rRX5zPkApWVjfc/Pnin4rqJrPVJdECb6WhqFSYyZ8MtJO7xBF+Y0PzVOZRwq26fyleOhHh6Jt2c8fRN5nN30Snysa3M6N4HGlPqKeq2FTYEVSnOSekSukzdqYcq+aQ1q02TGjinWPqvA4uJGgGv0TbClyz+qXcXuPhWnomwOdJYnf1+FDrAlezRigAwYJfrVwcwCosRd1aqDGxWNCp00ItB3kW/mFqqLsHtACwtiuHWe41PuPJu08jrXmtxGhNe0tcA5psQRUFdrJsaPL/AKb3C1janSiQ+UwvLJGA0516/hUUlPMijqm/DenZiJlaSNQFQ47gzpU9NBJMKtxvZ372qfh8+I8M/EBcceaosQ2WDNG8UdQ0O4pzmNLRIw1b6jmoczjD4cERB1jmAJ4Agn5K82fx1sdtCaOWTnqiWjgasGb/ANbgT/TVUeGz5YREZ3hGBxcsIEjTUaEcfzTQ9VGOGc6IyDcaH3XZUKrwLEhGYDW6tF2EMzJmCRmhUMiiEIQmrCEIQhCEIQhCEIQhCEIQhCjTM2Gcyq843Q+zbtumcQfYneqExiCVs8tY2pSC9xdQLby8dr2hzTUH9UKiTD6mvcqLZqdJ6Zg0BbfcCQc3fSitYzqAnfQmnZdUONxglAYzjfnuH0PmFNibTvFUO0m1cvKw4mZ9YjRQMFalxFqncLrCbG41EmTEhRYdGm+al3Ch46aFQMOgwJ2ZmXTL3VgtDobBo+K8uPWtelBb73JaTCZDLmyuyxTpSlRuqQRoN/augwMIhaWN03nieJ8a9EsuqalX2FxCITWkkkFzQTrRriG37AF7jmPwYEo+O+KG2c1ga4ZnxBUUH8Q3brqJiD+hlYzx/ZsDQfxWJ8K+K59s5s06chRZ57miGyoY12/n2lYxEEMkrZXNBc2tDwrTy5cEiFzqGhsVYbL7SsnC9tHiLX2i9wIsTYjsPgtvs/iMR7XsiHM+G7Lm+IEBzSedDTuWAwOSLIrojGt6ouT1RS41pz8itrgBLGGI4UdEOct3gZQ1o7eqPFS8RSaAiUAgi9fP7X6FbSHKARrWy00J1wdxp4FEwzU8KedkuHBo1oOoAHgEuLo78PoV5SMLYt3VNPMH70VxmvVR5ff2A+YTkgB0Z+6417M30KZlDenFrvr8k5BfkeR7r6+NK+nom4INygngRyNdfKoQ7eOS5fiUF0CK6lqPyuG4tBpcb7LsOzM2IstCdvDQ011q2xr4V71kMf2aMeJmDmtDhR1a6i1QBxFEmTm4+HMDojOlgigeYZr1dA+hpQjw5hdrstsvY5JGkb218dRxTcfNDiWsyOGfePlvg4rocWGHAggEEUIOhB1BXP5iXMlMkD2D1mc2HVp5jTuHFaWU2uk4jcwjtHJ1WuH8JCz2PbQys2z9zFHTQn2a6rS5ps4sr7Q0P8K12rhDLh3Opdt/f0UTAl7JMpBobG3T54pUWAHGND92JDfTmHwzRYWTdlp5roGHmvQu4Oydxu31KwkSHlcW8CR4Gi5SAUYRur9grrZbQHSsdfT7q82fxUwIgNeqV1GXjB7Q5psQuLMNlt9hsYv0Lj2dqs9m4vsZOzd/Fx6HcfPQ+NDxVPtHB/t5LaLcIQhdQq5CEIQhCEIQhCEIQhCEIQhVWJSTjUtvXdvWemsPigEhjvBbZIimgKTPE2Qd4mgWuW9lnsIkxChhtBXVx4neT+tyeiRbpROUmu9IMuVw2JknfTsh3gamm41qOuvKysmNaLFUZ2Sl2xXxofVLzmdQN15Glkp0qyHZgud+rj2nergwHcClSzWtuW340qukZ+pHvaGvjLXb62b118j1UR2FJ/yqPVV0PCs8GJBjDqRWkEbxu146FZqHsY+CwQ2PDobQAAXUsNK2qt7EiMdavyIKZfLk6OHh9CpWE2swtpIQ69iKEdAfe1Fq6BzP4LEyez4hOL4jszj7oswU0t71OavcKky9wiO9gXH3iND2D1orNmFtrV5zctG+G/vU1J2jtN84LBYHXdbgBuHryW0UBzZnG6aeVGm4lM3Z6p6JdwH6sqeej1fQfqi5WeYtJpx+35CntFVIl4lHN7fW3zVhLttzqR4WWfixqX4FXUCZqDxue43U39O5P3Ia7UBxHPu+oAskYwkMsok7GoSE/KPa9tD2EHS/EbwqrEnXS8NK743CpAbrA7RYGyDHexoOStWjM6mVwq0UrSgrTuUDC5AMjMc2o62m69tO9X21c2TMRLEZaNoQQeqA2tDurWnKij4EwxYoAGlz6D9clx+KxL2OkLXHL3hqdL+i9FhFcK10gvlBPOi20i7LBBO57P8ACVjca/dzEVp+N57nHMPIhbmdlC2C1o1Bzkd1KeCqJ7Cf2rI5rgyIBldmBo5o0Nt40/2VNDI1rsjvDyOv36qpwuKZDiC55o1w15GoWUhxqmivMAB6VpGtR5K3lNl4DKZ3l54Dqjyv5q9kZRjPYhho40v46pry13dBv1PojaOLjxDcsYJ8SKD1uei0rdAlJLDUApS7kGt1zyEIQsoQhCEIQhCEIQhR480Gjiq2exHIL3cfd3DtUc4lmfI254D30TGxucrR8cDmokxHcbaLNx8XiV9qhOgAH6orqG4loJ1IFRz3qDtCWWNoBNAeGqkCDLqk9HxKr57GoEK2ap4Nv56J3GYT3QiIftcOI3j9cFzifk5gvIcx0McXNca9lBTzVVhsLA8XPlW/U3U/DQCW7nLWRNs4Y91/c5voSpmG7VQozgxr3B50a5ov2HQrl0zs9OOP7sPifha4eJNvNarY3YuNCiNjzL6Ft2wgamu4uOluARiY4I2kNeQd1HE+n9c1LmwmHYzNmFdw19F0ATLt4B7l6XNOrPNIqkkqqdO8jvuzf8g0+pBKrMo3Jzq7n5e4rx73NFzUcUw8BILQo7sURXKKHiHEdWnMOlFkNTM5O5QTvVTCrdx3q0mJRrtyjRZcqLm46lOFBoq+O6qlMiEhj2+02xFaVtSh8kh0oV7ClXjROZN2bg9hoQahaOa1woVYy8gYjQ5xynhROxsOLR+7N+evdwTklMGlHNII30qPLRSTE5+R+avHbSfJDTtHeVj9uSjNgYx1Q0KlmpRkUUmIOamjiCHDseL071IwuSgQW0gwqXrW5NeZN1PLK6+vyRRule4Ks/1WjK00H+6nt7qWZSW5b04AmnRNOBOq8hyba1p8lID2jRDo4rRKEULBme4H1r570upNgEpkIDQAJYTT4lNV419VNjcwGjRRaUqrqUdVvYn1Sw3kKdLTVbHxXU4THxvAYbHRQ5IiLhTEIQrJJQhCS51BUrBNBUoXj3gCpUGYmq8gkTEYlQI8Zc1tLa+QUZYep/ClxQcU8DmeBuGvy/XJQp+SiOeSBUHmFMkB7R4mngPzKklIwGKdFH2o1de/wbgml2V1lmMBlW9PHDqF0NzBStbFgIJJ1vmWiJWA2UmzGxCOWxMri2I8DVrh0jRRw4UO6414g7R81l9sFnM+z3P09DyUjakc9pCC4UGgrTjYaX39StQ8E0JUglJJUf8AaWnRzSORC8MQHe3xFfBc0Z3PNGNJ8v7Tso3p9z0zGmA0FxNALkqg2i2slpIhsVzjEIqIbWkupurWgbXmQqeUxObxNh6KG2WlT/av60V9DWkNvsgVF3dYdqYzC4g0dMMjKipNrV3A3J8ACsgtU/EdrCHthsFC7NlJFSQ2lTTQajioT8fj/wB4fAfRVs5s+WHrwnEg1D+uXV4iIDUa8d6S2XcbBrj3Eldxh8FgRHVjGEcbO9bqeyNoGg+qvJTaZ4P7wBw4izvoVp4UUOaHA1BAI7CsdIYBFeRmGRu8nXub9Vr4LA0BjRYAADkFye3WYIPaMPTNfNl09LV5ee5KlDB/FOVXtKoEI77chr4pwABUjWEfyNkiqZbD14bvmvWMunHGqdgtoto4u0kpu4rBNE61lNB8kZfiI7B9Uh7Cd5TXRhWckhaaBlR4mg6AX8zTwSwPFOxIzG0tWpooTYz8xcGgMOl73penglTUM0q3UXA48lFjxhluS2wuQatIu4DiaUosNc9w3D/iKeuqa1g580mbmXBoO/K48qmgqPEqXIR6sFRfzS4ss1wG4DTsO5IjuDGmlqKK/NFceXmizrJmZmCXU4eqsJeDbUqklXZnDtV7moKDVOwrG1dJJen1WJLUASnWNAa/JLYU1UAVJoBck+pKjyeKwYppDiseRua4H0U2LXNp4bh8+cEoiy0cu+rQhIkvZ70Ls4iXRtJ4BVzhcp5zqCpWUxrapjCQAXButNPzVttPEc2XcW60XMcUm2CFQULyNNd+/sCqdoYh5kMDbClT476K02fhWSDO/jT8rbyGKtjszttehGtCbjuSIka45kBUux0Mtg5ne+4EfhYLnxNFLm5kGlOQ76rksQCZCK1FU+WNrJC1ui0kker4+q8jxOCYgOo1KWjsYTEGN1p9PdRstyV8/wCDzseFHZFgk9K01FBXkQW72kEg9q7Dgu3LHtHTw3Q37y3rM/1Dsv2qHguCtlTFh5aOMRzq73Me4mHfgAcva0qY6UZmLsjcx30FV6TEQ9oeNDfqlmIOAVlG2jkhfMCeUMk+bVQ4vti9wLJZvRj4zTN/C0WHmo+NyDRlc1oBJoQBrwNBv+qttn9l6ERIw7IZ9XfTx4LE0oibVxSuyDSqTZ7ZExj00zUsJrldcxCd7ib5fVblsu0AAAACwAsABoAApbmrzKuZxmbEu79xuHz6pjTRQXQeCZcCNVNmIgaKn/dMw4Bccz9NzfqqCfAx56MF/TmeCe151KYhQi6+jePHsUgNDRZOxHUUZ7qpMmSAZW6rIq66HOTbnIc5Kgw69iiMY+V1BqttF6yGTopAgP4p1govHxgFdx4KGJmZ7j1p9EovJNkgOpY2Q8VTb3l2thwXsOyWZMxy3LeJsfnTks03piZhlzXNBoSKVWbxqbccktCcHGlXPqPaqa3OlLnvVxtK8thihIaXtDqWOU1Jvu0WacS52SEyli0vApQZqk6ncG0JPHiuh2FgWZu2loQK0BFqganj4Dl4JWKLxBVpOo06fPVXmHYiIcswuJc/rga1NHuFanck4nNVaz73W8vzURrGwGjN13+603uTmr4nVRpmK4ua12oaARz1Pqqra0LP3Be06ucaaUBNRX2T8MwCFnIfBy4q0wsVcO1XzDv/AFRU+FMUnF41GZPjsfwj2vGw71G2fA7EzCJm8/D5CpWszwxpcdyyG1fSz7ujZEMOWGn/AFSPePFvAd/ZnIUhGkIjH1qzMKRG6V4OG4rdT0ZrYZzaDSnHdRRpNgjw3Qogs8U7ODhzBuvRJdkQHDGNjaUGvHnxr/SqoNoyMkyuNWnUfLrouDxs8Fj/AIhXxQqbYnEob4DIIeDFhgte3eCCa04oUSBr2xNDxegrzotnFriSDZXOJwg5lDcGxHIrJnZmAHZiCd9CWgd5AqVq559RTgoUeEylxVUO0IHz4wsjHeyj7+BUyCd0TKhxAWexKbDRlbwAqBQUGjQNwUGTgl72VFswPbRWM80XyZQeJFfmFBl8R6OKzOBTMBUVFzYWPMjeqmTZmMYKvZTjdptxpWv1Ky3FR6ArRp6E2pCZz5rp6WNDdVOEa0zAG4r9/v8Aeic7RLnZJkUDMLjRwNHCvA8OWirH4A8m0w4N/AzN/N+Suqr2q7CPEyMsHUUcGmigyGEQoRzAFz/jeczu47u5TyvKpJK1fIT3iaoogpqPFDRzOg4puYmg22rtzRqoU5EdDYYpu82A3Nqq+bE6huu87h7ngPM6JjIySBxRNTcOEc0V/W4C+ULyUxWFFNGO624OtXs3FZCPR7HRHnfqSL3Ir5V71R4bMhkw3KSDUG/GooEn9sC248a6nxOtK+StW4FpFzf0XUSapjOpDSM9O39eiiTbqPcBpUeYBVPLh+5n4GnooDTuSXPUyBEBCrKqRDNqIw83YuqsuFVMdG3BeBNNTU5PQ4Tc8R7WN+Jzg0eJTDK6RwzeQRSilhLCopfamTecrZmGT228TZXLHgio0TgC2zhTmsEUTeJygjQ8hNLi+uhUR0i2FCcIYvY11Jvv471ZArxSBiZGgNBsDWniP6CwalpbuVRJyZB6R4vS1bntVKetEJ4knzWomzY01pZZ6HKPaRmHfu8VEMxkke92vst425W0V5hjLLPTuJ9JMxm1tDysH8Nc39RPgtHBiBkNzzo0Fx7GivyXK8PiPcXEm7yS49pqfVdb+jcKHulmO4UHNx9h6qp2pNlDWjeSen5KucSxCxie62zAQSC7iQNQKVVJhe0UUPBe8OuDUeyWneBu325KRPlxcWN0bDsKi5vWnE3asvJtNhwc4ebfqV1jcSXYrsh/HTpv6pztmMZs39wf52dXwJsOhB6LoGzUu/8A4uRDrlzZzTTK4B/zXq6RsjKMbLw4gaA97BmdTrGlhU9gCFFleS6g3e6gRRgNrxun4xue0qvxONlYeP0VzOwPeHf9VRYpCq03QwAmu9YkqKrNzc4Q2pOiy2MmZeAYcJzhmaa2GhB3q/bLiLHhwneySSRxDRWnjRbRsu2lKWRNA12qRE4m6r8Kms7RudS7TYj+FW8Ag2Pmor5Rp4LwQXD2XHsd1h9fNcc/9Oy4eTPCQ4cD7j2Ct24sOFHBWBhEaOp5+q8yv4jvB+ShNmIjdWkj7pB8nUp4lOtxNvvdX8Qc3zIp5rTsiz/2Me3lUjqKj0HJbh4OhCfIfxHgfqkOgE+04nkLeiXBmWO9lwPYQfML2I5ZbEJbMJd4V/pZLsoqbJLITWjqgBMTEv0kNzT72nLh+uaZm8RDRfyUeSxdr35AdxIrS1KDdqLrGMwkkDczm0AGlRv9Lc96xHO0num6yGK4NMCsMNdlrWgaSK/dcFLwLZoseIsZtwQWQzTMXC4JG4A+i2lXU9k0+64DyVdNF+mXL6+Kr5MS5rBSt99D9S0V5+hVocW97ctAOPypomTFym5vWpPNMdIXEu4lJdD4pTFV2AskJ2GFIamgFl9t9pzLgS8A/wDyHi7v7ph96nxndw14AswmDlxkzYYhVx6AbyfALWSRsbS5yXtZtoJdxgS4ESY319iF+OntO+6O+mhwUzgc3OO6SLGL3/epYcGtqA0cgKLW7I7PMhtEWIKvNxW+t6murjrdaWbDXCjtBv0y8wdy9QwGxcJg2ZaZnb3HU9N3hXzKpnY+euZhp5Ljk3g8eVu5tWfEK0Hbw9FtNgtpy1wgvdVjrCvulW8vFZFJhuo4XFaajStFgsWw8ykxkHsnrMPLh3fRRNs7KZ2ZI0+nAj55qywOP/cjs367jx+fNF3ZjkktJVZs3O9NLw376AHuVuXD8vzXAuZUUeaUPzx3bk6tCvGQOVUp4bQg35DQd6bc/wAOCQXLAkawdwdfbf8A/VeSKE6qt2idklI//bcP5ur81zqRK2+3UwGybxW7nMaP5g4+TSsFJxF6B+j48uDe7i8+jW/lUm1jWQDw+qaxgjpBFc6gYXDQ6A207FVy8s58VjaEFzq0/Ec3pRX8eRdFi2YS0EPuOpc6k76GvV5LZ7NYDC/aIQaA4tGdz6XIF6k/eNFZ4WIxSuleNK08SrbauMZLhGYeJwJcG18AL05+G6l10PDoHRwobPhY0eAQpSFE1VfRCoMXFC4K/VVjMuSMwFbUP1W8ZoUuQVaudQpkQ5uG51hmLSeGYU9aLetNlzjGJYlxsr7ZjGTQQY2os1538iePqpUlKKHFUGi1LaJWUFNZ15mSk9OmEOKQYR3EJHSlNPiniilUVCVElAdWNPcE8AGMpTQaKL0zuKXEq5te1YEbQc1AsZlnp6YNHV0+iotmosR80YtP3QBbzuRccdFYY1UMcBroO+y0OBycOBDDBewqaapeKwkeIjLJBYii0he5r6tOiuYMYZAaqrm4tSSpEaIz4a+XmoEYA8f5nfVc9iv07LMGsZIA0cRfwrRWDMa1tyL+CiRn8UmFEFdfC/opADG6NHgF7+2LVn6VbSj5T5NA+pKwdpHc1Vm0OOtlIDozmkkDqtyuGZxs0F1KNFdSVyjD4z4kV0aIc0R7sznc+zhuA3AALuDZljxkc3M02INwQdQQdQuOTMuyHHisZ7DYsRrfwhxDb9lF0mwdkQYNzstSTvNNOFh5+JVftDGPewLfyk4HMDq0FKnlxVZiM+HglzskEbzaqhSz8zGsFgLu5/kqvFJnpQQKUZWlWgiwFNd5VpiJm4YV1J0Ttn4KTHvyizQO8ee7zV1JYzBrRtudKVUfbuCHwYcUasdSvJ350WOgvymwy3LXNGmbUEDdWhWrixDFkHjUjL5OBSZHtxGFc7wKaIHYPGtjJ3inIrTfZnMZpdzfhd6rYly599l8SgiMPIroMKG5xo0VP61O5eU4ppOIdGy5JsBfVXkliSUglVGN7RS8qKxogaTowXe7sYL9+i1kvhI1ea8hYd51Kr8Y2Ew6aJdFlYZedXtrDebUu5hBNhvVvg/0+95DsSaDgNfM6D1UN+KAsz8Li+0u1ZnXtAaWQmGrWkguJPvOpatLUGl+K8k3Lok99jUmbwY0eE7dUtiN7w4Zj/Mq6F9mE2w06WA8fF12nvblNPErvME/D4aIRR91o0H5VNPHI92Y3KrMPmn0yNvWwFKm/BdU2Xwj9nhVd/8AY+hdy4N7lA2X2PZK/vIhESLuIHVb+EHU8ytUtMViBJ3W6fVMhhyXOqEIQoakIQhCELK49sr0pL4L8jjctJOUniKaLmu2ezsyIZa4xGHcQ52V3KoNCu6JESGHAggEHUEVB7QpMeJcwUNx83pLoQTUWK+b9m/tImZMiBONdFhiwd/aNA5mzx2357l1DBdrJWbAMGM1x+AnK8drDdWeO/ZxITV3Qyx3GGaf0kFvks9LfYhh7Xhzokw8A1y5mNHi1gPgVl8rD3hby9kdmTqtGY4SXRgruBgEuxjYbYfVaKDrPLu95NXd5VBi2z8w0udBLXNuWtNnDlex8Ul+IDRUgnlf2WW4cuNMwHO3uh0wFNlYmZleZVHs/gk7FLjMhsFgs2gq9x7MxAbzWg/4f+zty5i4Ek1IA4Cluxbtla8Wr5ii1fC6N1yPI1WQx7f2g+BV7KxwWgg7lUYzDrmCpYU1FYKNNuxSA2oUTNlK2b3ph71z6Y2hm6uaHNFCR7A3KLN47N9C53SkOykijWi9OxVjtpwtNL1rTT8q2Gyp3DNUU8/ZdCeVFjR2Mu97W9rgPVc9/aIr7uixHdrnU8K0T8FhBqNeO9XQwzlU5gr7GdrocNhbAdniOBAeB1GcTm0c4bgO/gcjIQqnkpOJQy94c41oKJyVapsMYjbQalRJO+6+gU+IS2Eaanqjv18gVTS8NpZE646QOpl4h28HfT5KdjMSjWDiT6W9VRl4bELs2qoNpOLpyOAA+/3Xf/p+HJg2uH+RJ9aD0CiRolXxDp12/P6Lpf2VQ80Vm8ZnHwY75rmDutU/GXO7tGeVV2f7IcPytLyNGebzX0b5qThmlmDc476qj2zI1+0Axv8AiBX1d9CFu3YRALs/QsD/AIg0Nd3kUJUuFCa0UaAAnUKBkbmzACvGl+qVUoQhC2WEIQhCEIQhCEIQhCEIQhCEIQhCEIQhCEIQhCEJiZl2xG5XC3mOYT6EIVDF2ZY43iP/AKfomxsjB3uiHvb/AKVokLfO7itOzbwWUibAyRJOSICeEWJ9VS7S7CQ4cHPLte4trnY5znlzfu13jgNaroqFFlw0cjCwgX3gCqlR4iRjg4E24k0Xzx0V7J9jVs/tKwTo3iahtox1GxKDR+5x/FpXiBxWMhxF0+GkEkTTvpfnvVFOzLIaaVsmZ5uibl1JnBVtVGgp5SQl42B0bHO9kOueDiKgnl1SO9VktLCI4NoHu92GL1PF53NHDetDLvGjhVpsQp0OJBZTI3LoeqA01HMBVk+AbLLnJsdy6DB7bfh8L2AaCRWhruJrp4E8edVVO2XykPiPqa1cOJ+7yXZdk8O6CWaCKOd13DhXQdwA81j9l8PdOR+keP3MM1puJ1DRx4nl2rpaVjJbCIbvgHkFDhbVzpTqd51KEIQoCkIQhCEIQhCEIQhCEIQhCEIQhCEIQhCEIQhCEIQhCEIQhCEIQhCEIQhCEJmYgNiNcx7Q5rgQWkVBB1BC59i/2bGpdKxQB/dxa25CIKmnaCea6OhMjlfGatNFq5odYriM/s5NwK9JAfl+JnXb21bWg7aKka3hovohVmJYJLxjWJBY53xZQHfzC/mprNoHR46KM7CD/EriTStBsvs3Fm3B1C2CDeId/JnxHyHkuiQNkpJhqJdpP3i548HkhXbWAAACgRLj6ijB5lEeFoauUeRk2QWNhw20a3QfMneSpSEKuUtCEIQhCEIQhCEIQhCEIQhCEIQhf//Z\n",
      "data:image/jpeg;base64,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\n",
      "data:image/jpeg;base64,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\n",
      "data:image/jpeg;base64,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\n"
     ]
    }
   ],
   "source": [
    "print(f\"Top 10 images for '{keywords}':\")\n",
    "for url in image_urls[:10]:\n",
    "    print(url)"
   ]
  },
  {
   "cell_type": "code",
   "execution_count": null,
   "id": "0b0956f0",
   "metadata": {},
   "outputs": [],
   "source": []
  },
  {
   "cell_type": "code",
   "execution_count": null,
   "id": "60c4b24b",
   "metadata": {},
   "outputs": [],
   "source": [
    "#Q4   Write a python program to search for a smartphone(e.g.: Oneplus Nord, pixel 4A, etc.) on www.flipkart.com\n",
    "#and scrape following details for all the search results displayed on 1st page. Details to be scraped: “Brand\n",
    "#Name”, “Smartphone name”, “Colour”, “RAM”, “Storage(ROM)”, “Primary Camera”,\n",
    "#“Secondary Camera”, “Display Size”, “Battery Capacity”, “Price”, “Product URL”. Incase if any of the\n",
    "#details is missing then replace it by “- “. Save your results in a dataframe and CSV. \n"
   ]
  },
  {
   "cell_type": "code",
   "execution_count": 74,
   "id": "e35f0042",
   "metadata": {},
   "outputs": [],
   "source": [
    "import selenium\n",
    "from selenium import webdriver\n",
    "from selenium.webdriver.common.by import By\n",
    "import pandas as pd\n",
    "import warnings\n",
    "warnings.filterwarnings('ignore')\n",
    "import time\n",
    "from selenium.webdriver.common.keys import Keys\n",
    "from selenium.webdriver.support.ui import WebDriverWait\n",
    "from selenium.webdriver.support import expected_conditions as EC"
   ]
  },
  {
   "cell_type": "code",
   "execution_count": 75,
   "id": "c821466d",
   "metadata": {},
   "outputs": [],
   "source": [
    "driver=webdriver.Chrome()\n",
    "driver.get(\"https://www.flipkart.com/\")"
   ]
  },
  {
   "cell_type": "code",
   "execution_count": 76,
   "id": "e9f0233d",
   "metadata": {},
   "outputs": [
    {
     "data": {
      "text/plain": [
       "<selenium.webdriver.remote.webelement.WebElement (session=\"17dd73ce3230257beb19853093a96cf2\", element=\"ADBCBD095D55537CE9F5D6910EC320F8_element_81\")>"
      ]
     },
     "execution_count": 76,
     "metadata": {},
     "output_type": "execute_result"
    }
   ],
   "source": [
    "search_g=driver.find_element(By.XPATH,\"//input[@type='text']\")\n",
    "search_g"
   ]
  },
  {
   "cell_type": "code",
   "execution_count": 77,
   "id": "61ee6190",
   "metadata": {},
   "outputs": [],
   "source": [
    "search_g.send_keys('smartphones')"
   ]
  },
  {
   "cell_type": "code",
   "execution_count": 78,
   "id": "05f60696",
   "metadata": {},
   "outputs": [],
   "source": [
    "search_btn=driver.find_element(By.XPATH,\"//button[@class='_2iLD__']\")\n",
    "search_btn.click()"
   ]
  },
  {
   "cell_type": "code",
   "execution_count": 79,
   "id": "c0567004",
   "metadata": {},
   "outputs": [],
   "source": [
    "Brand_Name=[]\n",
    "Colour=[]\n",
    "Storage_RAM_ROM=[]\n",
    "P_F_Camera=[]\n",
    "Display_size_Resolution=[]\n",
    "ProcessorAndCores=[]\n",
    "Battery=[]\n",
    "Price=[]\n",
    "Product_URL=[]"
   ]
  },
  {
   "cell_type": "code",
   "execution_count": 81,
   "id": "52035e9d",
   "metadata": {},
   "outputs": [
    {
     "name": "stdout",
     "output_type": "stream",
     "text": [
      "24 ['Motorola G34 5G (Ocean Green, 128 GB)', 'Apple iPhone 15 (Blue, 128 GB)', 'Apple iPhone 15 (Black, 128 GB)', 'Apple iPhone 15 (Pink, 128 GB)', 'vivo T2 5G (Nitro Blaze, 128 GB)', 'vivo T2 5G (Nitro Blaze, 128 GB)', 'vivo T2 5G (Velocity Wave, 128 GB)', 'vivo T2 5G (Velocity Wave, 128 GB)', 'Apple iPhone 15 (Green, 128 GB)', 'Motorola G34 5G (Ocean Green, 128 GB)', 'SAMSUNG Galaxy F04 (Opal Green, 64 GB)', 'Motorola g54 5G (Midnight Blue, 128 GB)', 'POCO C51 (Royal Blue, 64 GB)', 'Motorola Edge 40 Neo (Soothing Sea, 128 GB)', 'POCO M6 5G (Orion Blue, 128 GB)', 'vivo T2x 5G (Aurora Gold, 128 GB)', 'Motorola g54 5G (Mint Green, 256 GB)', 'vivo T2x 5G (Marine Blue, 128 GB)', 'vivo T2x 5G (Glimmer Black, 128 GB)', 'Apple iPhone 15 Plus (Black, 128 GB)', 'Motorola g54 5G (Pearl Blue, 128 GB)', 'vivo T2x 5G (Glimmer Black, 128 GB)', 'vivo T2x 5G (Aurora Gold, 128 GB)', 'Motorola G34 5G (Ice Blue, 128 GB)']\n"
     ]
    }
   ],
   "source": [
    "#scraping the Brand_Name \n",
    "BName=driver.find_elements(By.XPATH,\"//div[@class='_4rR01T']\")\n",
    "for i in BName:\n",
    "    if i.text is None :\n",
    "        Brand_Name.append(\"--\") \n",
    "    else:\n",
    "        Brand_Name.append(i.text)\n",
    "print(len(Brand_Name),Brand_Name)"
   ]
  },
  {
   "cell_type": "code",
   "execution_count": 82,
   "id": "b61d0d13",
   "metadata": {},
   "outputs": [
    {
     "name": "stdout",
     "output_type": "stream",
     "text": [
      "24 ['8 GB RAM | 128 GB ROM', '128 GB ROM', '128 GB ROM', '128 GB ROM', '6 GB RAM | 128 GB ROM', '8 GB RAM | 128 GB ROM', '6 GB RAM | 128 GB ROM', '8 GB RAM | 128 GB ROM', '128 GB ROM', '4 GB RAM | 128 GB ROM', '4 GB RAM | 64 GB ROM | Expandable Upto 1 TB', '8 GB RAM | 128 GB ROM | Expandable Upto 1 TB', '4 GB RAM | 64 GB ROM | Expandable Upto 1 TB', '8 GB RAM | 128 GB ROM', '4 GB RAM | 128 GB ROM | Expandable Upto 1 TB', '8 GB RAM | 128 GB ROM', '12 GB RAM | 256 GB ROM | Expandable Upto 1 TB', '6 GB RAM | 128 GB ROM', '4 GB RAM | 128 GB ROM', '128 GB ROM', '8 GB RAM | 128 GB ROM | Expandable Upto 1 TB', '6 GB RAM | 128 GB ROM', '6 GB RAM | 128 GB ROM', '4 GB RAM | 128 GB ROM']\n"
     ]
    }
   ],
   "source": [
    "#scraping the Storage_RAM_ROM \n",
    "ram=driver.find_elements(By.XPATH,\"//ul[@class='_1xgFaf']//li[1]\")\n",
    "for i in ram:\n",
    "    if i.text is None :\n",
    "        Storage_RAM_ROM.append(\"--\") \n",
    "    else:\n",
    "        Storage_RAM_ROM.append(i.text)\n",
    "print(len(Storage_RAM_ROM),Storage_RAM_ROM)"
   ]
  },
  {
   "cell_type": "code",
   "execution_count": 83,
   "id": "11f5119e",
   "metadata": {},
   "outputs": [
    {
     "name": "stdout",
     "output_type": "stream",
     "text": [
      "24 ['50MP + 2MP | 16MP Front Camera', '48MP + 12MP | 12MP Front Camera', '48MP + 12MP | 12MP Front Camera', '48MP + 12MP | 12MP Front Camera', '64 MP (OIS) + 2MP | 16MP Front Camera', '64 MP (OIS) + 2MP | 16MP Front Camera', '64 MP (OIS) + 2MP | 16MP Front Camera', '64 MP (OIS) + 2MP | 16MP Front Camera', '48MP + 12MP | 12MP Front Camera', '50MP + 2MP | 16MP Front Camera', '13MP + 2MP | 5MP Front Camera', '50MP (OIS) + 8MP | 16MP Front Camera', '8MP Dual Rear Camera | 5MP Front Camera', '50MP + 13MP | 32MP Front Camera', '50MP Rear Camera', '50MP + 2MP | 8MP Front Camera', '50MP (OIS) + 8MP | 16MP Front Camera', '50MP + 2MP | 8MP Front Camera', '50MP + 2MP | 8MP Front Camera', '48MP + 12MP | 12MP Front Camera', '50MP (OIS) + 8MP | 16MP Front Camera', '50MP + 2MP | 8MP Front Camera', '50MP + 2MP | 8MP Front Camera', '50MP + 2MP | 16MP Front Camera']\n"
     ]
    }
   ],
   "source": [
    "#scraping the P_F_Camera \n",
    "PC=driver.find_elements(By.XPATH,\"//ul[@class='_1xgFaf']//li[3]\")\n",
    "for i in PC:\n",
    "    if i.text is None :\n",
    "        P_F_Camera.append(\"--\") \n",
    "    else:\n",
    "        P_F_Camera.append(i.text)\n",
    "print(len(P_F_Camera),P_F_Camera)"
   ]
  },
  {
   "cell_type": "code",
   "execution_count": 85,
   "id": "a14e0bcf",
   "metadata": {},
   "outputs": [
    {
     "name": "stdout",
     "output_type": "stream",
     "text": [
      "24 ['16.51 cm (6.5 inch) HD+ Display', '15.49 cm (6.1 inch) Super Retina XDR Display', '15.49 cm (6.1 inch) Super Retina XDR Display', '15.49 cm (6.1 inch) Super Retina XDR Display', '16.21 cm (6.38 inch) Full HD+ Display', '16.21 cm (6.38 inch) Full HD+ Display', '16.21 cm (6.38 inch) Full HD+ Display', '16.21 cm (6.38 inch) Full HD+ Display', '15.49 cm (6.1 inch) Super Retina XDR Display', '16.51 cm (6.5 inch) HD+ Display', '16.51 cm (6.5 inch) HD Display', '16.51 cm (6.5 inch) Full HD+ Display', '16.56 cm (6.52 inch) HD+ Display', '16.64 cm (6.55 inch) Full HD+ Display', '17.12 cm (6.74 inch) HD+ Display', '16.71 cm (6.58 inch) Full HD+ Display', '16.51 cm (6.5 inch) Full HD+ Display', '16.71 cm (6.58 inch) Full HD+ Display', '16.71 cm (6.58 inch) Full HD+ Display', '17.02 cm (6.7 inch) Super Retina XDR Display', '16.51 cm (6.5 inch) Full HD+ Display', '16.71 cm (6.58 inch) Full HD+ Display', '16.71 cm (6.58 inch) Full HD+ Display', '16.51 cm (6.5 inch) HD+ Display']\n"
     ]
    }
   ],
   "source": [
    "#scraping the Display_size_Resolution \n",
    "DS=driver.find_elements(By.XPATH,\"//ul[@class='_1xgFaf']//li[2]\")\n",
    "for i in DS:\n",
    "    if i.text is None :\n",
    "        Display_size_Resolution.append(\"--\") \n",
    "    else:\n",
    "        Display_size_Resolution.append(i.text)\n",
    "print(len(Display_size_Resolution),Display_size_Resolution)"
   ]
  },
  {
   "cell_type": "code",
   "execution_count": 86,
   "id": "d8eebb68",
   "metadata": {},
   "outputs": [
    {
     "name": "stdout",
     "output_type": "stream",
     "text": [
      "24 ['Snapdragon 695 5G Processor', '1 Year Warranty for Phone and 6 Months Warranty for In-Box Accessories', '1 Year Warranty for Phone and 6 Months Warranty for In-Box Accessories', '1 Year Warranty for Phone and 6 Months Warranty for In-Box Accessories', 'Snapdragon 695 Processor', 'Snapdragon 695 Processor', 'Snapdragon 695 Processor', 'Snapdragon 695 Processor', '1 Year Warranty for Phone and 6 Months Warranty for In-Box Accessories', 'Snapdragon 695 5G Processor', 'Mediatek Helio P35 Processor', 'Dimensity 7020 Processor', 'Helio G36 Processor', 'Dimensity 7030 Processor', 'Dimensity 6100+ Processor', 'Mediatek Dimensity 6020 Processor', 'Dimensity 7020 Processor', 'Mediatek Dimensity 6020 Processor', 'Mediatek Dimensity 6020 Processor', '1 Year Warranty for Phone and 6 Months Warranty for In-Box Accessories', 'Dimensity 7020 Processor', 'Mediatek Dimensity 6020 Processor', 'Mediatek Dimensity 6020 Processor', 'Snapdragon 695 5G Processor']\n"
     ]
    }
   ],
   "source": [
    "#scraping the ProcessorAndCores \n",
    "P=driver.find_elements(By.XPATH,\"//ul[@class='_1xgFaf']//li[5]\")\n",
    "for i in P:\n",
    "    if i.text is None :\n",
    "        ProcessorAndCores.append(\"--\") \n",
    "    else:\n",
    "        ProcessorAndCores.append(i.text)\n",
    "print(len(ProcessorAndCores),ProcessorAndCores)"
   ]
  },
  {
   "cell_type": "code",
   "execution_count": 87,
   "id": "d90ef764",
   "metadata": {},
   "outputs": [
    {
     "name": "stdout",
     "output_type": "stream",
     "text": [
      "24 ['5000 mAh Battery', 'A16 Bionic Chip, 6 Core Processor Processor', 'A16 Bionic Chip, 6 Core Processor Processor', 'A16 Bionic Chip, 6 Core Processor Processor', '4500 mAh Battery', '4500 mAh Battery', '4500 mAh Battery', '4500 mAh Battery', 'A16 Bionic Chip, 6 Core Processor Processor', '5000 mAh Battery', '5000 mAh Lithium-Ion Battery', '6000 mAh Battery', '5000 mAh Battery', '5000 mAh Battery', '5000 mAh Battery', '5000 mAh Battery', '6000 mAh Battery', '5000 mAh Battery', '5000 mAh Battery', 'A16 Bionic Chip, 6 Core Processor Processor', '6000 mAh Battery', '5000 mAh Battery', '5000 mAh Battery', '5000 mAh Battery']\n"
     ]
    }
   ],
   "source": [
    "#scraping the Battery \n",
    "B=driver.find_elements(By.XPATH,\"//ul[@class='_1xgFaf']//li[4]\")\n",
    "for i in B:\n",
    "    if i.text is None :\n",
    "        Battery.append(\"--\") \n",
    "    else:\n",
    "        Battery.append(i.text)\n",
    "print(len(Battery),Battery)"
   ]
  },
  {
   "cell_type": "code",
   "execution_count": 88,
   "id": "8d7692f4",
   "metadata": {},
   "outputs": [
    {
     "name": "stdout",
     "output_type": "stream",
     "text": [
      "24 ['₹11,999', '₹65,999', '₹65,999', '₹65,999', '₹15,999', '₹17,999', '₹15,999', '₹17,999', '₹65,999', '₹10,999', '₹5,999', '₹13,999', '₹5,499', '₹22,999', '₹9,499', '₹14,999', '₹15,999', '₹12,999', '₹11,999', '₹82,999', '₹13,999', '₹12,999', '₹12,999', '₹10,999']\n"
     ]
    }
   ],
   "source": [
    "#scraping the Price \n",
    "price=driver.find_elements(By.XPATH,\"//div[@class='_30jeq3 _1_WHN1']\")\n",
    "for i in price:\n",
    "    if i.text is None :\n",
    "        Price.append(\"--\") \n",
    "    else:\n",
    "        Price.append(i.text)\n",
    "print(len(Price),Price)"
   ]
  },
  {
   "cell_type": "code",
   "execution_count": 89,
   "id": "3274d587",
   "metadata": {},
   "outputs": [
    {
     "data": {
      "text/html": [
       "<div>\n",
       "<style scoped>\n",
       "    .dataframe tbody tr th:only-of-type {\n",
       "        vertical-align: middle;\n",
       "    }\n",
       "\n",
       "    .dataframe tbody tr th {\n",
       "        vertical-align: top;\n",
       "    }\n",
       "\n",
       "    .dataframe thead th {\n",
       "        text-align: right;\n",
       "    }\n",
       "</style>\n",
       "<table border=\"1\" class=\"dataframe\">\n",
       "  <thead>\n",
       "    <tr style=\"text-align: right;\">\n",
       "      <th></th>\n",
       "      <th>Brand_Name</th>\n",
       "      <th>Storage_RAM_ROM</th>\n",
       "      <th>Amount P_F_Camera</th>\n",
       "      <th>Display_size_Resolution</th>\n",
       "      <th>ProcessorAndCores</th>\n",
       "      <th>Battery</th>\n",
       "      <th>Price</th>\n",
       "    </tr>\n",
       "  </thead>\n",
       "  <tbody>\n",
       "    <tr>\n",
       "      <th>0</th>\n",
       "      <td>Motorola G34 5G (Ocean Green, 128 GB)</td>\n",
       "      <td>8 GB RAM | 128 GB ROM</td>\n",
       "      <td>50MP + 2MP | 16MP Front Camera</td>\n",
       "      <td>16.51 cm (6.5 inch) HD+ Display</td>\n",
       "      <td>Snapdragon 695 5G Processor</td>\n",
       "      <td>5000 mAh Battery</td>\n",
       "      <td>₹11,999</td>\n",
       "    </tr>\n",
       "    <tr>\n",
       "      <th>1</th>\n",
       "      <td>Apple iPhone 15 (Blue, 128 GB)</td>\n",
       "      <td>128 GB ROM</td>\n",
       "      <td>48MP + 12MP | 12MP Front Camera</td>\n",
       "      <td>15.49 cm (6.1 inch) Super Retina XDR Display</td>\n",
       "      <td>1 Year Warranty for Phone and 6 Months Warrant...</td>\n",
       "      <td>A16 Bionic Chip, 6 Core Processor Processor</td>\n",
       "      <td>₹65,999</td>\n",
       "    </tr>\n",
       "    <tr>\n",
       "      <th>2</th>\n",
       "      <td>Apple iPhone 15 (Black, 128 GB)</td>\n",
       "      <td>128 GB ROM</td>\n",
       "      <td>48MP + 12MP | 12MP Front Camera</td>\n",
       "      <td>15.49 cm (6.1 inch) Super Retina XDR Display</td>\n",
       "      <td>1 Year Warranty for Phone and 6 Months Warrant...</td>\n",
       "      <td>A16 Bionic Chip, 6 Core Processor Processor</td>\n",
       "      <td>₹65,999</td>\n",
       "    </tr>\n",
       "    <tr>\n",
       "      <th>3</th>\n",
       "      <td>Apple iPhone 15 (Pink, 128 GB)</td>\n",
       "      <td>128 GB ROM</td>\n",
       "      <td>48MP + 12MP | 12MP Front Camera</td>\n",
       "      <td>15.49 cm (6.1 inch) Super Retina XDR Display</td>\n",
       "      <td>1 Year Warranty for Phone and 6 Months Warrant...</td>\n",
       "      <td>A16 Bionic Chip, 6 Core Processor Processor</td>\n",
       "      <td>₹65,999</td>\n",
       "    </tr>\n",
       "    <tr>\n",
       "      <th>4</th>\n",
       "      <td>vivo T2 5G (Nitro Blaze, 128 GB)</td>\n",
       "      <td>6 GB RAM | 128 GB ROM</td>\n",
       "      <td>64 MP (OIS) + 2MP | 16MP Front Camera</td>\n",
       "      <td>16.21 cm (6.38 inch) Full HD+ Display</td>\n",
       "      <td>Snapdragon 695 Processor</td>\n",
       "      <td>4500 mAh Battery</td>\n",
       "      <td>₹15,999</td>\n",
       "    </tr>\n",
       "    <tr>\n",
       "      <th>5</th>\n",
       "      <td>vivo T2 5G (Nitro Blaze, 128 GB)</td>\n",
       "      <td>8 GB RAM | 128 GB ROM</td>\n",
       "      <td>64 MP (OIS) + 2MP | 16MP Front Camera</td>\n",
       "      <td>16.21 cm (6.38 inch) Full HD+ Display</td>\n",
       "      <td>Snapdragon 695 Processor</td>\n",
       "      <td>4500 mAh Battery</td>\n",
       "      <td>₹17,999</td>\n",
       "    </tr>\n",
       "    <tr>\n",
       "      <th>6</th>\n",
       "      <td>vivo T2 5G (Velocity Wave, 128 GB)</td>\n",
       "      <td>6 GB RAM | 128 GB ROM</td>\n",
       "      <td>64 MP (OIS) + 2MP | 16MP Front Camera</td>\n",
       "      <td>16.21 cm (6.38 inch) Full HD+ Display</td>\n",
       "      <td>Snapdragon 695 Processor</td>\n",
       "      <td>4500 mAh Battery</td>\n",
       "      <td>₹15,999</td>\n",
       "    </tr>\n",
       "    <tr>\n",
       "      <th>7</th>\n",
       "      <td>vivo T2 5G (Velocity Wave, 128 GB)</td>\n",
       "      <td>8 GB RAM | 128 GB ROM</td>\n",
       "      <td>64 MP (OIS) + 2MP | 16MP Front Camera</td>\n",
       "      <td>16.21 cm (6.38 inch) Full HD+ Display</td>\n",
       "      <td>Snapdragon 695 Processor</td>\n",
       "      <td>4500 mAh Battery</td>\n",
       "      <td>₹17,999</td>\n",
       "    </tr>\n",
       "    <tr>\n",
       "      <th>8</th>\n",
       "      <td>Apple iPhone 15 (Green, 128 GB)</td>\n",
       "      <td>128 GB ROM</td>\n",
       "      <td>48MP + 12MP | 12MP Front Camera</td>\n",
       "      <td>15.49 cm (6.1 inch) Super Retina XDR Display</td>\n",
       "      <td>1 Year Warranty for Phone and 6 Months Warrant...</td>\n",
       "      <td>A16 Bionic Chip, 6 Core Processor Processor</td>\n",
       "      <td>₹65,999</td>\n",
       "    </tr>\n",
       "    <tr>\n",
       "      <th>9</th>\n",
       "      <td>Motorola G34 5G (Ocean Green, 128 GB)</td>\n",
       "      <td>4 GB RAM | 128 GB ROM</td>\n",
       "      <td>50MP + 2MP | 16MP Front Camera</td>\n",
       "      <td>16.51 cm (6.5 inch) HD+ Display</td>\n",
       "      <td>Snapdragon 695 5G Processor</td>\n",
       "      <td>5000 mAh Battery</td>\n",
       "      <td>₹10,999</td>\n",
       "    </tr>\n",
       "    <tr>\n",
       "      <th>10</th>\n",
       "      <td>SAMSUNG Galaxy F04 (Opal Green, 64 GB)</td>\n",
       "      <td>4 GB RAM | 64 GB ROM | Expandable Upto 1 TB</td>\n",
       "      <td>13MP + 2MP | 5MP Front Camera</td>\n",
       "      <td>16.51 cm (6.5 inch) HD Display</td>\n",
       "      <td>Mediatek Helio P35 Processor</td>\n",
       "      <td>5000 mAh Lithium-Ion Battery</td>\n",
       "      <td>₹5,999</td>\n",
       "    </tr>\n",
       "    <tr>\n",
       "      <th>11</th>\n",
       "      <td>Motorola g54 5G (Midnight Blue, 128 GB)</td>\n",
       "      <td>8 GB RAM | 128 GB ROM | Expandable Upto 1 TB</td>\n",
       "      <td>50MP (OIS) + 8MP | 16MP Front Camera</td>\n",
       "      <td>16.51 cm (6.5 inch) Full HD+ Display</td>\n",
       "      <td>Dimensity 7020 Processor</td>\n",
       "      <td>6000 mAh Battery</td>\n",
       "      <td>₹13,999</td>\n",
       "    </tr>\n",
       "    <tr>\n",
       "      <th>12</th>\n",
       "      <td>POCO C51 (Royal Blue, 64 GB)</td>\n",
       "      <td>4 GB RAM | 64 GB ROM | Expandable Upto 1 TB</td>\n",
       "      <td>8MP Dual Rear Camera | 5MP Front Camera</td>\n",
       "      <td>16.56 cm (6.52 inch) HD+ Display</td>\n",
       "      <td>Helio G36 Processor</td>\n",
       "      <td>5000 mAh Battery</td>\n",
       "      <td>₹5,499</td>\n",
       "    </tr>\n",
       "    <tr>\n",
       "      <th>13</th>\n",
       "      <td>Motorola Edge 40 Neo (Soothing Sea, 128 GB)</td>\n",
       "      <td>8 GB RAM | 128 GB ROM</td>\n",
       "      <td>50MP + 13MP | 32MP Front Camera</td>\n",
       "      <td>16.64 cm (6.55 inch) Full HD+ Display</td>\n",
       "      <td>Dimensity 7030 Processor</td>\n",
       "      <td>5000 mAh Battery</td>\n",
       "      <td>₹22,999</td>\n",
       "    </tr>\n",
       "    <tr>\n",
       "      <th>14</th>\n",
       "      <td>POCO M6 5G (Orion Blue, 128 GB)</td>\n",
       "      <td>4 GB RAM | 128 GB ROM | Expandable Upto 1 TB</td>\n",
       "      <td>50MP Rear Camera</td>\n",
       "      <td>17.12 cm (6.74 inch) HD+ Display</td>\n",
       "      <td>Dimensity 6100+ Processor</td>\n",
       "      <td>5000 mAh Battery</td>\n",
       "      <td>₹9,499</td>\n",
       "    </tr>\n",
       "    <tr>\n",
       "      <th>15</th>\n",
       "      <td>vivo T2x 5G (Aurora Gold, 128 GB)</td>\n",
       "      <td>8 GB RAM | 128 GB ROM</td>\n",
       "      <td>50MP + 2MP | 8MP Front Camera</td>\n",
       "      <td>16.71 cm (6.58 inch) Full HD+ Display</td>\n",
       "      <td>Mediatek Dimensity 6020 Processor</td>\n",
       "      <td>5000 mAh Battery</td>\n",
       "      <td>₹14,999</td>\n",
       "    </tr>\n",
       "    <tr>\n",
       "      <th>16</th>\n",
       "      <td>Motorola g54 5G (Mint Green, 256 GB)</td>\n",
       "      <td>12 GB RAM | 256 GB ROM | Expandable Upto 1 TB</td>\n",
       "      <td>50MP (OIS) + 8MP | 16MP Front Camera</td>\n",
       "      <td>16.51 cm (6.5 inch) Full HD+ Display</td>\n",
       "      <td>Dimensity 7020 Processor</td>\n",
       "      <td>6000 mAh Battery</td>\n",
       "      <td>₹15,999</td>\n",
       "    </tr>\n",
       "    <tr>\n",
       "      <th>17</th>\n",
       "      <td>vivo T2x 5G (Marine Blue, 128 GB)</td>\n",
       "      <td>6 GB RAM | 128 GB ROM</td>\n",
       "      <td>50MP + 2MP | 8MP Front Camera</td>\n",
       "      <td>16.71 cm (6.58 inch) Full HD+ Display</td>\n",
       "      <td>Mediatek Dimensity 6020 Processor</td>\n",
       "      <td>5000 mAh Battery</td>\n",
       "      <td>₹12,999</td>\n",
       "    </tr>\n",
       "    <tr>\n",
       "      <th>18</th>\n",
       "      <td>vivo T2x 5G (Glimmer Black, 128 GB)</td>\n",
       "      <td>4 GB RAM | 128 GB ROM</td>\n",
       "      <td>50MP + 2MP | 8MP Front Camera</td>\n",
       "      <td>16.71 cm (6.58 inch) Full HD+ Display</td>\n",
       "      <td>Mediatek Dimensity 6020 Processor</td>\n",
       "      <td>5000 mAh Battery</td>\n",
       "      <td>₹11,999</td>\n",
       "    </tr>\n",
       "    <tr>\n",
       "      <th>19</th>\n",
       "      <td>Apple iPhone 15 Plus (Black, 128 GB)</td>\n",
       "      <td>128 GB ROM</td>\n",
       "      <td>48MP + 12MP | 12MP Front Camera</td>\n",
       "      <td>17.02 cm (6.7 inch) Super Retina XDR Display</td>\n",
       "      <td>1 Year Warranty for Phone and 6 Months Warrant...</td>\n",
       "      <td>A16 Bionic Chip, 6 Core Processor Processor</td>\n",
       "      <td>₹82,999</td>\n",
       "    </tr>\n",
       "    <tr>\n",
       "      <th>20</th>\n",
       "      <td>Motorola g54 5G (Pearl Blue, 128 GB)</td>\n",
       "      <td>8 GB RAM | 128 GB ROM | Expandable Upto 1 TB</td>\n",
       "      <td>50MP (OIS) + 8MP | 16MP Front Camera</td>\n",
       "      <td>16.51 cm (6.5 inch) Full HD+ Display</td>\n",
       "      <td>Dimensity 7020 Processor</td>\n",
       "      <td>6000 mAh Battery</td>\n",
       "      <td>₹13,999</td>\n",
       "    </tr>\n",
       "    <tr>\n",
       "      <th>21</th>\n",
       "      <td>vivo T2x 5G (Glimmer Black, 128 GB)</td>\n",
       "      <td>6 GB RAM | 128 GB ROM</td>\n",
       "      <td>50MP + 2MP | 8MP Front Camera</td>\n",
       "      <td>16.71 cm (6.58 inch) Full HD+ Display</td>\n",
       "      <td>Mediatek Dimensity 6020 Processor</td>\n",
       "      <td>5000 mAh Battery</td>\n",
       "      <td>₹12,999</td>\n",
       "    </tr>\n",
       "    <tr>\n",
       "      <th>22</th>\n",
       "      <td>vivo T2x 5G (Aurora Gold, 128 GB)</td>\n",
       "      <td>6 GB RAM | 128 GB ROM</td>\n",
       "      <td>50MP + 2MP | 8MP Front Camera</td>\n",
       "      <td>16.71 cm (6.58 inch) Full HD+ Display</td>\n",
       "      <td>Mediatek Dimensity 6020 Processor</td>\n",
       "      <td>5000 mAh Battery</td>\n",
       "      <td>₹12,999</td>\n",
       "    </tr>\n",
       "    <tr>\n",
       "      <th>23</th>\n",
       "      <td>Motorola G34 5G (Ice Blue, 128 GB)</td>\n",
       "      <td>4 GB RAM | 128 GB ROM</td>\n",
       "      <td>50MP + 2MP | 16MP Front Camera</td>\n",
       "      <td>16.51 cm (6.5 inch) HD+ Display</td>\n",
       "      <td>Snapdragon 695 5G Processor</td>\n",
       "      <td>5000 mAh Battery</td>\n",
       "      <td>₹10,999</td>\n",
       "    </tr>\n",
       "  </tbody>\n",
       "</table>\n",
       "</div>"
      ],
      "text/plain": [
       "                                     Brand_Name  \\\n",
       "0         Motorola G34 5G (Ocean Green, 128 GB)   \n",
       "1                Apple iPhone 15 (Blue, 128 GB)   \n",
       "2               Apple iPhone 15 (Black, 128 GB)   \n",
       "3                Apple iPhone 15 (Pink, 128 GB)   \n",
       "4              vivo T2 5G (Nitro Blaze, 128 GB)   \n",
       "5              vivo T2 5G (Nitro Blaze, 128 GB)   \n",
       "6            vivo T2 5G (Velocity Wave, 128 GB)   \n",
       "7            vivo T2 5G (Velocity Wave, 128 GB)   \n",
       "8               Apple iPhone 15 (Green, 128 GB)   \n",
       "9         Motorola G34 5G (Ocean Green, 128 GB)   \n",
       "10       SAMSUNG Galaxy F04 (Opal Green, 64 GB)   \n",
       "11      Motorola g54 5G (Midnight Blue, 128 GB)   \n",
       "12                 POCO C51 (Royal Blue, 64 GB)   \n",
       "13  Motorola Edge 40 Neo (Soothing Sea, 128 GB)   \n",
       "14              POCO M6 5G (Orion Blue, 128 GB)   \n",
       "15            vivo T2x 5G (Aurora Gold, 128 GB)   \n",
       "16         Motorola g54 5G (Mint Green, 256 GB)   \n",
       "17            vivo T2x 5G (Marine Blue, 128 GB)   \n",
       "18          vivo T2x 5G (Glimmer Black, 128 GB)   \n",
       "19         Apple iPhone 15 Plus (Black, 128 GB)   \n",
       "20         Motorola g54 5G (Pearl Blue, 128 GB)   \n",
       "21          vivo T2x 5G (Glimmer Black, 128 GB)   \n",
       "22            vivo T2x 5G (Aurora Gold, 128 GB)   \n",
       "23           Motorola G34 5G (Ice Blue, 128 GB)   \n",
       "\n",
       "                                  Storage_RAM_ROM  \\\n",
       "0                           8 GB RAM | 128 GB ROM   \n",
       "1                                      128 GB ROM   \n",
       "2                                      128 GB ROM   \n",
       "3                                      128 GB ROM   \n",
       "4                           6 GB RAM | 128 GB ROM   \n",
       "5                           8 GB RAM | 128 GB ROM   \n",
       "6                           6 GB RAM | 128 GB ROM   \n",
       "7                           8 GB RAM | 128 GB ROM   \n",
       "8                                      128 GB ROM   \n",
       "9                           4 GB RAM | 128 GB ROM   \n",
       "10    4 GB RAM | 64 GB ROM | Expandable Upto 1 TB   \n",
       "11   8 GB RAM | 128 GB ROM | Expandable Upto 1 TB   \n",
       "12    4 GB RAM | 64 GB ROM | Expandable Upto 1 TB   \n",
       "13                          8 GB RAM | 128 GB ROM   \n",
       "14   4 GB RAM | 128 GB ROM | Expandable Upto 1 TB   \n",
       "15                          8 GB RAM | 128 GB ROM   \n",
       "16  12 GB RAM | 256 GB ROM | Expandable Upto 1 TB   \n",
       "17                          6 GB RAM | 128 GB ROM   \n",
       "18                          4 GB RAM | 128 GB ROM   \n",
       "19                                     128 GB ROM   \n",
       "20   8 GB RAM | 128 GB ROM | Expandable Upto 1 TB   \n",
       "21                          6 GB RAM | 128 GB ROM   \n",
       "22                          6 GB RAM | 128 GB ROM   \n",
       "23                          4 GB RAM | 128 GB ROM   \n",
       "\n",
       "                          Amount P_F_Camera  \\\n",
       "0            50MP + 2MP | 16MP Front Camera   \n",
       "1           48MP + 12MP | 12MP Front Camera   \n",
       "2           48MP + 12MP | 12MP Front Camera   \n",
       "3           48MP + 12MP | 12MP Front Camera   \n",
       "4     64 MP (OIS) + 2MP | 16MP Front Camera   \n",
       "5     64 MP (OIS) + 2MP | 16MP Front Camera   \n",
       "6     64 MP (OIS) + 2MP | 16MP Front Camera   \n",
       "7     64 MP (OIS) + 2MP | 16MP Front Camera   \n",
       "8           48MP + 12MP | 12MP Front Camera   \n",
       "9            50MP + 2MP | 16MP Front Camera   \n",
       "10            13MP + 2MP | 5MP Front Camera   \n",
       "11     50MP (OIS) + 8MP | 16MP Front Camera   \n",
       "12  8MP Dual Rear Camera | 5MP Front Camera   \n",
       "13          50MP + 13MP | 32MP Front Camera   \n",
       "14                         50MP Rear Camera   \n",
       "15            50MP + 2MP | 8MP Front Camera   \n",
       "16     50MP (OIS) + 8MP | 16MP Front Camera   \n",
       "17            50MP + 2MP | 8MP Front Camera   \n",
       "18            50MP + 2MP | 8MP Front Camera   \n",
       "19          48MP + 12MP | 12MP Front Camera   \n",
       "20     50MP (OIS) + 8MP | 16MP Front Camera   \n",
       "21            50MP + 2MP | 8MP Front Camera   \n",
       "22            50MP + 2MP | 8MP Front Camera   \n",
       "23           50MP + 2MP | 16MP Front Camera   \n",
       "\n",
       "                         Display_size_Resolution  \\\n",
       "0                16.51 cm (6.5 inch) HD+ Display   \n",
       "1   15.49 cm (6.1 inch) Super Retina XDR Display   \n",
       "2   15.49 cm (6.1 inch) Super Retina XDR Display   \n",
       "3   15.49 cm (6.1 inch) Super Retina XDR Display   \n",
       "4          16.21 cm (6.38 inch) Full HD+ Display   \n",
       "5          16.21 cm (6.38 inch) Full HD+ Display   \n",
       "6          16.21 cm (6.38 inch) Full HD+ Display   \n",
       "7          16.21 cm (6.38 inch) Full HD+ Display   \n",
       "8   15.49 cm (6.1 inch) Super Retina XDR Display   \n",
       "9                16.51 cm (6.5 inch) HD+ Display   \n",
       "10                16.51 cm (6.5 inch) HD Display   \n",
       "11          16.51 cm (6.5 inch) Full HD+ Display   \n",
       "12              16.56 cm (6.52 inch) HD+ Display   \n",
       "13         16.64 cm (6.55 inch) Full HD+ Display   \n",
       "14              17.12 cm (6.74 inch) HD+ Display   \n",
       "15         16.71 cm (6.58 inch) Full HD+ Display   \n",
       "16          16.51 cm (6.5 inch) Full HD+ Display   \n",
       "17         16.71 cm (6.58 inch) Full HD+ Display   \n",
       "18         16.71 cm (6.58 inch) Full HD+ Display   \n",
       "19  17.02 cm (6.7 inch) Super Retina XDR Display   \n",
       "20          16.51 cm (6.5 inch) Full HD+ Display   \n",
       "21         16.71 cm (6.58 inch) Full HD+ Display   \n",
       "22         16.71 cm (6.58 inch) Full HD+ Display   \n",
       "23               16.51 cm (6.5 inch) HD+ Display   \n",
       "\n",
       "                                    ProcessorAndCores  \\\n",
       "0                         Snapdragon 695 5G Processor   \n",
       "1   1 Year Warranty for Phone and 6 Months Warrant...   \n",
       "2   1 Year Warranty for Phone and 6 Months Warrant...   \n",
       "3   1 Year Warranty for Phone and 6 Months Warrant...   \n",
       "4                            Snapdragon 695 Processor   \n",
       "5                            Snapdragon 695 Processor   \n",
       "6                            Snapdragon 695 Processor   \n",
       "7                            Snapdragon 695 Processor   \n",
       "8   1 Year Warranty for Phone and 6 Months Warrant...   \n",
       "9                         Snapdragon 695 5G Processor   \n",
       "10                       Mediatek Helio P35 Processor   \n",
       "11                           Dimensity 7020 Processor   \n",
       "12                                Helio G36 Processor   \n",
       "13                           Dimensity 7030 Processor   \n",
       "14                          Dimensity 6100+ Processor   \n",
       "15                  Mediatek Dimensity 6020 Processor   \n",
       "16                           Dimensity 7020 Processor   \n",
       "17                  Mediatek Dimensity 6020 Processor   \n",
       "18                  Mediatek Dimensity 6020 Processor   \n",
       "19  1 Year Warranty for Phone and 6 Months Warrant...   \n",
       "20                           Dimensity 7020 Processor   \n",
       "21                  Mediatek Dimensity 6020 Processor   \n",
       "22                  Mediatek Dimensity 6020 Processor   \n",
       "23                        Snapdragon 695 5G Processor   \n",
       "\n",
       "                                        Battery    Price  \n",
       "0                              5000 mAh Battery  ₹11,999  \n",
       "1   A16 Bionic Chip, 6 Core Processor Processor  ₹65,999  \n",
       "2   A16 Bionic Chip, 6 Core Processor Processor  ₹65,999  \n",
       "3   A16 Bionic Chip, 6 Core Processor Processor  ₹65,999  \n",
       "4                              4500 mAh Battery  ₹15,999  \n",
       "5                              4500 mAh Battery  ₹17,999  \n",
       "6                              4500 mAh Battery  ₹15,999  \n",
       "7                              4500 mAh Battery  ₹17,999  \n",
       "8   A16 Bionic Chip, 6 Core Processor Processor  ₹65,999  \n",
       "9                              5000 mAh Battery  ₹10,999  \n",
       "10                 5000 mAh Lithium-Ion Battery   ₹5,999  \n",
       "11                             6000 mAh Battery  ₹13,999  \n",
       "12                             5000 mAh Battery   ₹5,499  \n",
       "13                             5000 mAh Battery  ₹22,999  \n",
       "14                             5000 mAh Battery   ₹9,499  \n",
       "15                             5000 mAh Battery  ₹14,999  \n",
       "16                             6000 mAh Battery  ₹15,999  \n",
       "17                             5000 mAh Battery  ₹12,999  \n",
       "18                             5000 mAh Battery  ₹11,999  \n",
       "19  A16 Bionic Chip, 6 Core Processor Processor  ₹82,999  \n",
       "20                             6000 mAh Battery  ₹13,999  \n",
       "21                             5000 mAh Battery  ₹12,999  \n",
       "22                             5000 mAh Battery  ₹12,999  \n",
       "23                             5000 mAh Battery  ₹10,999  "
      ]
     },
     "execution_count": 89,
     "metadata": {},
     "output_type": "execute_result"
    }
   ],
   "source": [
    "FlipKart=pd.DataFrame([])\n",
    "FlipKart['Brand_Name']=Brand_Name\n",
    "FlipKart['Storage_RAM_ROM']=Storage_RAM_ROM\n",
    "FlipKart['Amount P_F_Camera']=P_F_Camera\n",
    "FlipKart['Display_size_Resolution']=Display_size_Resolution\n",
    "FlipKart['ProcessorAndCores']=ProcessorAndCores\n",
    "FlipKart['Battery']=Battery\n",
    "FlipKart['Price']=Price\n",
    "\n",
    "FlipKart"
   ]
  },
  {
   "cell_type": "code",
   "execution_count": null,
   "id": "f92522a7",
   "metadata": {},
   "outputs": [],
   "source": []
  },
  {
   "cell_type": "code",
   "execution_count": null,
   "id": "7f51dea3",
   "metadata": {},
   "outputs": [],
   "source": []
  },
  {
   "cell_type": "code",
   "execution_count": null,
   "id": "ed98d224",
   "metadata": {},
   "outputs": [],
   "source": []
  },
  {
   "cell_type": "code",
   "execution_count": null,
   "id": "adc2448c",
   "metadata": {},
   "outputs": [],
   "source": []
  },
  {
   "cell_type": "code",
   "execution_count": null,
   "id": "477b40bc",
   "metadata": {},
   "outputs": [],
   "source": [
    "#Q5 Write a program to scrap geospatial coordinates (latitude, longitude) of a city searched on google maps. "
   ]
  },
  {
   "cell_type": "code",
   "execution_count": 1,
   "id": "94d1103b",
   "metadata": {},
   "outputs": [],
   "source": [
    "import selenium\n",
    "from selenium import webdriver\n",
    "from selenium.webdriver.common.by import By\n",
    "import pandas as pd\n",
    "import warnings\n",
    "warnings.filterwarnings('ignore')\n",
    "import time\n",
    "from selenium.webdriver.common.keys import Keys\n",
    "from selenium.webdriver.support.ui import WebDriverWait\n",
    "from selenium.webdriver.support import expected_conditions as EC\n",
    "import re"
   ]
  },
  {
   "cell_type": "code",
   "execution_count": 2,
   "id": "1598dfee",
   "metadata": {},
   "outputs": [],
   "source": [
    "driver=webdriver.Chrome()"
   ]
  },
  {
   "cell_type": "code",
   "execution_count": 3,
   "id": "5a56940e",
   "metadata": {},
   "outputs": [],
   "source": [
    "driver.get(\"https://www.google.co.in/maps\")\n",
    "time.sleep(5)"
   ]
  },
  {
   "cell_type": "code",
   "execution_count": 5,
   "id": "dd9e1d99",
   "metadata": {},
   "outputs": [
    {
     "name": "stdout",
     "output_type": "stream",
     "text": [
      "city name:kolkata\n",
      "URL Extracted:  https://www.google.co.in/maps/place/Kolkata,+West+Bengal/@22.5353434,88.1825388,11z/data=!3m1!4b1!4m6!3m5!1s0x39f882db4908f667:0x43e330e68f6c2cbc!8m2!3d22.572646!4d88.363895!16zL20vMGN2dzk?entry=ttu\n",
      "Latitude = 22.5353434, Longitude = 88.1825388\n"
     ]
    }
   ],
   "source": [
    "city=input('city name:')\n",
    "search=driver.find_element(By.ID,\"searchboxinput\")\n",
    "search.clear()\n",
    "time.sleep(5)\n",
    "search.send_keys(city)\n",
    "button=driver.find_element(By.ID,\"searchbox-searchbutton\")\n",
    "button.click()\n",
    "\n",
    "try:\n",
    "    url_string = driver.current_url\n",
    "    print(\"URL Extracted: \", url_string)\n",
    "    lat_lng = re.findall(r'@(.*)data',url_string)\n",
    "    if len(lat_lng):\n",
    "        lat_lng_list = lat_lng[0].split(\",\")\n",
    "        if len(lat_lng_list)>=2:\n",
    "            lat = lat_lng_list[0]\n",
    "            lng = lat_lng_list[1]\n",
    "        print(\"Latitude = {}, Longitude = {}\".format(lat, lng))\n",
    "\n",
    "except Exception as e:\n",
    "        print(\"Error: \", str(e))"
   ]
  },
  {
   "cell_type": "code",
   "execution_count": null,
   "id": "c3ffbfdb",
   "metadata": {},
   "outputs": [],
   "source": []
  },
  {
   "cell_type": "code",
   "execution_count": null,
   "id": "ecb71ca7",
   "metadata": {},
   "outputs": [],
   "source": [
    "#Q6 Write a program to scrap all the available details of best gaming laptops from digit.in. "
   ]
  },
  {
   "cell_type": "code",
   "execution_count": 1,
   "id": "1d8965a4",
   "metadata": {},
   "outputs": [],
   "source": [
    "import selenium\n",
    "from selenium import webdriver\n",
    "from selenium.webdriver.common.by import By\n",
    "import pandas as pd\n",
    "import warnings\n",
    "warnings.filterwarnings('ignore')\n",
    "import time\n",
    "from selenium.webdriver.common.keys import Keys\n",
    "from selenium.webdriver.support.ui import WebDriverWait\n",
    "from selenium.webdriver.support import expected_conditions as EC\n",
    "import re"
   ]
  },
  {
   "cell_type": "code",
   "execution_count": 2,
   "id": "09fce201",
   "metadata": {},
   "outputs": [],
   "source": [
    "driver=webdriver.Chrome()\n",
    "driver.get(\"https://www.digit.in/\")"
   ]
  },
  {
   "cell_type": "code",
   "execution_count": 3,
   "id": "acd28efc",
   "metadata": {},
   "outputs": [
    {
     "data": {
      "text/plain": [
       "<selenium.webdriver.remote.webelement.WebElement (session=\"38debfba42b964bafe16139b57e3324d\", element=\"F274DF1202E32BC2F832344690B4C92D_element_4\")>"
      ]
     },
     "execution_count": 3,
     "metadata": {},
     "output_type": "execute_result"
    }
   ],
   "source": [
    "search_bar=driver.find_element(By.ID,\"woocommerce-product-search-field-0\")\n",
    "search_bar\n",
    "\n",
    "#search.send_keys('gaming laptop')\n",
    "\n",
    "\n"
   ]
  },
  {
   "cell_type": "code",
   "execution_count": 4,
   "id": "cdc133d1",
   "metadata": {},
   "outputs": [],
   "source": [
    "search_bar.send_keys('gaming laptop')\n"
   ]
  },
  {
   "cell_type": "code",
   "execution_count": 5,
   "id": "4c6467ba",
   "metadata": {},
   "outputs": [],
   "source": [
    "search_btn=driver.find_element(By.XPATH,\"/html/body/div[1]/header/div/div[1]/div/div/div[2]/form/button\")\n",
    "search_btn.click()"
   ]
  },
  {
   "cell_type": "code",
   "execution_count": 6,
   "id": "a02e1ddf",
   "metadata": {},
   "outputs": [],
   "source": [
    "Brands=[]\n",
    "Products_Description=[]\n",
    "Specification=[]\n",
    "Price=[]"
   ]
  },
  {
   "cell_type": "code",
   "execution_count": 7,
   "id": "c10dc694",
   "metadata": {},
   "outputs": [
    {
     "data": {
      "text/plain": [
       "2"
      ]
     },
     "execution_count": 7,
     "metadata": {},
     "output_type": "execute_result"
    }
   ],
   "source": [
    "br=driver.find_elements(By.XPATH,\"\")\n",
    "len(br)\n",
    "#print(br)"
   ]
  },
  {
   "cell_type": "code",
   "execution_count": 9,
   "id": "06a3e8f4",
   "metadata": {},
   "outputs": [
    {
     "data": {
      "text/plain": [
       "['', 'Dell G15 5520 Gaming Laptop', '', 'Dell G15 5520 Gaming Laptop']"
      ]
     },
     "execution_count": 9,
     "metadata": {},
     "output_type": "execute_result"
    }
   ],
   "source": [
    "for i in br:\n",
    "    Brands.append(str(i.text).replace(\"\\n\",\"\"))\n",
    "Brands"
   ]
  },
  {
   "cell_type": "code",
   "execution_count": null,
   "id": "de60f0b4",
   "metadata": {},
   "outputs": [],
   "source": []
  },
  {
   "cell_type": "code",
   "execution_count": null,
   "id": "0a3a6ee9",
   "metadata": {},
   "outputs": [],
   "source": []
  },
  {
   "cell_type": "code",
   "execution_count": null,
   "id": "a4418ee7",
   "metadata": {},
   "outputs": [],
   "source": []
  },
  {
   "cell_type": "code",
   "execution_count": null,
   "id": "4e9c5cbf",
   "metadata": {},
   "outputs": [],
   "source": [
    "#Q7 Write a python program to scrape the details for all billionaires from www.forbes.com. Details to be scrapped:\n",
    "#“Rank”, “Name”, “Net worth”, “Age”, “Citizenship”, “Source”, “Industry”. "
   ]
  },
  {
   "cell_type": "code",
   "execution_count": 16,
   "id": "d3558290",
   "metadata": {},
   "outputs": [],
   "source": [
    "import selenium\n",
    "from selenium import webdriver\n",
    "from selenium.webdriver.common.by import By\n",
    "import pandas as pd\n",
    "import warnings\n",
    "warnings.filterwarnings('ignore')\n",
    "import time\n",
    "from selenium.webdriver.common.keys import Keys\n",
    "from selenium.webdriver.support.ui import WebDriverWait\n",
    "from selenium.webdriver.support import expected_conditions as EC\n",
    "import re"
   ]
  },
  {
   "cell_type": "code",
   "execution_count": 17,
   "id": "6f44c57a",
   "metadata": {},
   "outputs": [],
   "source": [
    "driver=webdriver.Chrome()\n",
    "driver.get(\"https://www.forbes.com/\")"
   ]
  },
  {
   "cell_type": "code",
   "execution_count": 18,
   "id": "6d131a4c",
   "metadata": {},
   "outputs": [],
   "source": [
    "#search_bar=driver.find_element(By.CLASS_NAME,\"icon--search\")\n",
    "search_bar=driver.find_element(By.CLASS_NAME,\"_69hVhdY4\")\n",
    "search_bar.click()"
   ]
  },
  {
   "cell_type": "code",
   "execution_count": 19,
   "id": "78af5654",
   "metadata": {},
   "outputs": [],
   "source": [
    "#search_bar1=driver.find_element(By.CLASS_NAME,\"search-modal__input\")\n",
    "#search_bar1=driver.find_element(By.XPATH,\"\")\n",
    "search_bar1=driver.find_element(By.XPATH,'//*[name()=\"svg\" and @class=\"chevron-right_svg__fs-icon chevron-right_svg__fs-icon--chevron-right\"]')\n",
    "search_bar1.click()\n",
    "#search_bar1.send_keys('billionaires list')"
   ]
  },
  {
   "cell_type": "code",
   "execution_count": 20,
   "id": "65cb01a4",
   "metadata": {},
   "outputs": [],
   "source": [
    "search_bar2=driver.find_element(By.XPATH,\"/html/body/div[1]/header/nav/div[1]/div[1]/div/div[2]/ul/li[2]/div[2]/div[3]/ul/li[1]/a\")\n",
    "search_bar2.click()"
   ]
  },
  {
   "cell_type": "code",
   "execution_count": 21,
   "id": "1f4daced",
   "metadata": {},
   "outputs": [],
   "source": [
    "rank=[]\n",
    "name=[]\n",
    "net_worth=[]\n",
    "age=[]\n",
    "citizen=[]\n",
    "source=[]\n",
    "industry=[]"
   ]
  },
  {
   "cell_type": "code",
   "execution_count": 22,
   "id": "704893ca",
   "metadata": {},
   "outputs": [],
   "source": [
    "#scraping rank\n",
    "Rank=driver.find_elements(By.CLASS_NAME,\"Table_rank___YBhk Table_dataCell__2QCve\")\n",
    "for i in Rank:\n",
    "    rank.append(i.text)\n",
    "    print(rank)"
   ]
  },
  {
   "cell_type": "code",
   "execution_count": 23,
   "id": "7ab30368",
   "metadata": {},
   "outputs": [],
   "source": [
    "#scraping name\n",
    "\n",
    "Name=driver.find_elements(By.XPATH,\"/html/bdiv[1]/div[1]/div[2]/div[1]/div[1]/div[2]/div\")\n",
    "for j in Name[:1]:\n",
    "    name.append(j.text)\n",
    "    print(name[:10])"
   ]
  },
  {
   "cell_type": "code",
   "execution_count": null,
   "id": "d704baec",
   "metadata": {},
   "outputs": [],
   "source": []
  },
  {
   "cell_type": "code",
   "execution_count": null,
   "id": "2b9ff9ef",
   "metadata": {},
   "outputs": [],
   "source": []
  },
  {
   "cell_type": "code",
   "execution_count": null,
   "id": "85aef5ab",
   "metadata": {},
   "outputs": [],
   "source": []
  },
  {
   "cell_type": "code",
   "execution_count": 15,
   "id": "9ec26986",
   "metadata": {},
   "outputs": [],
   "source": [
    "#Q9\n",
    "import requests\n",
    "from bs4 import BeautifulSoup\n",
    "\n",
    "# Send a GET request to the website\n",
    "url = \"https://www.hostelworld.com/hostels/London\"\n",
    "response = requests.get(url)\n",
    "\n",
    "# Create a BeautifulSoup object to parse the HTML content\n",
    "soup = BeautifulSoup(response.content, \"html.parser\")\n",
    "\n",
    "# Find all the hostel containers\n",
    "hostels = soup.find_all(\"div\", class_=\"fabresult\")\n",
    "\n",
    "# Iterate over each hostel container and extract the required information\n",
    "for hostel in hostels:\n",
    "  # Extract hostel name\n",
    "    name = hostel.find(\"h2\", class_=\"fabresult-title\").text.strip()\n",
    "  \n",
    "  # Extract distance from city centre\n",
    "    distance = hostel.find(\"span\", class_=\"distance\").text.strip()\n",
    "  \n",
    "  # Extract ratings\n",
    "    ratings = hostel.find(\"div\", class_=\"rating\").text.strip()\n",
    "  \n",
    "  # Extract total reviews\n",
    "    total_reviews = hostel.find(\"div\", class_=\"reviews\").text.strip()\n",
    "  \n",
    "  # Extract overall reviews\n",
    "    overall_reviews = hostel.find(\"div\", class_=\"overall\").text.strip()\n",
    "  \n",
    "  # Extract privates from price\n",
    "    privates_price = hostel.find(\"div\", class_=\"price-col\").find(\"div\", class_=\"price\").text.strip()\n",
    "  \n",
    "  # Extract dorms from price\n",
    "    dorms_price = hostel.find(\"div\", class_=\"price-col\").find(\"div\", class_=\"price\").find_next_sibling(\"div\", class_=\"price\").text.strip()\n",
    "  \n",
    "  # Extract facilities\n",
    "    facilities = hostel.find(\"div\", class_=\"facilities\").text.strip()\n",
    "  \n",
    "  # Extract property description\n",
    "    description = hostel.find(\"div\", class_=\"description\").text.strip()\n",
    "  \n",
    "  # Print the extracted information\n",
    "    print(\"Hostel Name:\", name)\n",
    "    print(\"Distance from City Centre:\", distance)\n",
    "    print(\"Ratings:\", ratings)\n",
    "    print(\"Total Reviews:\", total_reviews)\n",
    "    print(\"Overall Reviews:\", overall_reviews)\n",
    "    print(\"Privates from Price:\", privates_price)\n",
    "    print(\"Dorms from Price:\", dorms_price)\n",
    "    print(\"Facilities:\", facilities)\n",
    "    print(\"Property Description:\", description)\n",
    "    print()"
   ]
  },
  {
   "cell_type": "code",
   "execution_count": null,
   "id": "7ac017d0",
   "metadata": {},
   "outputs": [],
   "source": []
  },
  {
   "cell_type": "code",
   "execution_count": null,
   "id": "f264f3ba",
   "metadata": {},
   "outputs": [],
   "source": []
  },
  {
   "cell_type": "code",
   "execution_count": 6,
   "id": "d0a3bfc7",
   "metadata": {},
   "outputs": [
    {
     "ename": "WebDriverException",
     "evalue": "Message: no such execution context\n  (Session info: chrome=121.0.6167.185)\nStacktrace:\n\tGetHandleVerifier [0x00007FF6CE327012+3522402]\n\t(No symbol) [0x00007FF6CDF48352]\n\t(No symbol) [0x00007FF6CDDF596D]\n\t(No symbol) [0x00007FF6CDDE33A6]\n\t(No symbol) [0x00007FF6CDDE13D1]\n\t(No symbol) [0x00007FF6CDDE1E3F]\n\t(No symbol) [0x00007FF6CDDEFB40]\n\t(No symbol) [0x00007FF6CDE01D43]\n\t(No symbol) [0x00007FF6CDE0618A]\n\t(No symbol) [0x00007FF6CDDE2400]\n\t(No symbol) [0x00007FF6CDE01913]\n\t(No symbol) [0x00007FF6CDE7C102]\n\t(No symbol) [0x00007FF6CDE5EE03]\n\t(No symbol) [0x00007FF6CDE2F4D4]\n\t(No symbol) [0x00007FF6CDE305F1]\n\tGetHandleVerifier [0x00007FF6CE359B9D+3730157]\n\tGetHandleVerifier [0x00007FF6CE3AF02D+4079485]\n\tGetHandleVerifier [0x00007FF6CE3A75D3+4048163]\n\tGetHandleVerifier [0x00007FF6CE07A649+718233]\n\t(No symbol) [0x00007FF6CDF54A3F]\n\t(No symbol) [0x00007FF6CDF4FA94]\n\t(No symbol) [0x00007FF6CDF4FBC2]\n\t(No symbol) [0x00007FF6CDF3F2E4]\n\tBaseThreadInitThunk [0x00007FFCBBF9257D+29]\n\tRtlUserThreadStart [0x00007FFCBCB8AA58+40]\n",
     "output_type": "error",
     "traceback": [
      "\u001b[1;31m---------------------------------------------------------------------------\u001b[0m",
      "\u001b[1;31mWebDriverException\u001b[0m                        Traceback (most recent call last)",
      "Cell \u001b[1;32mIn[6], line 17\u001b[0m\n\u001b[0;32m     15\u001b[0m driver \u001b[38;5;241m=\u001b[39m webdriver\u001b[38;5;241m.\u001b[39mChrome()  \n\u001b[0;32m     16\u001b[0m \u001b[38;5;66;03m# Open the YouTube video  \u001b[39;00m\n\u001b[1;32m---> 17\u001b[0m driver\u001b[38;5;241m.\u001b[39mget(\u001b[38;5;124m'\u001b[39m\u001b[38;5;124mhttps://www.youtube.com/watch?v=L-gu52eVHhk\u001b[39m\u001b[38;5;124m'\u001b[39m)\n\u001b[0;32m     19\u001b[0m \u001b[38;5;66;03m# Scroll to load comments\u001b[39;00m\n\u001b[0;32m     20\u001b[0m scroll_pause_time \u001b[38;5;241m=\u001b[39m \u001b[38;5;241m2\u001b[39m  \u001b[38;5;66;03m# Adjust the pause time as needed\u001b[39;00m\n",
      "File \u001b[1;32m~\\anaconda3\\Lib\\site-packages\\selenium\\webdriver\\remote\\webdriver.py:356\u001b[0m, in \u001b[0;36mWebDriver.get\u001b[1;34m(self, url)\u001b[0m\n\u001b[0;32m    354\u001b[0m \u001b[38;5;28;01mdef\u001b[39;00m \u001b[38;5;21mget\u001b[39m(\u001b[38;5;28mself\u001b[39m, url: \u001b[38;5;28mstr\u001b[39m) \u001b[38;5;241m-\u001b[39m\u001b[38;5;241m>\u001b[39m \u001b[38;5;28;01mNone\u001b[39;00m:\n\u001b[0;32m    355\u001b[0m \u001b[38;5;250m    \u001b[39m\u001b[38;5;124;03m\"\"\"Loads a web page in the current browser session.\"\"\"\u001b[39;00m\n\u001b[1;32m--> 356\u001b[0m     \u001b[38;5;28mself\u001b[39m\u001b[38;5;241m.\u001b[39mexecute(Command\u001b[38;5;241m.\u001b[39mGET, {\u001b[38;5;124m\"\u001b[39m\u001b[38;5;124murl\u001b[39m\u001b[38;5;124m\"\u001b[39m: url})\n",
      "File \u001b[1;32m~\\anaconda3\\Lib\\site-packages\\selenium\\webdriver\\remote\\webdriver.py:347\u001b[0m, in \u001b[0;36mWebDriver.execute\u001b[1;34m(self, driver_command, params)\u001b[0m\n\u001b[0;32m    345\u001b[0m response \u001b[38;5;241m=\u001b[39m \u001b[38;5;28mself\u001b[39m\u001b[38;5;241m.\u001b[39mcommand_executor\u001b[38;5;241m.\u001b[39mexecute(driver_command, params)\n\u001b[0;32m    346\u001b[0m \u001b[38;5;28;01mif\u001b[39;00m response:\n\u001b[1;32m--> 347\u001b[0m     \u001b[38;5;28mself\u001b[39m\u001b[38;5;241m.\u001b[39merror_handler\u001b[38;5;241m.\u001b[39mcheck_response(response)\n\u001b[0;32m    348\u001b[0m     response[\u001b[38;5;124m\"\u001b[39m\u001b[38;5;124mvalue\u001b[39m\u001b[38;5;124m\"\u001b[39m] \u001b[38;5;241m=\u001b[39m \u001b[38;5;28mself\u001b[39m\u001b[38;5;241m.\u001b[39m_unwrap_value(response\u001b[38;5;241m.\u001b[39mget(\u001b[38;5;124m\"\u001b[39m\u001b[38;5;124mvalue\u001b[39m\u001b[38;5;124m\"\u001b[39m, \u001b[38;5;28;01mNone\u001b[39;00m))\n\u001b[0;32m    349\u001b[0m     \u001b[38;5;28;01mreturn\u001b[39;00m response\n",
      "File \u001b[1;32m~\\anaconda3\\Lib\\site-packages\\selenium\\webdriver\\remote\\errorhandler.py:229\u001b[0m, in \u001b[0;36mErrorHandler.check_response\u001b[1;34m(self, response)\u001b[0m\n\u001b[0;32m    227\u001b[0m         alert_text \u001b[38;5;241m=\u001b[39m value[\u001b[38;5;124m\"\u001b[39m\u001b[38;5;124malert\u001b[39m\u001b[38;5;124m\"\u001b[39m]\u001b[38;5;241m.\u001b[39mget(\u001b[38;5;124m\"\u001b[39m\u001b[38;5;124mtext\u001b[39m\u001b[38;5;124m\"\u001b[39m)\n\u001b[0;32m    228\u001b[0m     \u001b[38;5;28;01mraise\u001b[39;00m exception_class(message, screen, stacktrace, alert_text)  \u001b[38;5;66;03m# type: ignore[call-arg]  # mypy is not smart enough here\u001b[39;00m\n\u001b[1;32m--> 229\u001b[0m \u001b[38;5;28;01mraise\u001b[39;00m exception_class(message, screen, stacktrace)\n",
      "\u001b[1;31mWebDriverException\u001b[0m: Message: no such execution context\n  (Session info: chrome=121.0.6167.185)\nStacktrace:\n\tGetHandleVerifier [0x00007FF6CE327012+3522402]\n\t(No symbol) [0x00007FF6CDF48352]\n\t(No symbol) [0x00007FF6CDDF596D]\n\t(No symbol) [0x00007FF6CDDE33A6]\n\t(No symbol) [0x00007FF6CDDE13D1]\n\t(No symbol) [0x00007FF6CDDE1E3F]\n\t(No symbol) [0x00007FF6CDDEFB40]\n\t(No symbol) [0x00007FF6CDE01D43]\n\t(No symbol) [0x00007FF6CDE0618A]\n\t(No symbol) [0x00007FF6CDDE2400]\n\t(No symbol) [0x00007FF6CDE01913]\n\t(No symbol) [0x00007FF6CDE7C102]\n\t(No symbol) [0x00007FF6CDE5EE03]\n\t(No symbol) [0x00007FF6CDE2F4D4]\n\t(No symbol) [0x00007FF6CDE305F1]\n\tGetHandleVerifier [0x00007FF6CE359B9D+3730157]\n\tGetHandleVerifier [0x00007FF6CE3AF02D+4079485]\n\tGetHandleVerifier [0x00007FF6CE3A75D3+4048163]\n\tGetHandleVerifier [0x00007FF6CE07A649+718233]\n\t(No symbol) [0x00007FF6CDF54A3F]\n\t(No symbol) [0x00007FF6CDF4FA94]\n\t(No symbol) [0x00007FF6CDF4FBC2]\n\t(No symbol) [0x00007FF6CDF3F2E4]\n\tBaseThreadInitThunk [0x00007FFCBBF9257D+29]\n\tRtlUserThreadStart [0x00007FFCBCB8AA58+40]\n"
     ]
    }
   ],
   "source": [
    "#Q8\n",
    "import selenium\n",
    "from selenium import webdriver\n",
    "from selenium.webdriver.common.by import By\n",
    "import pandas as pd\n",
    "import warnings\n",
    "warnings.filterwarnings('ignore')\n",
    "import time\n",
    "from selenium.webdriver.common.keys import Keys\n",
    "from selenium.webdriver.support.ui import WebDriverWait\n",
    "from selenium.webdriver.support import expected_conditions as EC\n",
    "import re\n",
    "\n",
    "\n",
    "# Set up the WebDriver\n",
    "driver = webdriver.Chrome()  \n",
    "# Open the YouTube video  \n",
    "driver.get('https://www.youtube.com/watch?v=L-gu52eVHhk')\n",
    "\n",
    "# Scroll to load comments\n",
    "scroll_pause_time = 2  # Adjust the pause time as needed\n",
    "scrolls = 10  # Adjust the number of scrolls as needed\n",
    "\n",
    "for _ in range(scrolls):\n",
    "    driver.execute_script(\"window.scrollTo(0, document.documentElement.scrollHeight);\")\n",
    "    time.sleep(scroll_pause_time)\n",
    "\n",
    "# Extract comments, upvotes, and time\n",
    "comments = driver.find_elements(By.XPATH,'//yt-formatted-string[@id=\"content-text\"]')\n",
    "upvotes = driver.find_elements(By.XPATH,'//span[@id=\"vote-count-middle\"]')\n",
    "times = driver.find_elements(By.XPATH,'//a[@class=\"yt-simple-endpoint style-scope yt-formatted-string\"]')\n",
    "\n",
    "# Store the extracted data\n",
    "extracted_data = []\n",
    "for comment, upvote, time in zip(comments, upvotes, times):\n",
    "    extracted_data.append({\n",
    "    'comment': comment.text,\n",
    "    'upvote': upvote.text,\n",
    "    'time': time.text\n",
    "  })\n",
    "\n",
    "# Close the WebDriver\n",
    "driver.quit()\n",
    "\n",
    "# Print the extracted data\n",
    "for data in extracted_data:\n",
    "    print(data)\n",
    "    \n",
    "    \n",
    "    \n",
    "    #######unable to perform due to this error/exception####### "
   ]
  },
  {
   "cell_type": "code",
   "execution_count": null,
   "id": "319e5f06",
   "metadata": {},
   "outputs": [],
   "source": []
  },
  {
   "cell_type": "code",
   "execution_count": 43,
   "id": "a97ffb93",
   "metadata": {},
   "outputs": [],
   "source": []
  },
  {
   "cell_type": "code",
   "execution_count": null,
   "id": "5dffb9d4",
   "metadata": {},
   "outputs": [],
   "source": []
  },
  {
   "cell_type": "code",
   "execution_count": null,
   "id": "a1e6d4f6",
   "metadata": {},
   "outputs": [],
   "source": []
  },
  {
   "cell_type": "code",
   "execution_count": null,
   "id": "c003d793",
   "metadata": {},
   "outputs": [],
   "source": []
  },
  {
   "cell_type": "code",
   "execution_count": null,
   "id": "57029697",
   "metadata": {},
   "outputs": [],
   "source": []
  },
  {
   "cell_type": "code",
   "execution_count": null,
   "id": "fb9e9680",
   "metadata": {},
   "outputs": [],
   "source": []
  },
  {
   "cell_type": "code",
   "execution_count": null,
   "id": "1ed7b2d5",
   "metadata": {},
   "outputs": [],
   "source": []
  },
  {
   "cell_type": "code",
   "execution_count": null,
   "id": "da56579e",
   "metadata": {},
   "outputs": [],
   "source": []
  },
  {
   "cell_type": "code",
   "execution_count": null,
   "id": "7470183b",
   "metadata": {},
   "outputs": [],
   "source": []
  },
  {
   "cell_type": "code",
   "execution_count": null,
   "id": "be1d7db1",
   "metadata": {},
   "outputs": [],
   "source": []
  },
  {
   "cell_type": "code",
   "execution_count": null,
   "id": "e8fb1e59",
   "metadata": {},
   "outputs": [],
   "source": []
  },
  {
   "cell_type": "code",
   "execution_count": null,
   "id": "3f14d628",
   "metadata": {},
   "outputs": [],
   "source": []
  },
  {
   "cell_type": "code",
   "execution_count": null,
   "id": "f44bb73f",
   "metadata": {},
   "outputs": [],
   "source": []
  },
  {
   "cell_type": "code",
   "execution_count": null,
   "id": "4e9ff37b",
   "metadata": {},
   "outputs": [],
   "source": []
  }
 ],
 "metadata": {
  "kernelspec": {
   "display_name": "Python 3 (ipykernel)",
   "language": "python",
   "name": "python3"
  },
  "language_info": {
   "codemirror_mode": {
    "name": "ipython",
    "version": 3
   },
   "file_extension": ".py",
   "mimetype": "text/x-python",
   "name": "python",
   "nbconvert_exporter": "python",
   "pygments_lexer": "ipython3",
   "version": "3.11.3"
  }
 },
 "nbformat": 4,
 "nbformat_minor": 5
}
